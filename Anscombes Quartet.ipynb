{
 "cells": [
  {
   "cell_type": "code",
   "execution_count": 1,
   "metadata": {},
   "outputs": [
    {
     "name": "stdout",
     "output_type": "stream",
     "text": [
      " AnscombesQuartet.csv\r\n",
      "'Anscombes Quartet.ipynb'\r\n",
      " BULLMARKET.csv\r\n",
      " \u001b[0m\u001b[01;34mDataCamp_Slides\u001b[0m/\r\n",
      " DataScience_Bootcamp.ipynb\r\n",
      " \u001b[01;34mExcercises\u001b[0m/\r\n",
      " \u001b[01;34mJupyter\u001b[0m/\r\n",
      " Regression.ipynb\r\n",
      " Scientific-Computation-Python-3-Hacking-4th-Edition.pdf\r\n",
      " \u001b[01;34mShapiro\u001b[0m/\r\n",
      " somedata.csv\r\n",
      " Untitled1.ipynb\r\n",
      " Untitled.ipynb\r\n",
      " \u001b[01;34mZambom\u001b[0m/\r\n"
     ]
    }
   ],
   "source": [
    "ls"
   ]
  },
  {
   "cell_type": "code",
   "execution_count": 35,
   "metadata": {},
   "outputs": [],
   "source": [
    "import pandas as pd\n",
    "import numpy as np\n",
    "import matplotlib.pyplot as plt\n",
    "%matplotlib inline"
   ]
  },
  {
   "cell_type": "code",
   "execution_count": 13,
   "metadata": {
    "scrolled": false
   },
   "outputs": [
    {
     "name": "stdout",
     "output_type": "stream",
     "text": [
      "    x1     y1  x2    y2  x3     y3  x4     y4\n",
      "0   10   8.04  10  9.14  10   7.46   8   6.58\n",
      "1    8   6.95   8  8.14   8   6.77   8   5.76\n",
      "2   13   7.58  13  8.74  13  12.74   8   7.71\n",
      "3    9   8.81   9  8.77   9   7.11   8   8.84\n",
      "4   11   8.33  11  9.26  11   7.81   8   8.47\n",
      "5   14   9.96  14  8.10  14   8.84   8   7.04\n",
      "6    6   7.24   6  6.13   6   6.08   8   5.25\n",
      "7    4   4.26   4  3.10   4   5.39  19  12.50\n",
      "8   12  10.84  12  9.13  12   8.15   8   5.56\n",
      "9    7   4.82   7  7.26   7   6.42   8   7.91\n",
      "10   5   5.68   5  4.74   5   5.73   8   6.89\n"
     ]
    }
   ],
   "source": [
    "df = pd.read_csv(\"AnscombesQuartet.csv\")\n",
    "print(df)"
   ]
  },
  {
   "cell_type": "code",
   "execution_count": 25,
   "metadata": {
    "scrolled": false
   },
   "outputs": [
    {
     "name": "stdout",
     "output_type": "stream",
     "text": [
      "x1    9.000000\n",
      "y1    7.500909\n",
      "x2    9.000000\n",
      "y2    7.500909\n",
      "x3    9.000000\n",
      "y3    7.500000\n",
      "x4    9.000000\n",
      "y4    7.500909\n",
      "dtype: float64\n",
      "x1    3.162278\n",
      "y1    1.937024\n",
      "x2    3.162278\n",
      "y2    1.937109\n",
      "x3    3.162278\n",
      "y3    1.935933\n",
      "x4    3.162278\n",
      "y4    1.936081\n",
      "dtype: float64\n",
      "[ 8.11997552  6.79482394  9.71861367  7.83151046 11.76588918  6.62305627\n",
      " 14.06637467  9.05973058]\n"
     ]
    }
   ],
   "source": [
    "mean = np.mean(df)\n",
    "std = np.std(df)\n",
    "samples = np.random.normal(mean, std)\n",
    "\n",
    "print(mean)\n",
    "print(std)\n",
    "print(samples)"
   ]
  },
  {
   "cell_type": "code",
   "execution_count": 82,
   "metadata": {},
   "outputs": [
    {
     "data": {
      "text/plain": [
       "Text(0.5, 1.0, 'Graph 1')"
      ]
     },
     "execution_count": 82,
     "metadata": {},
     "output_type": "execute_result"
    },
    {
     "data": {
      "image/png": "[encoded data removed]",
      "text/plain": [
       "<Figure size 432x288 with 1 Axes>"
      ]
     },
     "metadata": {
      "needs_background": "light"
     },
     "output_type": "display_data"
    }
   ],
   "source": [
    "#Graph 1\n",
    "x1=np.array(df[\"x1\"])\n",
    "y1=np.array(df[\"y1\"])\n",
    "\n",
    "plt.scatter(x1,y1,color=\"red\",marker=\"+\")\n",
    "plt.xlabel(\"X\")\n",
    "plt.ylabel(\"Y\")\n",
    "plt.grid()\n",
    "plt.title(\"Graph 1\")"
   ]
  },
  {
   "cell_type": "code",
   "execution_count": 87,
   "metadata": {
    "scrolled": true
   },
   "outputs": [
    {
     "data": {
      "text/plain": [
       "Text(0.5, 1.0, 'Graph 2')"
      ]
     },
     "execution_count": 87,
     "metadata": {},
     "output_type": "execute_result"
    },
    {
     "data": {
      "image/png": "[encoded data removed]",
      "text/plain": [
       "<Figure size 432x288 with 1 Axes>"
      ]
     },
     "metadata": {
      "needs_background": "light"
     },
     "output_type": "display_data"
    }
   ],
   "source": [
    "#Graph 2\n",
    "x2=np.array(df[\"x2\"])\n",
    "y2=np.array(df[\"y2\"])\n",
    "\n",
    "plt.scatter(x2,y2,color=\"blue\",marker=\"*\")\n",
    "plt.xlabel(\"X\")\n",
    "plt.ylabel(\"Y\")\n",
    "plt.grid()\n",
    "plt.title(\"Graph 2\")"
   ]
  },
  {
   "cell_type": "code",
   "execution_count": 90,
   "metadata": {},
   "outputs": [
    {
     "data": {
      "text/plain": [
       "Text(0.5, 1.0, 'Graph 3')"
      ]
     },
     "execution_count": 90,
     "metadata": {},
     "output_type": "execute_result"
    },
    {
     "data": {
      "image/png": "[encoded data removed]",
      "text/plain": [
       "<Figure size 432x288 with 1 Axes>"
      ]
     },
     "metadata": {
      "needs_background": "light"
     },
     "output_type": "display_data"
    }
   ],
   "source": [
    "#Graph 3\n",
    "x3=np.array(df[\"x3\"])\n",
    "y3=np.array(df[\"y3\"])\n",
    "\n",
    "plt.scatter(x3,y3,color=\"Green\",marker=\"+\")\n",
    "plt.xlabel(\"X\")\n",
    "plt.ylabel(\"Y\")\n",
    "plt.grid()\n",
    "plt.title(\"Graph 3\")"
   ]
  },
  {
   "cell_type": "code",
   "execution_count": 91,
   "metadata": {},
   "outputs": [
    {
     "data": {
      "text/plain": [
       "Text(0.5, 1.0, 'Graph 4')"
      ]
     },
     "execution_count": 91,
     "metadata": {},
     "output_type": "execute_result"
    },
    {
     "data": {
      "image/png": "[encoded data removed]",
      "text/plain": [
       "<Figure size 432x288 with 1 Axes>"
      ]
     },
     "metadata": {
      "needs_background": "light"
     },
     "output_type": "display_data"
    }
   ],
   "source": [
    "#Graph 4\n",
    "x4=np.array(df[\"x4\"])\n",
    "y4=np.array(df[\"y4\"])\n",
    "\n",
    "plt.scatter(x4,y4,color=\"Purple\",marker=\"*\")\n",
    "plt.xlabel(\"X\")\n",
    "plt.ylabel(\"Y\")\n",
    "plt.grid()\n",
    "plt.title(\"Graph 4\")"
   ]
  },
  {
   "cell_type": "code",
   "execution_count": 105,
   "metadata": {},
   "outputs": [],
   "source": [
    "from sklearn.model_selection import train_test_split\n",
    "from sklearn.linear_model import LinearRegression\n",
    "from sklearn.metrics import mean_squared_error, r2_score"
   ]
  },
  {
   "cell_type": "code",
   "execution_count": 126,
   "metadata": {},
   "outputs": [
    {
     "data": {
      "text/plain": [
       "(3.0000909090909103, array([0.50009091]), 1.2511536363636362)"
      ]
     },
     "execution_count": 126,
     "metadata": {},
     "output_type": "execute_result"
    },
    {
     "data": {
      "image/png": "[encoded data removed]",
      "text/plain": [
       "<Figure size 432x288 with 1 Axes>"
      ]
     },
     "metadata": {
      "needs_background": "light"
     },
     "output_type": "display_data"
    }
   ],
   "source": [
    "xplot=[[4],[14]]\n",
    "yplot=LR.predict(xplot)\n",
    "plt.scatter(x1,y1, color=\"red\",\n",
    "           marker=\"+\"\n",
    "        #,label=\"Training Set\"\n",
    "           )\n",
    "plt.plot(xplot,yplot,label=\"Regression\",ls=\"--\",c=\"k\")\n",
    "plt.grid()\n",
    "plt.legend()\n",
    "plt.xlabel(\"X\")\n",
    "plt.ylabel(\"Y\")\n",
    "plt.title(\"Graph 1\")\n",
    "\n",
    "\n",
    "x1 = x1.reshape(-1,1)\n",
    "XTRAIN, XTEST, YTRAIN, YTEST=train_test_split(x1,y1)\n",
    "LR=LinearRegression()\n",
    "fit=LR.fit(x1,y1)\n",
    "\n",
    "YP=LR.predict(x1)\n",
    "r2=r2_score(y1,YP)\n",
    "mse=mean_squared_error(y1, YP)\n",
    "fit.intercept_, fit.coef_, mse"
   ]
  },
  {
   "cell_type": "code",
   "execution_count": 125,
   "metadata": {
    "scrolled": true
   },
   "outputs": [
    {
     "data": {
      "text/plain": [
       "(3.000909090909089, array([0.5]), 1.2523900826446281)"
      ]
     },
     "execution_count": 125,
     "metadata": {},
     "output_type": "execute_result"
    },
    {
     "data": {
      "image/png": "[encoded data removed]",
      "text/plain": [
       "<Figure size 432x288 with 1 Axes>"
      ]
     },
     "metadata": {
      "needs_background": "light"
     },
     "output_type": "display_data"
    }
   ],
   "source": [
    "xplot=[[4],[14]]\n",
    "yplot=LR.predict(xplot)\n",
    "plt.scatter(x2,y2, color=\"Blue\",\n",
    "           marker=\"*\"\n",
    "        #,label=\"Training Set\"\n",
    "           )\n",
    "plt.plot(xplot,yplot,label=\"Regression\",ls=\"--\",c=\"k\")\n",
    "plt.grid()\n",
    "plt.legend()\n",
    "plt.xlabel(\"X\")\n",
    "plt.ylabel(\"Y\")\n",
    "plt.title(\"Graph 2\")\n",
    "\n",
    "x2 = x2.reshape(-1,1)\n",
    "XTRAIN, XTEST, YTRAIN, YTEST=train_test_split(x2,y2)\n",
    "LR=LinearRegression()\n",
    "fit=LR.fit(x2,y2)\n",
    "\n",
    "YP=LR.predict(x2)\n",
    "r2=r2_score(y2,YP)\n",
    "mse=mean_squared_error(y2, YP)\n",
    "\n",
    "fit.intercept_, fit.coef_, mse"
   ]
  },
  {
   "cell_type": "code",
   "execution_count": 128,
   "metadata": {
    "scrolled": true
   },
   "outputs": [
    {
     "data": {
      "text/plain": [
       "(3.002454545454545, array([0.49972727]), 1.2505628925619836)"
      ]
     },
     "execution_count": 128,
     "metadata": {},
     "output_type": "execute_result"
    },
    {
     "data": {
      "image/png": "[encoded data removed]",
      "text/plain": [
       "<Figure size 432x288 with 1 Axes>"
      ]
     },
     "metadata": {
      "needs_background": "light"
     },
     "output_type": "display_data"
    }
   ],
   "source": [
    "xplot=[[4],[14]]\n",
    "yplot=LR.predict(xplot)\n",
    "plt.scatter(x3,y3, color=\"Green\",\n",
    "           marker=\"+\"\n",
    "        #,label=\"Training Set\"\n",
    "           )\n",
    "plt.plot(xplot,yplot,label=\"Regression\",ls=\"--\",c=\"k\")\n",
    "plt.grid()\n",
    "plt.legend()\n",
    "plt.xlabel(\"X\")\n",
    "plt.ylabel(\"Y\")\n",
    "plt.title(\"Graph 3\")\n",
    "\n",
    "x3 = x3.reshape(-1,1)\n",
    "XTRAIN, XTEST, YTRAIN, YTEST=train_test_split(x3,y3)\n",
    "LR=LinearRegression()\n",
    "fit=LR.fit(x3,y3)\n",
    "\n",
    "YP=LR.predict(x3)\n",
    "r2=r2_score(y3,YP)\n",
    "mse=mean_squared_error(y3, YP)\n",
    "\n",
    "fit.intercept_, fit.coef_, mse"
   ]
  },
  {
   "cell_type": "code",
   "execution_count": 129,
   "metadata": {},
   "outputs": [
    {
     "data": {
      "text/plain": [
       "(3.0017272727272726, array([0.49990909]), 1.249317272727273)"
      ]
     },
     "execution_count": 129,
     "metadata": {},
     "output_type": "execute_result"
    },
    {
     "data": {
      "image/png": "[encoded data removed]",
      "text/plain": [
       "<Figure size 432x288 with 1 Axes>"
      ]
     },
     "metadata": {
      "needs_background": "light"
     },
     "output_type": "display_data"
    }
   ],
   "source": [
    "xplot=[[4],[14]]\n",
    "yplot=LR.predict(xplot)\n",
    "plt.scatter(x4,y4, color=\"Purple\",\n",
    "           marker=\"*\"\n",
    "        #,label=\"Training Set\"\n",
    "           )\n",
    "plt.plot(xplot,yplot,label=\"Regression\",ls=\"--\",c=\"k\")\n",
    "plt.grid()\n",
    "plt.legend()\n",
    "plt.xlabel(\"X\")\n",
    "plt.ylabel(\"Y\")\n",
    "plt.title(\"Graph 4\")\n",
    "\n",
    "x4 = x4.reshape(-1,1)\n",
    "XTRAIN, XTEST, YTRAIN, YTEST=train_test_split(x4,y4)\n",
    "LR=LinearRegression()\n",
    "fit=LR.fit(x4,y4)\n",
    "\n",
    "YP=LR.predict(x4)\n",
    "r2=r2_score(y4,YP)\n",
    "mse=mean_squared_error(y4, YP)\n",
    "\n",
    "fit.intercept_, fit.coef_, mse"
   ]
  }
 ],
 "metadata": {
  "kernelspec": {
   "display_name": "Python 3",
   "language": "python",
   "name": "python3"
  },
  "language_info": {
   "codemirror_mode": {
    "name": "ipython",
    "version": 3
   },
   "file_extension": ".py",
   "mimetype": "text/x-python",
   "name": "python",
   "nbconvert_exporter": "python",
   "pygments_lexer": "ipython3",
   "version": "3.7.3"
  }
 },
 "nbformat": 4,
 "nbformat_minor": 2
}
