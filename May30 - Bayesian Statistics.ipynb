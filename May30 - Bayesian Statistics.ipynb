{
 "cells": [
  {
   "cell_type": "code",
   "execution_count": 174,
   "metadata": {},
   "outputs": [],
   "source": [
    "import pandas as pd\n",
    "import numpy as np\n",
    "import matplotlib.pyplot as plt\n",
    "%matplotlib inline"
   ]
  },
  {
   "cell_type": "code",
   "execution_count": 175,
   "metadata": {
    "scrolled": true
   },
   "outputs": [
    {
     "data": {
      "text/html": [
       "<div>\n",
       "<style scoped>\n",
       "    .dataframe tbody tr th:only-of-type {\n",
       "        vertical-align: middle;\n",
       "    }\n",
       "\n",
       "    .dataframe tbody tr th {\n",
       "        vertical-align: top;\n",
       "    }\n",
       "\n",
       "    .dataframe thead th {\n",
       "        text-align: right;\n",
       "    }\n",
       "</style>\n",
       "<table border=\"1\" class=\"dataframe\">\n",
       "  <thead>\n",
       "    <tr style=\"text-align: right;\">\n",
       "      <th></th>\n",
       "      <th>mpg</th>\n",
       "      <th>cyl</th>\n",
       "      <th>displ</th>\n",
       "      <th>hp</th>\n",
       "      <th>weight</th>\n",
       "      <th>accel</th>\n",
       "      <th>origin</th>\n",
       "    </tr>\n",
       "  </thead>\n",
       "  <tbody>\n",
       "    <tr>\n",
       "      <th>0</th>\n",
       "      <td>18.0</td>\n",
       "      <td>8</td>\n",
       "      <td>307.0</td>\n",
       "      <td>130.0</td>\n",
       "      <td>3504.0</td>\n",
       "      <td>12.0</td>\n",
       "      <td>1</td>\n",
       "    </tr>\n",
       "    <tr>\n",
       "      <th>1</th>\n",
       "      <td>15.0</td>\n",
       "      <td>8</td>\n",
       "      <td>350.0</td>\n",
       "      <td>165.0</td>\n",
       "      <td>3693.0</td>\n",
       "      <td>11.5</td>\n",
       "      <td>1</td>\n",
       "    </tr>\n",
       "    <tr>\n",
       "      <th>2</th>\n",
       "      <td>18.0</td>\n",
       "      <td>8</td>\n",
       "      <td>318.0</td>\n",
       "      <td>150.0</td>\n",
       "      <td>3436.0</td>\n",
       "      <td>11.0</td>\n",
       "      <td>1</td>\n",
       "    </tr>\n",
       "    <tr>\n",
       "      <th>3</th>\n",
       "      <td>16.0</td>\n",
       "      <td>8</td>\n",
       "      <td>304.0</td>\n",
       "      <td>150.0</td>\n",
       "      <td>3433.0</td>\n",
       "      <td>12.0</td>\n",
       "      <td>1</td>\n",
       "    </tr>\n",
       "    <tr>\n",
       "      <th>4</th>\n",
       "      <td>17.0</td>\n",
       "      <td>8</td>\n",
       "      <td>302.0</td>\n",
       "      <td>140.0</td>\n",
       "      <td>3449.0</td>\n",
       "      <td>10.5</td>\n",
       "      <td>1</td>\n",
       "    </tr>\n",
       "    <tr>\n",
       "      <th>5</th>\n",
       "      <td>15.0</td>\n",
       "      <td>8</td>\n",
       "      <td>429.0</td>\n",
       "      <td>198.0</td>\n",
       "      <td>4341.0</td>\n",
       "      <td>10.0</td>\n",
       "      <td>1</td>\n",
       "    </tr>\n",
       "    <tr>\n",
       "      <th>6</th>\n",
       "      <td>14.0</td>\n",
       "      <td>8</td>\n",
       "      <td>454.0</td>\n",
       "      <td>220.0</td>\n",
       "      <td>4354.0</td>\n",
       "      <td>9.0</td>\n",
       "      <td>1</td>\n",
       "    </tr>\n",
       "    <tr>\n",
       "      <th>7</th>\n",
       "      <td>14.0</td>\n",
       "      <td>8</td>\n",
       "      <td>440.0</td>\n",
       "      <td>215.0</td>\n",
       "      <td>4312.0</td>\n",
       "      <td>8.5</td>\n",
       "      <td>1</td>\n",
       "    </tr>\n",
       "    <tr>\n",
       "      <th>8</th>\n",
       "      <td>14.0</td>\n",
       "      <td>8</td>\n",
       "      <td>455.0</td>\n",
       "      <td>225.0</td>\n",
       "      <td>4425.0</td>\n",
       "      <td>10.0</td>\n",
       "      <td>1</td>\n",
       "    </tr>\n",
       "    <tr>\n",
       "      <th>9</th>\n",
       "      <td>15.0</td>\n",
       "      <td>8</td>\n",
       "      <td>390.0</td>\n",
       "      <td>190.0</td>\n",
       "      <td>3850.0</td>\n",
       "      <td>8.5</td>\n",
       "      <td>1</td>\n",
       "    </tr>\n",
       "    <tr>\n",
       "      <th>10</th>\n",
       "      <td>15.0</td>\n",
       "      <td>8</td>\n",
       "      <td>383.0</td>\n",
       "      <td>170.0</td>\n",
       "      <td>3563.0</td>\n",
       "      <td>10.0</td>\n",
       "      <td>1</td>\n",
       "    </tr>\n",
       "    <tr>\n",
       "      <th>11</th>\n",
       "      <td>14.0</td>\n",
       "      <td>8</td>\n",
       "      <td>340.0</td>\n",
       "      <td>160.0</td>\n",
       "      <td>3609.0</td>\n",
       "      <td>8.0</td>\n",
       "      <td>1</td>\n",
       "    </tr>\n",
       "    <tr>\n",
       "      <th>12</th>\n",
       "      <td>15.0</td>\n",
       "      <td>8</td>\n",
       "      <td>400.0</td>\n",
       "      <td>150.0</td>\n",
       "      <td>3761.0</td>\n",
       "      <td>9.5</td>\n",
       "      <td>1</td>\n",
       "    </tr>\n",
       "    <tr>\n",
       "      <th>13</th>\n",
       "      <td>14.0</td>\n",
       "      <td>8</td>\n",
       "      <td>455.0</td>\n",
       "      <td>225.0</td>\n",
       "      <td>3086.0</td>\n",
       "      <td>10.0</td>\n",
       "      <td>1</td>\n",
       "    </tr>\n",
       "    <tr>\n",
       "      <th>14</th>\n",
       "      <td>24.0</td>\n",
       "      <td>4</td>\n",
       "      <td>113.0</td>\n",
       "      <td>95.0</td>\n",
       "      <td>2372.0</td>\n",
       "      <td>15.0</td>\n",
       "      <td>3</td>\n",
       "    </tr>\n",
       "    <tr>\n",
       "      <th>15</th>\n",
       "      <td>22.0</td>\n",
       "      <td>6</td>\n",
       "      <td>198.0</td>\n",
       "      <td>95.0</td>\n",
       "      <td>2833.0</td>\n",
       "      <td>15.5</td>\n",
       "      <td>1</td>\n",
       "    </tr>\n",
       "    <tr>\n",
       "      <th>16</th>\n",
       "      <td>18.0</td>\n",
       "      <td>6</td>\n",
       "      <td>199.0</td>\n",
       "      <td>97.0</td>\n",
       "      <td>2774.0</td>\n",
       "      <td>15.5</td>\n",
       "      <td>1</td>\n",
       "    </tr>\n",
       "    <tr>\n",
       "      <th>17</th>\n",
       "      <td>21.0</td>\n",
       "      <td>6</td>\n",
       "      <td>200.0</td>\n",
       "      <td>85.0</td>\n",
       "      <td>2587.0</td>\n",
       "      <td>16.0</td>\n",
       "      <td>1</td>\n",
       "    </tr>\n",
       "    <tr>\n",
       "      <th>18</th>\n",
       "      <td>27.0</td>\n",
       "      <td>4</td>\n",
       "      <td>97.0</td>\n",
       "      <td>88.0</td>\n",
       "      <td>2130.0</td>\n",
       "      <td>14.5</td>\n",
       "      <td>3</td>\n",
       "    </tr>\n",
       "    <tr>\n",
       "      <th>19</th>\n",
       "      <td>26.0</td>\n",
       "      <td>4</td>\n",
       "      <td>97.0</td>\n",
       "      <td>46.0</td>\n",
       "      <td>1835.0</td>\n",
       "      <td>20.5</td>\n",
       "      <td>2</td>\n",
       "    </tr>\n",
       "    <tr>\n",
       "      <th>20</th>\n",
       "      <td>25.0</td>\n",
       "      <td>4</td>\n",
       "      <td>110.0</td>\n",
       "      <td>87.0</td>\n",
       "      <td>2672.0</td>\n",
       "      <td>17.5</td>\n",
       "      <td>2</td>\n",
       "    </tr>\n",
       "    <tr>\n",
       "      <th>21</th>\n",
       "      <td>24.0</td>\n",
       "      <td>4</td>\n",
       "      <td>107.0</td>\n",
       "      <td>90.0</td>\n",
       "      <td>2430.0</td>\n",
       "      <td>14.5</td>\n",
       "      <td>2</td>\n",
       "    </tr>\n",
       "    <tr>\n",
       "      <th>22</th>\n",
       "      <td>25.0</td>\n",
       "      <td>4</td>\n",
       "      <td>104.0</td>\n",
       "      <td>95.0</td>\n",
       "      <td>2375.0</td>\n",
       "      <td>17.5</td>\n",
       "      <td>2</td>\n",
       "    </tr>\n",
       "    <tr>\n",
       "      <th>23</th>\n",
       "      <td>26.0</td>\n",
       "      <td>4</td>\n",
       "      <td>121.0</td>\n",
       "      <td>113.0</td>\n",
       "      <td>2234.0</td>\n",
       "      <td>12.5</td>\n",
       "      <td>2</td>\n",
       "    </tr>\n",
       "    <tr>\n",
       "      <th>24</th>\n",
       "      <td>21.0</td>\n",
       "      <td>6</td>\n",
       "      <td>199.0</td>\n",
       "      <td>90.0</td>\n",
       "      <td>2648.0</td>\n",
       "      <td>15.0</td>\n",
       "      <td>1</td>\n",
       "    </tr>\n",
       "    <tr>\n",
       "      <th>25</th>\n",
       "      <td>10.0</td>\n",
       "      <td>8</td>\n",
       "      <td>360.0</td>\n",
       "      <td>215.0</td>\n",
       "      <td>4615.0</td>\n",
       "      <td>14.0</td>\n",
       "      <td>1</td>\n",
       "    </tr>\n",
       "    <tr>\n",
       "      <th>26</th>\n",
       "      <td>10.0</td>\n",
       "      <td>8</td>\n",
       "      <td>307.0</td>\n",
       "      <td>200.0</td>\n",
       "      <td>4376.0</td>\n",
       "      <td>15.0</td>\n",
       "      <td>1</td>\n",
       "    </tr>\n",
       "    <tr>\n",
       "      <th>27</th>\n",
       "      <td>11.0</td>\n",
       "      <td>8</td>\n",
       "      <td>318.0</td>\n",
       "      <td>210.0</td>\n",
       "      <td>4382.0</td>\n",
       "      <td>13.5</td>\n",
       "      <td>1</td>\n",
       "    </tr>\n",
       "    <tr>\n",
       "      <th>28</th>\n",
       "      <td>9.0</td>\n",
       "      <td>8</td>\n",
       "      <td>304.0</td>\n",
       "      <td>193.0</td>\n",
       "      <td>4732.0</td>\n",
       "      <td>18.5</td>\n",
       "      <td>1</td>\n",
       "    </tr>\n",
       "    <tr>\n",
       "      <th>29</th>\n",
       "      <td>27.0</td>\n",
       "      <td>4</td>\n",
       "      <td>97.0</td>\n",
       "      <td>88.0</td>\n",
       "      <td>2130.0</td>\n",
       "      <td>14.5</td>\n",
       "      <td>3</td>\n",
       "    </tr>\n",
       "  </tbody>\n",
       "</table>\n",
       "</div>"
      ],
      "text/plain": [
       "     mpg  cyl  displ     hp  weight  accel  origin\n",
       "0   18.0    8  307.0  130.0  3504.0   12.0       1\n",
       "1   15.0    8  350.0  165.0  3693.0   11.5       1\n",
       "2   18.0    8  318.0  150.0  3436.0   11.0       1\n",
       "3   16.0    8  304.0  150.0  3433.0   12.0       1\n",
       "4   17.0    8  302.0  140.0  3449.0   10.5       1\n",
       "5   15.0    8  429.0  198.0  4341.0   10.0       1\n",
       "6   14.0    8  454.0  220.0  4354.0    9.0       1\n",
       "7   14.0    8  440.0  215.0  4312.0    8.5       1\n",
       "8   14.0    8  455.0  225.0  4425.0   10.0       1\n",
       "9   15.0    8  390.0  190.0  3850.0    8.5       1\n",
       "10  15.0    8  383.0  170.0  3563.0   10.0       1\n",
       "11  14.0    8  340.0  160.0  3609.0    8.0       1\n",
       "12  15.0    8  400.0  150.0  3761.0    9.5       1\n",
       "13  14.0    8  455.0  225.0  3086.0   10.0       1\n",
       "14  24.0    4  113.0   95.0  2372.0   15.0       3\n",
       "15  22.0    6  198.0   95.0  2833.0   15.5       1\n",
       "16  18.0    6  199.0   97.0  2774.0   15.5       1\n",
       "17  21.0    6  200.0   85.0  2587.0   16.0       1\n",
       "18  27.0    4   97.0   88.0  2130.0   14.5       3\n",
       "19  26.0    4   97.0   46.0  1835.0   20.5       2\n",
       "20  25.0    4  110.0   87.0  2672.0   17.5       2\n",
       "21  24.0    4  107.0   90.0  2430.0   14.5       2\n",
       "22  25.0    4  104.0   95.0  2375.0   17.5       2\n",
       "23  26.0    4  121.0  113.0  2234.0   12.5       2\n",
       "24  21.0    6  199.0   90.0  2648.0   15.0       1\n",
       "25  10.0    8  360.0  215.0  4615.0   14.0       1\n",
       "26  10.0    8  307.0  200.0  4376.0   15.0       1\n",
       "27  11.0    8  318.0  210.0  4382.0   13.5       1\n",
       "28   9.0    8  304.0  193.0  4732.0   18.5       1\n",
       "29  27.0    4   97.0   88.0  2130.0   14.5       3"
      ]
     },
     "execution_count": 175,
     "metadata": {},
     "output_type": "execute_result"
    }
   ],
   "source": [
    "df = pd.read_csv(\"cardata.csv\")\n",
    "df.head(30)"
   ]
  },
  {
   "cell_type": "code",
   "execution_count": 176,
   "metadata": {
    "scrolled": true
   },
   "outputs": [
    {
     "data": {
      "text/plain": [
       "array([[<matplotlib.axes._subplots.AxesSubplot object at 0x7f2788178eb8>,\n",
       "        <matplotlib.axes._subplots.AxesSubplot object at 0x7f2783588390>,\n",
       "        <matplotlib.axes._subplots.AxesSubplot object at 0x7f27832bfe80>,\n",
       "        <matplotlib.axes._subplots.AxesSubplot object at 0x7f2783272128>,\n",
       "        <matplotlib.axes._subplots.AxesSubplot object at 0x7f2783219390>,\n",
       "        <matplotlib.axes._subplots.AxesSubplot object at 0x7f27831c35f8>,\n",
       "        <matplotlib.axes._subplots.AxesSubplot object at 0x7f27831eb860>],\n",
       "       [<matplotlib.axes._subplots.AxesSubplot object at 0x7f2783193cc0>,\n",
       "        <matplotlib.axes._subplots.AxesSubplot object at 0x7f2783193cf8>,\n",
       "        <matplotlib.axes._subplots.AxesSubplot object at 0x7f278316c7b8>,\n",
       "        <matplotlib.axes._subplots.AxesSubplot object at 0x7f2783113d30>,\n",
       "        <matplotlib.axes._subplots.AxesSubplot object at 0x7f27830c52e8>,\n",
       "        <matplotlib.axes._subplots.AxesSubplot object at 0x7f27830ec860>,\n",
       "        <matplotlib.axes._subplots.AxesSubplot object at 0x7f2783092dd8>],\n",
       "       [<matplotlib.axes._subplots.AxesSubplot object at 0x7f2783043390>,\n",
       "        <matplotlib.axes._subplots.AxesSubplot object at 0x7f2783069908>,\n",
       "        <matplotlib.axes._subplots.AxesSubplot object at 0x7f2783012e80>,\n",
       "        <matplotlib.axes._subplots.AxesSubplot object at 0x7f2782fc2438>,\n",
       "        <matplotlib.axes._subplots.AxesSubplot object at 0x7f2782fe99b0>,\n",
       "        <matplotlib.axes._subplots.AxesSubplot object at 0x7f2782f92f28>,\n",
       "        <matplotlib.axes._subplots.AxesSubplot object at 0x7f2782f414e0>],\n",
       "       [<matplotlib.axes._subplots.AxesSubplot object at 0x7f2782f69a58>,\n",
       "        <matplotlib.axes._subplots.AxesSubplot object at 0x7f2782f10fd0>,\n",
       "        <matplotlib.axes._subplots.AxesSubplot object at 0x7f2782ec0588>,\n",
       "        <matplotlib.axes._subplots.AxesSubplot object at 0x7f2782ee9b00>,\n",
       "        <matplotlib.axes._subplots.AxesSubplot object at 0x7f2782e990b8>,\n",
       "        <matplotlib.axes._subplots.AxesSubplot object at 0x7f2782ebf630>,\n",
       "        <matplotlib.axes._subplots.AxesSubplot object at 0x7f2782e66ba8>],\n",
       "       [<matplotlib.axes._subplots.AxesSubplot object at 0x7f2782e17160>,\n",
       "        <matplotlib.axes._subplots.AxesSubplot object at 0x7f2782e3c6d8>,\n",
       "        <matplotlib.axes._subplots.AxesSubplot object at 0x7f2782de8c50>,\n",
       "        <matplotlib.axes._subplots.AxesSubplot object at 0x7f2782d98208>,\n",
       "        <matplotlib.axes._subplots.AxesSubplot object at 0x7f2782dbd780>,\n",
       "        <matplotlib.axes._subplots.AxesSubplot object at 0x7f2782d65cf8>,\n",
       "        <matplotlib.axes._subplots.AxesSubplot object at 0x7f2782d162b0>],\n",
       "       [<matplotlib.axes._subplots.AxesSubplot object at 0x7f2782d3d828>,\n",
       "        <matplotlib.axes._subplots.AxesSubplot object at 0x7f2782ce4da0>,\n",
       "        <matplotlib.axes._subplots.AxesSubplot object at 0x7f2782c96358>,\n",
       "        <matplotlib.axes._subplots.AxesSubplot object at 0x7f2782cbc8d0>,\n",
       "        <matplotlib.axes._subplots.AxesSubplot object at 0x7f2782c63e48>,\n",
       "        <matplotlib.axes._subplots.AxesSubplot object at 0x7f2782c13400>,\n",
       "        <matplotlib.axes._subplots.AxesSubplot object at 0x7f2782c3a978>],\n",
       "       [<matplotlib.axes._subplots.AxesSubplot object at 0x7f2782be2ef0>,\n",
       "        <matplotlib.axes._subplots.AxesSubplot object at 0x7f2782b924a8>,\n",
       "        <matplotlib.axes._subplots.AxesSubplot object at 0x7f2782bbba20>,\n",
       "        <matplotlib.axes._subplots.AxesSubplot object at 0x7f2782b65f98>,\n",
       "        <matplotlib.axes._subplots.AxesSubplot object at 0x7f2782b11550>,\n",
       "        <matplotlib.axes._subplots.AxesSubplot object at 0x7f2782b39ac8>,\n",
       "        <matplotlib.axes._subplots.AxesSubplot object at 0x7f2782aec080>]],\n",
       "      dtype=object)"
      ]
     },
     "execution_count": 176,
     "metadata": {},
     "output_type": "execute_result"
    },
    {
     "data": {
      "image/png": "[encoded data removed]",
      "text/plain": [
       "<Figure size 432x288 with 49 Axes>"
      ]
     },
     "metadata": {
      "needs_background": "light"
     },
     "output_type": "display_data"
    }
   ],
   "source": [
    "pd.plotting.scatter_matrix(df)"
   ]
  },
  {
   "cell_type": "code",
   "execution_count": 177,
   "metadata": {},
   "outputs": [],
   "source": [
    "from sklearn.model_selection import train_test_split\n",
    "from sklearn.linear_model import LinearRegression\n",
    "from sklearn.metrics import mean_squared_error, r2_score"
   ]
  },
  {
   "cell_type": "code",
   "execution_count": 178,
   "metadata": {
    "scrolled": true
   },
   "outputs": [],
   "source": [
    "unis = np.unique(np.array(df[\"cyl\"])).tolist()"
   ]
  },
  {
   "cell_type": "code",
   "execution_count": 179,
   "metadata": {},
   "outputs": [],
   "source": [
    "cylinders = np.array(df[\"cyl\"])"
   ]
  },
  {
   "cell_type": "markdown",
   "metadata": {},
   "source": [
    "How many items there are for each value of cylinders"
   ]
  },
  {
   "cell_type": "code",
   "execution_count": 180,
   "metadata": {
    "scrolled": true
   },
   "outputs": [
    {
     "data": {
      "text/plain": [
       "[4, 199, 3, 83, 103]"
      ]
     },
     "execution_count": 180,
     "metadata": {},
     "output_type": "execute_result"
    }
   ],
   "source": [
    "[list(cylinders).count(j) for j in unis]"
   ]
  },
  {
   "cell_type": "markdown",
   "metadata": {},
   "source": [
    "Class definitions: \n",
    " 1. 0 will be 3 or 4\n",
    " 2. 1 will be 5 or 6\n",
    " 3. 2 will be 8"
   ]
  },
  {
   "cell_type": "code",
   "execution_count": 181,
   "metadata": {},
   "outputs": [],
   "source": [
    "classvals = [0,0,1,1,2]"
   ]
  },
  {
   "cell_type": "code",
   "execution_count": 182,
   "metadata": {
    "scrolled": true
   },
   "outputs": [],
   "source": [
    "Y = [classvals[unis.index(x)] for x in cylinders]\n",
    "Y = np.array(Y)"
   ]
  },
  {
   "cell_type": "code",
   "execution_count": 183,
   "metadata": {
    "scrolled": true
   },
   "outputs": [
    {
     "data": {
      "text/plain": [
       "Index(['mpg', 'cyl', 'displ', 'hp', 'weight', 'accel', 'origin'], dtype='object')"
      ]
     },
     "execution_count": 183,
     "metadata": {},
     "output_type": "execute_result"
    }
   ],
   "source": [
    "df.columns"
   ]
  },
  {
   "cell_type": "code",
   "execution_count": 184,
   "metadata": {
    "scrolled": true
   },
   "outputs": [
    {
     "data": {
      "text/plain": [
       "array([[18. , 12. ],\n",
       "       [15. , 11.5],\n",
       "       [18. , 11. ],\n",
       "       [16. , 12. ],\n",
       "       [17. , 10.5]])"
      ]
     },
     "execution_count": 184,
     "metadata": {},
     "output_type": "execute_result"
    }
   ],
   "source": [
    "X = np.array(df[[\"mpg\",\"accel\"]])\n",
    "X[:5]"
   ]
  },
  {
   "cell_type": "code",
   "execution_count": 185,
   "metadata": {},
   "outputs": [
    {
     "data": {
      "image/png": "[encoded data removed]",
      "text/plain": [
       "<Figure size 432x432 with 1 Axes>"
      ]
     },
     "metadata": {
      "needs_background": "light"
     },
     "output_type": "display_data"
    }
   ],
   "source": [
    "colors=[\"red\",\"green\",\"blue\"]\n",
    "markers=[\"+\",\"d\",\"o\"]\n",
    "nclasses=3\n",
    "for i in range(nclasses):\n",
    "    x,y=zip(*X[Y==i])\n",
    "    plt.scatter(x,y,marker=markers[i],color=colors[i],s=50)\n",
    "    \n",
    "plt.xlabel(\"MPG\")\n",
    "plt.ylabel(\"Accel\")\n",
    "plt.grid()\n",
    "plt.gcf().set_size_inches(6,6)"
   ]
  },
  {
   "cell_type": "code",
   "execution_count": 186,
   "metadata": {},
   "outputs": [],
   "source": [
    "from sklearn.naive_bayes import GaussianNB\n",
    "from sklearn.model_selection import train_test_split\n",
    "from sklearn.metrics import confusion_matrix"
   ]
  },
  {
   "cell_type": "code",
   "execution_count": 188,
   "metadata": {},
   "outputs": [
    {
     "name": "stdout",
     "output_type": "stream",
     "text": [
      "0.14042857142857146 0.031220748075129114\n"
     ]
    }
   ],
   "source": [
    "gnb = GaussianNB()\n",
    "errs=[]\n",
    "nsplits=1000\n",
    "for split in range(nsplits):\n",
    "    xtrain, xtest, ytrain, ytest = train_test_split(X,Y)\n",
    "    gnb.fit(xtrain,ytrain)\n",
    "    YP = gnb.predict(xtest)\n",
    "    errs.append(1-accuracy_score(ytest, YP))\n",
    "print(np.mean(errs), np.std(errs))"
   ]
  },
  {
   "cell_type": "code",
   "execution_count": 189,
   "metadata": {
    "scrolled": true
   },
   "outputs": [
    {
     "data": {
      "text/plain": [
       "Text(0, 0.5, 'Frequency(count)')"
      ]
     },
     "execution_count": 189,
     "metadata": {},
     "output_type": "execute_result"
    },
    {
     "data": {
      "image/png": "[encoded data removed]",
      "text/plain": [
       "<Figure size 432x288 with 1 Axes>"
      ]
     },
     "metadata": {
      "needs_background": "light"
     },
     "output_type": "display_data"
    }
   ],
   "source": [
    "plt.hist(errs, edgecolor=\"black\", color = \"lightgreen\")\n",
    "plt.xlabel(\"Proportions of classified Incorrectly\")\n",
    "plt.ylabel(\"Frequency(count)\")"
   ]
  },
  {
   "cell_type": "code",
   "execution_count": 191,
   "metadata": {
    "scrolled": true
   },
   "outputs": [
    {
     "data": {
      "text/plain": [
       "array([1, 1, 1, 1, 1, 1, 1, 1, 1, 1, 1, 1, 1, 1, 3, 1, 1, 1, 3, 2, 2, 2,\n",
       "       2, 2, 1, 1, 1, 1, 1, 3, 1, 3, 1, 1, 1, 1, 1, 1, 1, 1, 1, 1, 1, 1,\n",
       "       1, 1, 1, 1, 1, 2, 2, 2, 3, 3, 2, 1, 3, 1, 2, 1, 1, 1, 1, 1, 1, 1,\n",
       "       1, 1, 1, 1, 3, 1, 1, 1, 1, 2, 2, 2, 2, 1, 3, 3, 1, 3, 1, 1, 1, 1,\n",
       "       1, 1, 1, 1, 1, 1, 1, 1, 1, 1, 1, 1, 1, 2, 1, 1, 1, 1, 1, 3, 1, 3,\n",
       "       3, 1, 1, 2, 1, 1, 2, 2, 2, 2, 1, 2, 3, 1, 1, 1, 1, 3, 1, 3, 1, 1,\n",
       "       1, 1, 1, 1, 1, 1, 1, 2, 2, 2, 3, 3, 1, 2, 2, 3, 3, 2, 1, 1, 1, 1,\n",
       "       1, 1, 1, 1, 1, 1, 1, 1, 1, 1, 1, 3, 1, 1, 1, 3, 2, 3, 1, 2, 1, 2,\n",
       "       2, 2, 2, 3, 2, 2, 1, 1, 2, 1, 1, 1, 1, 1, 1, 1, 1, 1, 1, 2, 3, 1,\n",
       "       1, 1, 1, 2, 3, 3, 1, 2, 1, 2, 3, 2, 1, 1, 1, 1, 3, 1, 2, 1, 3, 1,\n",
       "       1, 1, 1, 1, 1, 1, 1, 1, 1, 1, 1, 2, 1, 3, 1, 1, 1, 3, 2, 3, 2, 3,\n",
       "       2, 1, 3, 3, 3, 1, 1, 1, 1, 1, 1, 1, 1, 1, 1, 1, 1, 1, 1, 1, 1, 1,\n",
       "       1, 3, 3, 1, 3, 1, 1, 3, 2, 2, 2, 2, 2, 3, 1, 1, 1, 1, 1, 1, 1, 1,\n",
       "       1, 1, 1, 1, 1, 2, 3, 1, 1, 2, 1, 2, 1, 1, 1, 3, 2, 1, 1, 1, 1, 2,\n",
       "       3, 1, 3, 1, 1, 1, 1, 2, 3, 3, 3, 3, 3, 1, 3, 2, 2, 2, 2, 3, 3, 2,\n",
       "       3, 3, 2, 3, 1, 1, 1, 1, 1, 3, 1, 3, 3, 3, 3, 3, 1, 1, 1, 2, 3, 3,\n",
       "       3, 3, 2, 2, 3, 3, 1, 1, 1, 1, 1, 1, 1, 1, 1, 1, 1, 2, 3, 3, 1, 1,\n",
       "       3, 3, 3, 3, 3, 3, 1, 1, 1, 1, 3, 1, 1, 1, 2, 1, 1, 1])"
      ]
     },
     "execution_count": 191,
     "metadata": {},
     "output_type": "execute_result"
    }
   ],
   "source": [
    "np.array(df[\"origin\"])"
   ]
  },
  {
   "cell_type": "code",
   "execution_count": 199,
   "metadata": {
    "scrolled": true
   },
   "outputs": [],
   "source": [
    "DF=pd.get_dummies(df,columns=[\"origin\"])\n",
    "X=np.array(DF.drop(columns=[\"cyl\"]))"
   ]
  },
  {
   "cell_type": "code",
   "execution_count": 200,
   "metadata": {},
   "outputs": [
    {
     "name": "stdout",
     "output_type": "stream",
     "text": [
      "0.09920408163265305 0.027438766023328495\n"
     ]
    }
   ],
   "source": [
    "gnb = GaussianNB()\n",
    "errs=[]\n",
    "nsplits=1000\n",
    "for split in range(nsplits):\n",
    "    xtrain, xtest, ytrain, ytest = train_test_split(X,Y)\n",
    "    gnb.fit(xtrain,ytrain)\n",
    "    YP = gnb.predict(xtest)\n",
    "    errs.append(1-accuracy_score(ytest, YP))\n",
    "print(np.mean(errs), np.std(errs))"
   ]
  },
  {
   "cell_type": "code",
   "execution_count": 203,
   "metadata": {
    "scrolled": true
   },
   "outputs": [
    {
     "data": {
      "text/plain": [
       "Text(0, 0.5, 'Frequency(count)')"
      ]
     },
     "execution_count": 203,
     "metadata": {},
     "output_type": "execute_result"
    },
    {
     "data": {
      "image/png": "[encoded data removed]",
      "text/plain": [
       "<Figure size 432x288 with 1 Axes>"
      ]
     },
     "metadata": {
      "needs_background": "light"
     },
     "output_type": "display_data"
    }
   ],
   "source": [
    "plt.hist(errs, edgecolor=\"black\", color = \"lightgreen\")\n",
    "plt.xlabel(\"Proportions of classified Incorrectly\")\n",
    "plt.ylabel(\"Frequency(count)\")"
   ]
  },
  {
   "cell_type": "code",
   "execution_count": 204,
   "metadata": {},
   "outputs": [
    {
     "data": {
      "text/plain": [
       "array([[18. , 12. ],\n",
       "       [15. , 11.5],\n",
       "       [18. , 11. ],\n",
       "       [16. , 12. ],\n",
       "       [17. , 10.5]])"
      ]
     },
     "execution_count": 204,
     "metadata": {},
     "output_type": "execute_result"
    }
   ],
   "source": [
    "X = np.array(df[[\"mpg\",\"accel\"]])\n",
    "X[:5]"
   ]
  },
  {
   "cell_type": "code",
   "execution_count": 205,
   "metadata": {},
   "outputs": [],
   "source": [
    "from sklearn.neighbors import KNeighborsClassifier"
   ]
  },
  {
   "cell_type": "code",
   "execution_count": 211,
   "metadata": {},
   "outputs": [
    {
     "name": "stdout",
     "output_type": "stream",
     "text": [
      "0.13492857142857143 0.030186272673063567\n"
     ]
    }
   ],
   "source": [
    "KNN = KNeighborsClassifier(n_neighbors=13)\n",
    "errs=[]\n",
    "nsplits=1000\n",
    "for split in range(nsplits):\n",
    "    xtrain, xtest, ytrain, ytest = train_test_split(X,Y)\n",
    "    KNN.fit(xtrain,ytrain)\n",
    "    YP = KNN.predict(xtest)\n",
    "    errs.append(1-accuracy_score(ytest, YP))\n",
    "print(np.mean(errs), np.std(errs))"
   ]
  },
  {
   "cell_type": "markdown",
   "metadata": {},
   "source": [
    "Voronoi cell"
   ]
  },
  {
   "cell_type": "markdown",
   "metadata": {},
   "source": [
    "Discriminant QDA"
   ]
  },
  {
   "cell_type": "code",
   "execution_count": 213,
   "metadata": {},
   "outputs": [],
   "source": [
    "from sklearn.discriminant_analysis import QuadraticDiscriminantAnalysis as QDA"
   ]
  },
  {
   "cell_type": "code",
   "execution_count": 214,
   "metadata": {},
   "outputs": [
    {
     "name": "stdout",
     "output_type": "stream",
     "text": [
      "0.14732653061224488 0.031024697608909597\n"
     ]
    }
   ],
   "source": [
    "model=QDA()\n",
    "errs=[]\n",
    "nsplits=1000\n",
    "for split in range(nsplits):\n",
    "    xtrain, xtest, ytrain, ytest = train_test_split(X,Y)\n",
    "    model.fit(xtrain,ytrain)\n",
    "    YP = model.predict(xtest)\n",
    "    errs.append(1-accuracy_score(ytest, YP))\n",
    "print(np.mean(errs), np.std(errs))"
   ]
  }
 ],
 "metadata": {
  "kernelspec": {
   "display_name": "Python 3",
   "language": "python",
   "name": "python3"
  },
  "language_info": {
   "codemirror_mode": {
    "name": "ipython",
    "version": 3
   },
   "file_extension": ".py",
   "mimetype": "text/x-python",
   "name": "python",
   "nbconvert_exporter": "python",
   "pygments_lexer": "ipython3",
   "version": "3.7.3"
  }
 },
 "nbformat": 4,
 "nbformat_minor": 2
}
