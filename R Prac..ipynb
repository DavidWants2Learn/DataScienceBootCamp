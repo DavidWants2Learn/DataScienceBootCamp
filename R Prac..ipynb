{
 "cells": [
  {
   "cell_type": "code",
   "execution_count": 7,
   "metadata": {},
   "outputs": [
    {
     "name": "stderr",
     "output_type": "stream",
     "text": [
      "also installing the dependency ‘dr’\n",
      "\n",
      "Updating HTML index of packages in '.Library'\n",
      "Making 'packages.html' ... done\n"
     ]
    }
   ],
   "source": [
    "install.packages(\"NonpModelCheck\")"
   ]
  },
  {
   "cell_type": "code",
   "execution_count": 8,
   "metadata": {},
   "outputs": [],
   "source": [
    "library(NonpModelCheck)"
   ]
  },
  {
   "cell_type": "code",
   "execution_count": 17,
   "metadata": {},
   "outputs": [],
   "source": [
    "M = matrix(c(1,2,3, 11,12,13), nrow=2, ncol=3)"
   ]
  },
  {
   "cell_type": "code",
   "execution_count": 20,
   "metadata": {},
   "outputs": [],
   "source": [
    "X = matrix(c(1,11,12, 2,12,13, 3,13,23), nrow=3, ncol=3)"
   ]
  },
  {
   "cell_type": "code",
   "execution_count": 26,
   "metadata": {},
   "outputs": [],
   "source": [
    "x = c(1,5,7,NA,4)"
   ]
  },
  {
   "cell_type": "code",
   "execution_count": 18,
   "metadata": {},
   "outputs": [],
   "source": [
    "M[,2]=(M[,2]+1)"
   ]
  },
  {
   "cell_type": "code",
   "execution_count": 19,
   "metadata": {
    "scrolled": true
   },
   "outputs": [
    {
     "data": {
      "text/html": [
       "<table>\n",
       "<tbody>\n",
       "\t<tr><td>1 </td><td> 4</td><td>12</td></tr>\n",
       "\t<tr><td>2 </td><td>12</td><td>13</td></tr>\n",
       "</tbody>\n",
       "</table>\n"
      ],
      "text/latex": [
       "\\begin{tabular}{lll}\n",
       "\t 1  &  4 & 12\\\\\n",
       "\t 2  & 12 & 13\\\\\n",
       "\\end{tabular}\n"
      ],
      "text/markdown": [
       "\n",
       "| 1  |  4 | 12 | \n",
       "| 2  | 12 | 13 | \n",
       "\n",
       "\n"
      ],
      "text/plain": [
       "     [,1] [,2] [,3]\n",
       "[1,] 1     4   12  \n",
       "[2,] 2    12   13  "
      ]
     },
     "metadata": {},
     "output_type": "display_data"
    }
   ],
   "source": [
    "M"
   ]
  },
  {
   "cell_type": "code",
   "execution_count": 21,
   "metadata": {
    "scrolled": true
   },
   "outputs": [
    {
     "data": {
      "text/html": [
       "<table>\n",
       "<tbody>\n",
       "\t<tr><td> 1</td><td> 2</td><td> 3</td></tr>\n",
       "\t<tr><td>11</td><td>12</td><td>13</td></tr>\n",
       "\t<tr><td>12</td><td>13</td><td>23</td></tr>\n",
       "</tbody>\n",
       "</table>\n"
      ],
      "text/latex": [
       "\\begin{tabular}{lll}\n",
       "\t  1 &  2 &  3\\\\\n",
       "\t 11 & 12 & 13\\\\\n",
       "\t 12 & 13 & 23\\\\\n",
       "\\end{tabular}\n"
      ],
      "text/markdown": [
       "\n",
       "|  1 |  2 |  3 | \n",
       "| 11 | 12 | 13 | \n",
       "| 12 | 13 | 23 | \n",
       "\n",
       "\n"
      ],
      "text/plain": [
       "     [,1] [,2] [,3]\n",
       "[1,]  1    2    3  \n",
       "[2,] 11   12   13  \n",
       "[3,] 12   13   23  "
      ]
     },
     "metadata": {},
     "output_type": "display_data"
    }
   ],
   "source": [
    "X"
   ]
  },
  {
   "cell_type": "code",
   "execution_count": 22,
   "metadata": {
    "scrolled": true
   },
   "outputs": [
    {
     "data": {
      "text/plain": [
       "eigen() decomposition\n",
       "$values\n",
       "[1] 33.4047321  3.3900209 -0.7947529\n",
       "\n",
       "$vectors\n",
       "          [,1]         [,2]        [,3]\n",
       "[1,] 0.1105813 -0.002210672  0.78676239\n",
       "[2,] 0.5568175 -0.832860222 -0.61421401\n",
       "[3,] 0.8232412  0.553478964 -0.06120536\n"
      ]
     },
     "metadata": {},
     "output_type": "display_data"
    }
   ],
   "source": [
    "eigen(X)"
   ]
  },
  {
   "cell_type": "code",
   "execution_count": 25,
   "metadata": {},
   "outputs": [
    {
     "data": {
      "text/html": [
       "<ol class=list-inline>\n",
       "\t<li>0</li>\n",
       "\t<li>1</li>\n",
       "\t<li>2</li>\n",
       "\t<li>3</li>\n",
       "\t<li>4</li>\n",
       "\t<li>5</li>\n",
       "\t<li>6</li>\n",
       "\t<li>7</li>\n",
       "\t<li>8</li>\n",
       "\t<li>9</li>\n",
       "\t<li>10</li>\n",
       "</ol>\n"
      ],
      "text/latex": [
       "\\begin{enumerate*}\n",
       "\\item 0\n",
       "\\item 1\n",
       "\\item 2\n",
       "\\item 3\n",
       "\\item 4\n",
       "\\item 5\n",
       "\\item 6\n",
       "\\item 7\n",
       "\\item 8\n",
       "\\item 9\n",
       "\\item 10\n",
       "\\end{enumerate*}\n"
      ],
      "text/markdown": [
       "1. 0\n",
       "2. 1\n",
       "3. 2\n",
       "4. 3\n",
       "5. 4\n",
       "6. 5\n",
       "7. 6\n",
       "8. 7\n",
       "9. 8\n",
       "10. 9\n",
       "11. 10\n",
       "\n",
       "\n"
      ],
      "text/plain": [
       " [1]  0  1  2  3  4  5  6  7  8  9 10"
      ]
     },
     "metadata": {},
     "output_type": "display_data"
    }
   ],
   "source": [
    "seq(0,10, length.out=11)"
   ]
  },
  {
   "cell_type": "code",
   "execution_count": 28,
   "metadata": {
    "scrolled": true
   },
   "outputs": [
    {
     "data": {
      "text/html": [
       "17"
      ],
      "text/latex": [
       "17"
      ],
      "text/markdown": [
       "17"
      ],
      "text/plain": [
       "[1] 17"
      ]
     },
     "metadata": {},
     "output_type": "display_data"
    }
   ],
   "source": [
    "sum(x, na.rm = TRUE)"
   ]
  },
  {
   "cell_type": "code",
   "execution_count": 33,
   "metadata": {
    "scrolled": true
   },
   "outputs": [
    {
     "data": {
      "text/html": [
       "4"
      ],
      "text/latex": [
       "4"
      ],
      "text/markdown": [
       "4"
      ],
      "text/plain": [
       "[1] 4"
      ]
     },
     "metadata": {},
     "output_type": "display_data"
    }
   ],
   "source": [
    "which(is.na(x))"
   ]
  },
  {
   "cell_type": "code",
   "execution_count": 34,
   "metadata": {
    "scrolled": false
   },
   "outputs": [
    {
     "data": {
      "text/plain": [
       "   Min. 1st Qu.  Median    Mean 3rd Qu.    Max.    NA's \n",
       "   1.00    3.25    4.50    4.25    5.50    7.00       1 "
      ]
     },
     "metadata": {},
     "output_type": "display_data"
    }
   ],
   "source": [
    "summary(x, na.rm = TRUE)"
   ]
  },
  {
   "cell_type": "code",
   "execution_count": 37,
   "metadata": {
    "scrolled": false
   },
   "outputs": [
    {
     "data": {
      "text/html": [
       "0.904194430179465"
      ],
      "text/latex": [
       "0.904194430179465"
      ],
      "text/markdown": [
       "0.904194430179465"
      ],
      "text/plain": [
       "[1] 0.9041944"
      ]
     },
     "metadata": {},
     "output_type": "display_data"
    }
   ],
   "source": [
    "cor(X[,1],X[,3]) #Correlation"
   ]
  },
  {
   "cell_type": "code",
   "execution_count": 38,
   "metadata": {
    "scrolled": false
   },
   "outputs": [
    {
     "data": {
      "image/png": "[encoded data removed]",
      "text/plain": [
       "plot without title"
      ]
     },
     "metadata": {},
     "output_type": "display_data"
    }
   ],
   "source": [
    "plot(X[,1],X[,3])"
   ]
  },
  {
   "cell_type": "code",
   "execution_count": 40,
   "metadata": {
    "scrolled": true
   },
   "outputs": [
    {
     "data": {
      "image/png": "[encoded data removed]",
      "text/plain": [
       "Plot with title “Histogram of faithful$waiting”"
      ]
     },
     "metadata": {},
     "output_type": "display_data"
    }
   ],
   "source": [
    "hist(faithful$waiting)"
   ]
  },
  {
   "cell_type": "code",
   "execution_count": 5,
   "metadata": {},
   "outputs": [
    {
     "data": {
      "text/html": [
       "16"
      ],
      "text/latex": [
       "16"
      ],
      "text/markdown": [
       "16"
      ],
      "text/plain": [
       "[1] 16"
      ]
     },
     "metadata": {},
     "output_type": "display_data"
    }
   ],
   "source": [
    "function_Name <- function(x,y) {\n",
    "    result = 2*x + 3*y\n",
    "    return (result)\n",
    "}\n",
    "\n",
    "function_Name(5,2)"
   ]
  },
  {
   "cell_type": "code",
   "execution_count": 9,
   "metadata": {},
   "outputs": [],
   "source": [
    "data(mtcars)"
   ]
  },
  {
   "cell_type": "code",
   "execution_count": 10,
   "metadata": {
    "scrolled": true
   },
   "outputs": [
    {
     "data": {
      "text/html": [
       "<table>\n",
       "<thead><tr><th></th><th scope=col>mpg</th><th scope=col>cyl</th><th scope=col>disp</th><th scope=col>hp</th><th scope=col>drat</th><th scope=col>wt</th><th scope=col>qsec</th><th scope=col>vs</th><th scope=col>am</th><th scope=col>gear</th><th scope=col>carb</th></tr></thead>\n",
       "<tbody>\n",
       "\t<tr><th scope=row>Mazda RX4</th><td>21.0 </td><td>6    </td><td>160.0</td><td>110  </td><td>3.90 </td><td>2.620</td><td>16.46</td><td>0    </td><td>1    </td><td>4    </td><td>4    </td></tr>\n",
       "\t<tr><th scope=row>Mazda RX4 Wag</th><td>21.0 </td><td>6    </td><td>160.0</td><td>110  </td><td>3.90 </td><td>2.875</td><td>17.02</td><td>0    </td><td>1    </td><td>4    </td><td>4    </td></tr>\n",
       "\t<tr><th scope=row>Datsun 710</th><td>22.8 </td><td>4    </td><td>108.0</td><td> 93  </td><td>3.85 </td><td>2.320</td><td>18.61</td><td>1    </td><td>1    </td><td>4    </td><td>1    </td></tr>\n",
       "\t<tr><th scope=row>Hornet 4 Drive</th><td>21.4 </td><td>6    </td><td>258.0</td><td>110  </td><td>3.08 </td><td>3.215</td><td>19.44</td><td>1    </td><td>0    </td><td>3    </td><td>1    </td></tr>\n",
       "\t<tr><th scope=row>Hornet Sportabout</th><td>18.7 </td><td>8    </td><td>360.0</td><td>175  </td><td>3.15 </td><td>3.440</td><td>17.02</td><td>0    </td><td>0    </td><td>3    </td><td>2    </td></tr>\n",
       "\t<tr><th scope=row>Valiant</th><td>18.1 </td><td>6    </td><td>225.0</td><td>105  </td><td>2.76 </td><td>3.460</td><td>20.22</td><td>1    </td><td>0    </td><td>3    </td><td>1    </td></tr>\n",
       "\t<tr><th scope=row>Duster 360</th><td>14.3 </td><td>8    </td><td>360.0</td><td>245  </td><td>3.21 </td><td>3.570</td><td>15.84</td><td>0    </td><td>0    </td><td>3    </td><td>4    </td></tr>\n",
       "\t<tr><th scope=row>Merc 240D</th><td>24.4 </td><td>4    </td><td>146.7</td><td> 62  </td><td>3.69 </td><td>3.190</td><td>20.00</td><td>1    </td><td>0    </td><td>4    </td><td>2    </td></tr>\n",
       "\t<tr><th scope=row>Merc 230</th><td>22.8 </td><td>4    </td><td>140.8</td><td> 95  </td><td>3.92 </td><td>3.150</td><td>22.90</td><td>1    </td><td>0    </td><td>4    </td><td>2    </td></tr>\n",
       "\t<tr><th scope=row>Merc 280</th><td>19.2 </td><td>6    </td><td>167.6</td><td>123  </td><td>3.92 </td><td>3.440</td><td>18.30</td><td>1    </td><td>0    </td><td>4    </td><td>4    </td></tr>\n",
       "\t<tr><th scope=row>Merc 280C</th><td>17.8 </td><td>6    </td><td>167.6</td><td>123  </td><td>3.92 </td><td>3.440</td><td>18.90</td><td>1    </td><td>0    </td><td>4    </td><td>4    </td></tr>\n",
       "\t<tr><th scope=row>Merc 450SE</th><td>16.4 </td><td>8    </td><td>275.8</td><td>180  </td><td>3.07 </td><td>4.070</td><td>17.40</td><td>0    </td><td>0    </td><td>3    </td><td>3    </td></tr>\n",
       "\t<tr><th scope=row>Merc 450SL</th><td>17.3 </td><td>8    </td><td>275.8</td><td>180  </td><td>3.07 </td><td>3.730</td><td>17.60</td><td>0    </td><td>0    </td><td>3    </td><td>3    </td></tr>\n",
       "\t<tr><th scope=row>Merc 450SLC</th><td>15.2 </td><td>8    </td><td>275.8</td><td>180  </td><td>3.07 </td><td>3.780</td><td>18.00</td><td>0    </td><td>0    </td><td>3    </td><td>3    </td></tr>\n",
       "\t<tr><th scope=row>Cadillac Fleetwood</th><td>10.4 </td><td>8    </td><td>472.0</td><td>205  </td><td>2.93 </td><td>5.250</td><td>17.98</td><td>0    </td><td>0    </td><td>3    </td><td>4    </td></tr>\n",
       "\t<tr><th scope=row>Lincoln Continental</th><td>10.4 </td><td>8    </td><td>460.0</td><td>215  </td><td>3.00 </td><td>5.424</td><td>17.82</td><td>0    </td><td>0    </td><td>3    </td><td>4    </td></tr>\n",
       "\t<tr><th scope=row>Chrysler Imperial</th><td>14.7 </td><td>8    </td><td>440.0</td><td>230  </td><td>3.23 </td><td>5.345</td><td>17.42</td><td>0    </td><td>0    </td><td>3    </td><td>4    </td></tr>\n",
       "\t<tr><th scope=row>Fiat 128</th><td>32.4 </td><td>4    </td><td> 78.7</td><td> 66  </td><td>4.08 </td><td>2.200</td><td>19.47</td><td>1    </td><td>1    </td><td>4    </td><td>1    </td></tr>\n",
       "\t<tr><th scope=row>Honda Civic</th><td>30.4 </td><td>4    </td><td> 75.7</td><td> 52  </td><td>4.93 </td><td>1.615</td><td>18.52</td><td>1    </td><td>1    </td><td>4    </td><td>2    </td></tr>\n",
       "\t<tr><th scope=row>Toyota Corolla</th><td>33.9 </td><td>4    </td><td> 71.1</td><td> 65  </td><td>4.22 </td><td>1.835</td><td>19.90</td><td>1    </td><td>1    </td><td>4    </td><td>1    </td></tr>\n",
       "\t<tr><th scope=row>Toyota Corona</th><td>21.5 </td><td>4    </td><td>120.1</td><td> 97  </td><td>3.70 </td><td>2.465</td><td>20.01</td><td>1    </td><td>0    </td><td>3    </td><td>1    </td></tr>\n",
       "\t<tr><th scope=row>Dodge Challenger</th><td>15.5 </td><td>8    </td><td>318.0</td><td>150  </td><td>2.76 </td><td>3.520</td><td>16.87</td><td>0    </td><td>0    </td><td>3    </td><td>2    </td></tr>\n",
       "\t<tr><th scope=row>AMC Javelin</th><td>15.2 </td><td>8    </td><td>304.0</td><td>150  </td><td>3.15 </td><td>3.435</td><td>17.30</td><td>0    </td><td>0    </td><td>3    </td><td>2    </td></tr>\n",
       "\t<tr><th scope=row>Camaro Z28</th><td>13.3 </td><td>8    </td><td>350.0</td><td>245  </td><td>3.73 </td><td>3.840</td><td>15.41</td><td>0    </td><td>0    </td><td>3    </td><td>4    </td></tr>\n",
       "\t<tr><th scope=row>Pontiac Firebird</th><td>19.2 </td><td>8    </td><td>400.0</td><td>175  </td><td>3.08 </td><td>3.845</td><td>17.05</td><td>0    </td><td>0    </td><td>3    </td><td>2    </td></tr>\n",
       "\t<tr><th scope=row>Fiat X1-9</th><td>27.3 </td><td>4    </td><td> 79.0</td><td> 66  </td><td>4.08 </td><td>1.935</td><td>18.90</td><td>1    </td><td>1    </td><td>4    </td><td>1    </td></tr>\n",
       "\t<tr><th scope=row>Porsche 914-2</th><td>26.0 </td><td>4    </td><td>120.3</td><td> 91  </td><td>4.43 </td><td>2.140</td><td>16.70</td><td>0    </td><td>1    </td><td>5    </td><td>2    </td></tr>\n",
       "\t<tr><th scope=row>Lotus Europa</th><td>30.4 </td><td>4    </td><td> 95.1</td><td>113  </td><td>3.77 </td><td>1.513</td><td>16.90</td><td>1    </td><td>1    </td><td>5    </td><td>2    </td></tr>\n",
       "\t<tr><th scope=row>Ford Pantera L</th><td>15.8 </td><td>8    </td><td>351.0</td><td>264  </td><td>4.22 </td><td>3.170</td><td>14.50</td><td>0    </td><td>1    </td><td>5    </td><td>4    </td></tr>\n",
       "\t<tr><th scope=row>Ferrari Dino</th><td>19.7 </td><td>6    </td><td>145.0</td><td>175  </td><td>3.62 </td><td>2.770</td><td>15.50</td><td>0    </td><td>1    </td><td>5    </td><td>6    </td></tr>\n",
       "\t<tr><th scope=row>Maserati Bora</th><td>15.0 </td><td>8    </td><td>301.0</td><td>335  </td><td>3.54 </td><td>3.570</td><td>14.60</td><td>0    </td><td>1    </td><td>5    </td><td>8    </td></tr>\n",
       "\t<tr><th scope=row>Volvo 142E</th><td>21.4 </td><td>4    </td><td>121.0</td><td>109  </td><td>4.11 </td><td>2.780</td><td>18.60</td><td>1    </td><td>1    </td><td>4    </td><td>2    </td></tr>\n",
       "</tbody>\n",
       "</table>\n"
      ],
      "text/latex": [
       "\\begin{tabular}{r|lllllllllll}\n",
       "  & mpg & cyl & disp & hp & drat & wt & qsec & vs & am & gear & carb\\\\\n",
       "\\hline\n",
       "\tMazda RX4 & 21.0  & 6     & 160.0 & 110   & 3.90  & 2.620 & 16.46 & 0     & 1     & 4     & 4    \\\\\n",
       "\tMazda RX4 Wag & 21.0  & 6     & 160.0 & 110   & 3.90  & 2.875 & 17.02 & 0     & 1     & 4     & 4    \\\\\n",
       "\tDatsun 710 & 22.8  & 4     & 108.0 &  93   & 3.85  & 2.320 & 18.61 & 1     & 1     & 4     & 1    \\\\\n",
       "\tHornet 4 Drive & 21.4  & 6     & 258.0 & 110   & 3.08  & 3.215 & 19.44 & 1     & 0     & 3     & 1    \\\\\n",
       "\tHornet Sportabout & 18.7  & 8     & 360.0 & 175   & 3.15  & 3.440 & 17.02 & 0     & 0     & 3     & 2    \\\\\n",
       "\tValiant & 18.1  & 6     & 225.0 & 105   & 2.76  & 3.460 & 20.22 & 1     & 0     & 3     & 1    \\\\\n",
       "\tDuster 360 & 14.3  & 8     & 360.0 & 245   & 3.21  & 3.570 & 15.84 & 0     & 0     & 3     & 4    \\\\\n",
       "\tMerc 240D & 24.4  & 4     & 146.7 &  62   & 3.69  & 3.190 & 20.00 & 1     & 0     & 4     & 2    \\\\\n",
       "\tMerc 230 & 22.8  & 4     & 140.8 &  95   & 3.92  & 3.150 & 22.90 & 1     & 0     & 4     & 2    \\\\\n",
       "\tMerc 280 & 19.2  & 6     & 167.6 & 123   & 3.92  & 3.440 & 18.30 & 1     & 0     & 4     & 4    \\\\\n",
       "\tMerc 280C & 17.8  & 6     & 167.6 & 123   & 3.92  & 3.440 & 18.90 & 1     & 0     & 4     & 4    \\\\\n",
       "\tMerc 450SE & 16.4  & 8     & 275.8 & 180   & 3.07  & 4.070 & 17.40 & 0     & 0     & 3     & 3    \\\\\n",
       "\tMerc 450SL & 17.3  & 8     & 275.8 & 180   & 3.07  & 3.730 & 17.60 & 0     & 0     & 3     & 3    \\\\\n",
       "\tMerc 450SLC & 15.2  & 8     & 275.8 & 180   & 3.07  & 3.780 & 18.00 & 0     & 0     & 3     & 3    \\\\\n",
       "\tCadillac Fleetwood & 10.4  & 8     & 472.0 & 205   & 2.93  & 5.250 & 17.98 & 0     & 0     & 3     & 4    \\\\\n",
       "\tLincoln Continental & 10.4  & 8     & 460.0 & 215   & 3.00  & 5.424 & 17.82 & 0     & 0     & 3     & 4    \\\\\n",
       "\tChrysler Imperial & 14.7  & 8     & 440.0 & 230   & 3.23  & 5.345 & 17.42 & 0     & 0     & 3     & 4    \\\\\n",
       "\tFiat 128 & 32.4  & 4     &  78.7 &  66   & 4.08  & 2.200 & 19.47 & 1     & 1     & 4     & 1    \\\\\n",
       "\tHonda Civic & 30.4  & 4     &  75.7 &  52   & 4.93  & 1.615 & 18.52 & 1     & 1     & 4     & 2    \\\\\n",
       "\tToyota Corolla & 33.9  & 4     &  71.1 &  65   & 4.22  & 1.835 & 19.90 & 1     & 1     & 4     & 1    \\\\\n",
       "\tToyota Corona & 21.5  & 4     & 120.1 &  97   & 3.70  & 2.465 & 20.01 & 1     & 0     & 3     & 1    \\\\\n",
       "\tDodge Challenger & 15.5  & 8     & 318.0 & 150   & 2.76  & 3.520 & 16.87 & 0     & 0     & 3     & 2    \\\\\n",
       "\tAMC Javelin & 15.2  & 8     & 304.0 & 150   & 3.15  & 3.435 & 17.30 & 0     & 0     & 3     & 2    \\\\\n",
       "\tCamaro Z28 & 13.3  & 8     & 350.0 & 245   & 3.73  & 3.840 & 15.41 & 0     & 0     & 3     & 4    \\\\\n",
       "\tPontiac Firebird & 19.2  & 8     & 400.0 & 175   & 3.08  & 3.845 & 17.05 & 0     & 0     & 3     & 2    \\\\\n",
       "\tFiat X1-9 & 27.3  & 4     &  79.0 &  66   & 4.08  & 1.935 & 18.90 & 1     & 1     & 4     & 1    \\\\\n",
       "\tPorsche 914-2 & 26.0  & 4     & 120.3 &  91   & 4.43  & 2.140 & 16.70 & 0     & 1     & 5     & 2    \\\\\n",
       "\tLotus Europa & 30.4  & 4     &  95.1 & 113   & 3.77  & 1.513 & 16.90 & 1     & 1     & 5     & 2    \\\\\n",
       "\tFord Pantera L & 15.8  & 8     & 351.0 & 264   & 4.22  & 3.170 & 14.50 & 0     & 1     & 5     & 4    \\\\\n",
       "\tFerrari Dino & 19.7  & 6     & 145.0 & 175   & 3.62  & 2.770 & 15.50 & 0     & 1     & 5     & 6    \\\\\n",
       "\tMaserati Bora & 15.0  & 8     & 301.0 & 335   & 3.54  & 3.570 & 14.60 & 0     & 1     & 5     & 8    \\\\\n",
       "\tVolvo 142E & 21.4  & 4     & 121.0 & 109   & 4.11  & 2.780 & 18.60 & 1     & 1     & 4     & 2    \\\\\n",
       "\\end{tabular}\n"
      ],
      "text/markdown": [
       "\n",
       "| <!--/--> | mpg | cyl | disp | hp | drat | wt | qsec | vs | am | gear | carb | \n",
       "|---|---|---|---|---|---|---|---|---|---|---|---|---|---|---|---|---|---|---|---|---|---|---|---|---|---|---|---|---|---|---|---|\n",
       "| Mazda RX4 | 21.0  | 6     | 160.0 | 110   | 3.90  | 2.620 | 16.46 | 0     | 1     | 4     | 4     | \n",
       "| Mazda RX4 Wag | 21.0  | 6     | 160.0 | 110   | 3.90  | 2.875 | 17.02 | 0     | 1     | 4     | 4     | \n",
       "| Datsun 710 | 22.8  | 4     | 108.0 |  93   | 3.85  | 2.320 | 18.61 | 1     | 1     | 4     | 1     | \n",
       "| Hornet 4 Drive | 21.4  | 6     | 258.0 | 110   | 3.08  | 3.215 | 19.44 | 1     | 0     | 3     | 1     | \n",
       "| Hornet Sportabout | 18.7  | 8     | 360.0 | 175   | 3.15  | 3.440 | 17.02 | 0     | 0     | 3     | 2     | \n",
       "| Valiant | 18.1  | 6     | 225.0 | 105   | 2.76  | 3.460 | 20.22 | 1     | 0     | 3     | 1     | \n",
       "| Duster 360 | 14.3  | 8     | 360.0 | 245   | 3.21  | 3.570 | 15.84 | 0     | 0     | 3     | 4     | \n",
       "| Merc 240D | 24.4  | 4     | 146.7 |  62   | 3.69  | 3.190 | 20.00 | 1     | 0     | 4     | 2     | \n",
       "| Merc 230 | 22.8  | 4     | 140.8 |  95   | 3.92  | 3.150 | 22.90 | 1     | 0     | 4     | 2     | \n",
       "| Merc 280 | 19.2  | 6     | 167.6 | 123   | 3.92  | 3.440 | 18.30 | 1     | 0     | 4     | 4     | \n",
       "| Merc 280C | 17.8  | 6     | 167.6 | 123   | 3.92  | 3.440 | 18.90 | 1     | 0     | 4     | 4     | \n",
       "| Merc 450SE | 16.4  | 8     | 275.8 | 180   | 3.07  | 4.070 | 17.40 | 0     | 0     | 3     | 3     | \n",
       "| Merc 450SL | 17.3  | 8     | 275.8 | 180   | 3.07  | 3.730 | 17.60 | 0     | 0     | 3     | 3     | \n",
       "| Merc 450SLC | 15.2  | 8     | 275.8 | 180   | 3.07  | 3.780 | 18.00 | 0     | 0     | 3     | 3     | \n",
       "| Cadillac Fleetwood | 10.4  | 8     | 472.0 | 205   | 2.93  | 5.250 | 17.98 | 0     | 0     | 3     | 4     | \n",
       "| Lincoln Continental | 10.4  | 8     | 460.0 | 215   | 3.00  | 5.424 | 17.82 | 0     | 0     | 3     | 4     | \n",
       "| Chrysler Imperial | 14.7  | 8     | 440.0 | 230   | 3.23  | 5.345 | 17.42 | 0     | 0     | 3     | 4     | \n",
       "| Fiat 128 | 32.4  | 4     |  78.7 |  66   | 4.08  | 2.200 | 19.47 | 1     | 1     | 4     | 1     | \n",
       "| Honda Civic | 30.4  | 4     |  75.7 |  52   | 4.93  | 1.615 | 18.52 | 1     | 1     | 4     | 2     | \n",
       "| Toyota Corolla | 33.9  | 4     |  71.1 |  65   | 4.22  | 1.835 | 19.90 | 1     | 1     | 4     | 1     | \n",
       "| Toyota Corona | 21.5  | 4     | 120.1 |  97   | 3.70  | 2.465 | 20.01 | 1     | 0     | 3     | 1     | \n",
       "| Dodge Challenger | 15.5  | 8     | 318.0 | 150   | 2.76  | 3.520 | 16.87 | 0     | 0     | 3     | 2     | \n",
       "| AMC Javelin | 15.2  | 8     | 304.0 | 150   | 3.15  | 3.435 | 17.30 | 0     | 0     | 3     | 2     | \n",
       "| Camaro Z28 | 13.3  | 8     | 350.0 | 245   | 3.73  | 3.840 | 15.41 | 0     | 0     | 3     | 4     | \n",
       "| Pontiac Firebird | 19.2  | 8     | 400.0 | 175   | 3.08  | 3.845 | 17.05 | 0     | 0     | 3     | 2     | \n",
       "| Fiat X1-9 | 27.3  | 4     |  79.0 |  66   | 4.08  | 1.935 | 18.90 | 1     | 1     | 4     | 1     | \n",
       "| Porsche 914-2 | 26.0  | 4     | 120.3 |  91   | 4.43  | 2.140 | 16.70 | 0     | 1     | 5     | 2     | \n",
       "| Lotus Europa | 30.4  | 4     |  95.1 | 113   | 3.77  | 1.513 | 16.90 | 1     | 1     | 5     | 2     | \n",
       "| Ford Pantera L | 15.8  | 8     | 351.0 | 264   | 4.22  | 3.170 | 14.50 | 0     | 1     | 5     | 4     | \n",
       "| Ferrari Dino | 19.7  | 6     | 145.0 | 175   | 3.62  | 2.770 | 15.50 | 0     | 1     | 5     | 6     | \n",
       "| Maserati Bora | 15.0  | 8     | 301.0 | 335   | 3.54  | 3.570 | 14.60 | 0     | 1     | 5     | 8     | \n",
       "| Volvo 142E | 21.4  | 4     | 121.0 | 109   | 4.11  | 2.780 | 18.60 | 1     | 1     | 4     | 2     | \n",
       "\n",
       "\n"
      ],
      "text/plain": [
       "                    mpg  cyl disp  hp  drat wt    qsec  vs am gear carb\n",
       "Mazda RX4           21.0 6   160.0 110 3.90 2.620 16.46 0  1  4    4   \n",
       "Mazda RX4 Wag       21.0 6   160.0 110 3.90 2.875 17.02 0  1  4    4   \n",
       "Datsun 710          22.8 4   108.0  93 3.85 2.320 18.61 1  1  4    1   \n",
       "Hornet 4 Drive      21.4 6   258.0 110 3.08 3.215 19.44 1  0  3    1   \n",
       "Hornet Sportabout   18.7 8   360.0 175 3.15 3.440 17.02 0  0  3    2   \n",
       "Valiant             18.1 6   225.0 105 2.76 3.460 20.22 1  0  3    1   \n",
       "Duster 360          14.3 8   360.0 245 3.21 3.570 15.84 0  0  3    4   \n",
       "Merc 240D           24.4 4   146.7  62 3.69 3.190 20.00 1  0  4    2   \n",
       "Merc 230            22.8 4   140.8  95 3.92 3.150 22.90 1  0  4    2   \n",
       "Merc 280            19.2 6   167.6 123 3.92 3.440 18.30 1  0  4    4   \n",
       "Merc 280C           17.8 6   167.6 123 3.92 3.440 18.90 1  0  4    4   \n",
       "Merc 450SE          16.4 8   275.8 180 3.07 4.070 17.40 0  0  3    3   \n",
       "Merc 450SL          17.3 8   275.8 180 3.07 3.730 17.60 0  0  3    3   \n",
       "Merc 450SLC         15.2 8   275.8 180 3.07 3.780 18.00 0  0  3    3   \n",
       "Cadillac Fleetwood  10.4 8   472.0 205 2.93 5.250 17.98 0  0  3    4   \n",
       "Lincoln Continental 10.4 8   460.0 215 3.00 5.424 17.82 0  0  3    4   \n",
       "Chrysler Imperial   14.7 8   440.0 230 3.23 5.345 17.42 0  0  3    4   \n",
       "Fiat 128            32.4 4    78.7  66 4.08 2.200 19.47 1  1  4    1   \n",
       "Honda Civic         30.4 4    75.7  52 4.93 1.615 18.52 1  1  4    2   \n",
       "Toyota Corolla      33.9 4    71.1  65 4.22 1.835 19.90 1  1  4    1   \n",
       "Toyota Corona       21.5 4   120.1  97 3.70 2.465 20.01 1  0  3    1   \n",
       "Dodge Challenger    15.5 8   318.0 150 2.76 3.520 16.87 0  0  3    2   \n",
       "AMC Javelin         15.2 8   304.0 150 3.15 3.435 17.30 0  0  3    2   \n",
       "Camaro Z28          13.3 8   350.0 245 3.73 3.840 15.41 0  0  3    4   \n",
       "Pontiac Firebird    19.2 8   400.0 175 3.08 3.845 17.05 0  0  3    2   \n",
       "Fiat X1-9           27.3 4    79.0  66 4.08 1.935 18.90 1  1  4    1   \n",
       "Porsche 914-2       26.0 4   120.3  91 4.43 2.140 16.70 0  1  5    2   \n",
       "Lotus Europa        30.4 4    95.1 113 3.77 1.513 16.90 1  1  5    2   \n",
       "Ford Pantera L      15.8 8   351.0 264 4.22 3.170 14.50 0  1  5    4   \n",
       "Ferrari Dino        19.7 6   145.0 175 3.62 2.770 15.50 0  1  5    6   \n",
       "Maserati Bora       15.0 8   301.0 335 3.54 3.570 14.60 0  1  5    8   \n",
       "Volvo 142E          21.4 4   121.0 109 4.11 2.780 18.60 1  1  4    2   "
      ]
     },
     "metadata": {},
     "output_type": "display_data"
    }
   ],
   "source": [
    "mtcars"
   ]
  },
  {
   "cell_type": "code",
   "execution_count": 12,
   "metadata": {},
   "outputs": [
    {
     "data": {
      "text/html": [
       "<ol class=list-inline>\n",
       "\t<li>540</li>\n",
       "\t<li>360</li>\n",
       "\t<li>280</li>\n",
       "\t<li>280</li>\n",
       "\t<li>220</li>\n",
       "\t<li>160</li>\n",
       "\t<li>160</li>\n",
       "</ol>\n"
      ],
      "text/latex": [
       "\\begin{enumerate*}\n",
       "\\item 540\n",
       "\\item 360\n",
       "\\item 280\n",
       "\\item 280\n",
       "\\item 220\n",
       "\\item 160\n",
       "\\item 160\n",
       "\\end{enumerate*}\n"
      ],
      "text/markdown": [
       "1. 540\n",
       "2. 360\n",
       "3. 280\n",
       "4. 280\n",
       "5. 220\n",
       "6. 160\n",
       "7. 160\n",
       "\n",
       "\n"
      ],
      "text/plain": [
       "[1] 540 360 280 280 220 160 160"
      ]
     },
     "metadata": {},
     "output_type": "display_data"
    }
   ],
   "source": [
    "slices <- c(540,360,280,280,220,160,160)\n",
    "slices"
   ]
  },
  {
   "cell_type": "code",
   "execution_count": 1,
   "metadata": {
    "scrolled": true
   },
   "outputs": [
    {
     "ename": "ERROR",
     "evalue": "Error in parse(text = x, srcfile = src): <text>:2:0: unexpected end of input\n1: prop.test(x = 34, n = 230, p = 0.5, correct = FALSE\n   ^\n",
     "output_type": "error",
     "traceback": [
      "Error in parse(text = x, srcfile = src): <text>:2:0: unexpected end of input\n1: prop.test(x = 34, n = 230, p = 0.5, correct = FALSE\n   ^\nTraceback:\n"
     ]
    }
   ],
   "source": [
    "prop.test(x = 34, n = 230, p = 0.5, correct = FALSE"
   ]
  },
  {
   "cell_type": "code",
   "execution_count": 4,
   "metadata": {
    "scrolled": true
   },
   "outputs": [
    {
     "data": {
      "text/plain": [
       "\n",
       "\tPaired t-test\n",
       "\n",
       "data:  c(75, 63, 88, 79, 67) and c(74, 64, 83, 77, 64)\n",
       "t = 2, df = 4, p-value = 0.1161\n",
       "alternative hypothesis: true difference in means is not equal to 0\n",
       "95 percent confidence interval:\n",
       " -0.7764451  4.7764451\n",
       "sample estimates:\n",
       "mean of the differences \n",
       "                      2 \n"
      ]
     },
     "metadata": {},
     "output_type": "display_data"
    }
   ],
   "source": [
    "t.test(x = c(75, 63, 88, 79, 67), y = c(74, 64, 83, 77, 64), paired = TRUE)"
   ]
  },
  {
   "cell_type": "code",
   "execution_count": 2,
   "metadata": {
    "scrolled": false
   },
   "outputs": [
    {
     "data": {
      "text/html": [
       "<table>\n",
       "<thead><tr><th></th><th scope=col>mpg</th><th scope=col>cyl</th><th scope=col>disp</th><th scope=col>hp</th><th scope=col>drat</th><th scope=col>wt</th><th scope=col>qsec</th><th scope=col>vs</th><th scope=col>am</th><th scope=col>gear</th><th scope=col>carb</th></tr></thead>\n",
       "<tbody>\n",
       "\t<tr><th scope=row>Mazda RX4</th><td>21.0 </td><td>6    </td><td>160.0</td><td>110  </td><td>3.90 </td><td>2.620</td><td>16.46</td><td>0    </td><td>1    </td><td>4    </td><td>4    </td></tr>\n",
       "\t<tr><th scope=row>Mazda RX4 Wag</th><td>21.0 </td><td>6    </td><td>160.0</td><td>110  </td><td>3.90 </td><td>2.875</td><td>17.02</td><td>0    </td><td>1    </td><td>4    </td><td>4    </td></tr>\n",
       "\t<tr><th scope=row>Datsun 710</th><td>22.8 </td><td>4    </td><td>108.0</td><td> 93  </td><td>3.85 </td><td>2.320</td><td>18.61</td><td>1    </td><td>1    </td><td>4    </td><td>1    </td></tr>\n",
       "\t<tr><th scope=row>Hornet 4 Drive</th><td>21.4 </td><td>6    </td><td>258.0</td><td>110  </td><td>3.08 </td><td>3.215</td><td>19.44</td><td>1    </td><td>0    </td><td>3    </td><td>1    </td></tr>\n",
       "\t<tr><th scope=row>Hornet Sportabout</th><td>18.7 </td><td>8    </td><td>360.0</td><td>175  </td><td>3.15 </td><td>3.440</td><td>17.02</td><td>0    </td><td>0    </td><td>3    </td><td>2    </td></tr>\n",
       "\t<tr><th scope=row>Valiant</th><td>18.1 </td><td>6    </td><td>225.0</td><td>105  </td><td>2.76 </td><td>3.460</td><td>20.22</td><td>1    </td><td>0    </td><td>3    </td><td>1    </td></tr>\n",
       "\t<tr><th scope=row>Duster 360</th><td>14.3 </td><td>8    </td><td>360.0</td><td>245  </td><td>3.21 </td><td>3.570</td><td>15.84</td><td>0    </td><td>0    </td><td>3    </td><td>4    </td></tr>\n",
       "\t<tr><th scope=row>Merc 240D</th><td>24.4 </td><td>4    </td><td>146.7</td><td> 62  </td><td>3.69 </td><td>3.190</td><td>20.00</td><td>1    </td><td>0    </td><td>4    </td><td>2    </td></tr>\n",
       "\t<tr><th scope=row>Merc 230</th><td>22.8 </td><td>4    </td><td>140.8</td><td> 95  </td><td>3.92 </td><td>3.150</td><td>22.90</td><td>1    </td><td>0    </td><td>4    </td><td>2    </td></tr>\n",
       "\t<tr><th scope=row>Merc 280</th><td>19.2 </td><td>6    </td><td>167.6</td><td>123  </td><td>3.92 </td><td>3.440</td><td>18.30</td><td>1    </td><td>0    </td><td>4    </td><td>4    </td></tr>\n",
       "\t<tr><th scope=row>Merc 280C</th><td>17.8 </td><td>6    </td><td>167.6</td><td>123  </td><td>3.92 </td><td>3.440</td><td>18.90</td><td>1    </td><td>0    </td><td>4    </td><td>4    </td></tr>\n",
       "\t<tr><th scope=row>Merc 450SE</th><td>16.4 </td><td>8    </td><td>275.8</td><td>180  </td><td>3.07 </td><td>4.070</td><td>17.40</td><td>0    </td><td>0    </td><td>3    </td><td>3    </td></tr>\n",
       "\t<tr><th scope=row>Merc 450SL</th><td>17.3 </td><td>8    </td><td>275.8</td><td>180  </td><td>3.07 </td><td>3.730</td><td>17.60</td><td>0    </td><td>0    </td><td>3    </td><td>3    </td></tr>\n",
       "\t<tr><th scope=row>Merc 450SLC</th><td>15.2 </td><td>8    </td><td>275.8</td><td>180  </td><td>3.07 </td><td>3.780</td><td>18.00</td><td>0    </td><td>0    </td><td>3    </td><td>3    </td></tr>\n",
       "\t<tr><th scope=row>Cadillac Fleetwood</th><td>10.4 </td><td>8    </td><td>472.0</td><td>205  </td><td>2.93 </td><td>5.250</td><td>17.98</td><td>0    </td><td>0    </td><td>3    </td><td>4    </td></tr>\n",
       "\t<tr><th scope=row>Lincoln Continental</th><td>10.4 </td><td>8    </td><td>460.0</td><td>215  </td><td>3.00 </td><td>5.424</td><td>17.82</td><td>0    </td><td>0    </td><td>3    </td><td>4    </td></tr>\n",
       "\t<tr><th scope=row>Chrysler Imperial</th><td>14.7 </td><td>8    </td><td>440.0</td><td>230  </td><td>3.23 </td><td>5.345</td><td>17.42</td><td>0    </td><td>0    </td><td>3    </td><td>4    </td></tr>\n",
       "\t<tr><th scope=row>Fiat 128</th><td>32.4 </td><td>4    </td><td> 78.7</td><td> 66  </td><td>4.08 </td><td>2.200</td><td>19.47</td><td>1    </td><td>1    </td><td>4    </td><td>1    </td></tr>\n",
       "\t<tr><th scope=row>Honda Civic</th><td>30.4 </td><td>4    </td><td> 75.7</td><td> 52  </td><td>4.93 </td><td>1.615</td><td>18.52</td><td>1    </td><td>1    </td><td>4    </td><td>2    </td></tr>\n",
       "\t<tr><th scope=row>Toyota Corolla</th><td>33.9 </td><td>4    </td><td> 71.1</td><td> 65  </td><td>4.22 </td><td>1.835</td><td>19.90</td><td>1    </td><td>1    </td><td>4    </td><td>1    </td></tr>\n",
       "\t<tr><th scope=row>Toyota Corona</th><td>21.5 </td><td>4    </td><td>120.1</td><td> 97  </td><td>3.70 </td><td>2.465</td><td>20.01</td><td>1    </td><td>0    </td><td>3    </td><td>1    </td></tr>\n",
       "\t<tr><th scope=row>Dodge Challenger</th><td>15.5 </td><td>8    </td><td>318.0</td><td>150  </td><td>2.76 </td><td>3.520</td><td>16.87</td><td>0    </td><td>0    </td><td>3    </td><td>2    </td></tr>\n",
       "\t<tr><th scope=row>AMC Javelin</th><td>15.2 </td><td>8    </td><td>304.0</td><td>150  </td><td>3.15 </td><td>3.435</td><td>17.30</td><td>0    </td><td>0    </td><td>3    </td><td>2    </td></tr>\n",
       "\t<tr><th scope=row>Camaro Z28</th><td>13.3 </td><td>8    </td><td>350.0</td><td>245  </td><td>3.73 </td><td>3.840</td><td>15.41</td><td>0    </td><td>0    </td><td>3    </td><td>4    </td></tr>\n",
       "\t<tr><th scope=row>Pontiac Firebird</th><td>19.2 </td><td>8    </td><td>400.0</td><td>175  </td><td>3.08 </td><td>3.845</td><td>17.05</td><td>0    </td><td>0    </td><td>3    </td><td>2    </td></tr>\n",
       "\t<tr><th scope=row>Fiat X1-9</th><td>27.3 </td><td>4    </td><td> 79.0</td><td> 66  </td><td>4.08 </td><td>1.935</td><td>18.90</td><td>1    </td><td>1    </td><td>4    </td><td>1    </td></tr>\n",
       "\t<tr><th scope=row>Porsche 914-2</th><td>26.0 </td><td>4    </td><td>120.3</td><td> 91  </td><td>4.43 </td><td>2.140</td><td>16.70</td><td>0    </td><td>1    </td><td>5    </td><td>2    </td></tr>\n",
       "\t<tr><th scope=row>Lotus Europa</th><td>30.4 </td><td>4    </td><td> 95.1</td><td>113  </td><td>3.77 </td><td>1.513</td><td>16.90</td><td>1    </td><td>1    </td><td>5    </td><td>2    </td></tr>\n",
       "\t<tr><th scope=row>Ford Pantera L</th><td>15.8 </td><td>8    </td><td>351.0</td><td>264  </td><td>4.22 </td><td>3.170</td><td>14.50</td><td>0    </td><td>1    </td><td>5    </td><td>4    </td></tr>\n",
       "\t<tr><th scope=row>Ferrari Dino</th><td>19.7 </td><td>6    </td><td>145.0</td><td>175  </td><td>3.62 </td><td>2.770</td><td>15.50</td><td>0    </td><td>1    </td><td>5    </td><td>6    </td></tr>\n",
       "\t<tr><th scope=row>Maserati Bora</th><td>15.0 </td><td>8    </td><td>301.0</td><td>335  </td><td>3.54 </td><td>3.570</td><td>14.60</td><td>0    </td><td>1    </td><td>5    </td><td>8    </td></tr>\n",
       "\t<tr><th scope=row>Volvo 142E</th><td>21.4 </td><td>4    </td><td>121.0</td><td>109  </td><td>4.11 </td><td>2.780</td><td>18.60</td><td>1    </td><td>1    </td><td>4    </td><td>2    </td></tr>\n",
       "</tbody>\n",
       "</table>\n"
      ],
      "text/latex": [
       "\\begin{tabular}{r|lllllllllll}\n",
       "  & mpg & cyl & disp & hp & drat & wt & qsec & vs & am & gear & carb\\\\\n",
       "\\hline\n",
       "\tMazda RX4 & 21.0  & 6     & 160.0 & 110   & 3.90  & 2.620 & 16.46 & 0     & 1     & 4     & 4    \\\\\n",
       "\tMazda RX4 Wag & 21.0  & 6     & 160.0 & 110   & 3.90  & 2.875 & 17.02 & 0     & 1     & 4     & 4    \\\\\n",
       "\tDatsun 710 & 22.8  & 4     & 108.0 &  93   & 3.85  & 2.320 & 18.61 & 1     & 1     & 4     & 1    \\\\\n",
       "\tHornet 4 Drive & 21.4  & 6     & 258.0 & 110   & 3.08  & 3.215 & 19.44 & 1     & 0     & 3     & 1    \\\\\n",
       "\tHornet Sportabout & 18.7  & 8     & 360.0 & 175   & 3.15  & 3.440 & 17.02 & 0     & 0     & 3     & 2    \\\\\n",
       "\tValiant & 18.1  & 6     & 225.0 & 105   & 2.76  & 3.460 & 20.22 & 1     & 0     & 3     & 1    \\\\\n",
       "\tDuster 360 & 14.3  & 8     & 360.0 & 245   & 3.21  & 3.570 & 15.84 & 0     & 0     & 3     & 4    \\\\\n",
       "\tMerc 240D & 24.4  & 4     & 146.7 &  62   & 3.69  & 3.190 & 20.00 & 1     & 0     & 4     & 2    \\\\\n",
       "\tMerc 230 & 22.8  & 4     & 140.8 &  95   & 3.92  & 3.150 & 22.90 & 1     & 0     & 4     & 2    \\\\\n",
       "\tMerc 280 & 19.2  & 6     & 167.6 & 123   & 3.92  & 3.440 & 18.30 & 1     & 0     & 4     & 4    \\\\\n",
       "\tMerc 280C & 17.8  & 6     & 167.6 & 123   & 3.92  & 3.440 & 18.90 & 1     & 0     & 4     & 4    \\\\\n",
       "\tMerc 450SE & 16.4  & 8     & 275.8 & 180   & 3.07  & 4.070 & 17.40 & 0     & 0     & 3     & 3    \\\\\n",
       "\tMerc 450SL & 17.3  & 8     & 275.8 & 180   & 3.07  & 3.730 & 17.60 & 0     & 0     & 3     & 3    \\\\\n",
       "\tMerc 450SLC & 15.2  & 8     & 275.8 & 180   & 3.07  & 3.780 & 18.00 & 0     & 0     & 3     & 3    \\\\\n",
       "\tCadillac Fleetwood & 10.4  & 8     & 472.0 & 205   & 2.93  & 5.250 & 17.98 & 0     & 0     & 3     & 4    \\\\\n",
       "\tLincoln Continental & 10.4  & 8     & 460.0 & 215   & 3.00  & 5.424 & 17.82 & 0     & 0     & 3     & 4    \\\\\n",
       "\tChrysler Imperial & 14.7  & 8     & 440.0 & 230   & 3.23  & 5.345 & 17.42 & 0     & 0     & 3     & 4    \\\\\n",
       "\tFiat 128 & 32.4  & 4     &  78.7 &  66   & 4.08  & 2.200 & 19.47 & 1     & 1     & 4     & 1    \\\\\n",
       "\tHonda Civic & 30.4  & 4     &  75.7 &  52   & 4.93  & 1.615 & 18.52 & 1     & 1     & 4     & 2    \\\\\n",
       "\tToyota Corolla & 33.9  & 4     &  71.1 &  65   & 4.22  & 1.835 & 19.90 & 1     & 1     & 4     & 1    \\\\\n",
       "\tToyota Corona & 21.5  & 4     & 120.1 &  97   & 3.70  & 2.465 & 20.01 & 1     & 0     & 3     & 1    \\\\\n",
       "\tDodge Challenger & 15.5  & 8     & 318.0 & 150   & 2.76  & 3.520 & 16.87 & 0     & 0     & 3     & 2    \\\\\n",
       "\tAMC Javelin & 15.2  & 8     & 304.0 & 150   & 3.15  & 3.435 & 17.30 & 0     & 0     & 3     & 2    \\\\\n",
       "\tCamaro Z28 & 13.3  & 8     & 350.0 & 245   & 3.73  & 3.840 & 15.41 & 0     & 0     & 3     & 4    \\\\\n",
       "\tPontiac Firebird & 19.2  & 8     & 400.0 & 175   & 3.08  & 3.845 & 17.05 & 0     & 0     & 3     & 2    \\\\\n",
       "\tFiat X1-9 & 27.3  & 4     &  79.0 &  66   & 4.08  & 1.935 & 18.90 & 1     & 1     & 4     & 1    \\\\\n",
       "\tPorsche 914-2 & 26.0  & 4     & 120.3 &  91   & 4.43  & 2.140 & 16.70 & 0     & 1     & 5     & 2    \\\\\n",
       "\tLotus Europa & 30.4  & 4     &  95.1 & 113   & 3.77  & 1.513 & 16.90 & 1     & 1     & 5     & 2    \\\\\n",
       "\tFord Pantera L & 15.8  & 8     & 351.0 & 264   & 4.22  & 3.170 & 14.50 & 0     & 1     & 5     & 4    \\\\\n",
       "\tFerrari Dino & 19.7  & 6     & 145.0 & 175   & 3.62  & 2.770 & 15.50 & 0     & 1     & 5     & 6    \\\\\n",
       "\tMaserati Bora & 15.0  & 8     & 301.0 & 335   & 3.54  & 3.570 & 14.60 & 0     & 1     & 5     & 8    \\\\\n",
       "\tVolvo 142E & 21.4  & 4     & 121.0 & 109   & 4.11  & 2.780 & 18.60 & 1     & 1     & 4     & 2    \\\\\n",
       "\\end{tabular}\n"
      ],
      "text/markdown": [
       "\n",
       "| <!--/--> | mpg | cyl | disp | hp | drat | wt | qsec | vs | am | gear | carb | \n",
       "|---|---|---|---|---|---|---|---|---|---|---|---|---|---|---|---|---|---|---|---|---|---|---|---|---|---|---|---|---|---|---|---|\n",
       "| Mazda RX4 | 21.0  | 6     | 160.0 | 110   | 3.90  | 2.620 | 16.46 | 0     | 1     | 4     | 4     | \n",
       "| Mazda RX4 Wag | 21.0  | 6     | 160.0 | 110   | 3.90  | 2.875 | 17.02 | 0     | 1     | 4     | 4     | \n",
       "| Datsun 710 | 22.8  | 4     | 108.0 |  93   | 3.85  | 2.320 | 18.61 | 1     | 1     | 4     | 1     | \n",
       "| Hornet 4 Drive | 21.4  | 6     | 258.0 | 110   | 3.08  | 3.215 | 19.44 | 1     | 0     | 3     | 1     | \n",
       "| Hornet Sportabout | 18.7  | 8     | 360.0 | 175   | 3.15  | 3.440 | 17.02 | 0     | 0     | 3     | 2     | \n",
       "| Valiant | 18.1  | 6     | 225.0 | 105   | 2.76  | 3.460 | 20.22 | 1     | 0     | 3     | 1     | \n",
       "| Duster 360 | 14.3  | 8     | 360.0 | 245   | 3.21  | 3.570 | 15.84 | 0     | 0     | 3     | 4     | \n",
       "| Merc 240D | 24.4  | 4     | 146.7 |  62   | 3.69  | 3.190 | 20.00 | 1     | 0     | 4     | 2     | \n",
       "| Merc 230 | 22.8  | 4     | 140.8 |  95   | 3.92  | 3.150 | 22.90 | 1     | 0     | 4     | 2     | \n",
       "| Merc 280 | 19.2  | 6     | 167.6 | 123   | 3.92  | 3.440 | 18.30 | 1     | 0     | 4     | 4     | \n",
       "| Merc 280C | 17.8  | 6     | 167.6 | 123   | 3.92  | 3.440 | 18.90 | 1     | 0     | 4     | 4     | \n",
       "| Merc 450SE | 16.4  | 8     | 275.8 | 180   | 3.07  | 4.070 | 17.40 | 0     | 0     | 3     | 3     | \n",
       "| Merc 450SL | 17.3  | 8     | 275.8 | 180   | 3.07  | 3.730 | 17.60 | 0     | 0     | 3     | 3     | \n",
       "| Merc 450SLC | 15.2  | 8     | 275.8 | 180   | 3.07  | 3.780 | 18.00 | 0     | 0     | 3     | 3     | \n",
       "| Cadillac Fleetwood | 10.4  | 8     | 472.0 | 205   | 2.93  | 5.250 | 17.98 | 0     | 0     | 3     | 4     | \n",
       "| Lincoln Continental | 10.4  | 8     | 460.0 | 215   | 3.00  | 5.424 | 17.82 | 0     | 0     | 3     | 4     | \n",
       "| Chrysler Imperial | 14.7  | 8     | 440.0 | 230   | 3.23  | 5.345 | 17.42 | 0     | 0     | 3     | 4     | \n",
       "| Fiat 128 | 32.4  | 4     |  78.7 |  66   | 4.08  | 2.200 | 19.47 | 1     | 1     | 4     | 1     | \n",
       "| Honda Civic | 30.4  | 4     |  75.7 |  52   | 4.93  | 1.615 | 18.52 | 1     | 1     | 4     | 2     | \n",
       "| Toyota Corolla | 33.9  | 4     |  71.1 |  65   | 4.22  | 1.835 | 19.90 | 1     | 1     | 4     | 1     | \n",
       "| Toyota Corona | 21.5  | 4     | 120.1 |  97   | 3.70  | 2.465 | 20.01 | 1     | 0     | 3     | 1     | \n",
       "| Dodge Challenger | 15.5  | 8     | 318.0 | 150   | 2.76  | 3.520 | 16.87 | 0     | 0     | 3     | 2     | \n",
       "| AMC Javelin | 15.2  | 8     | 304.0 | 150   | 3.15  | 3.435 | 17.30 | 0     | 0     | 3     | 2     | \n",
       "| Camaro Z28 | 13.3  | 8     | 350.0 | 245   | 3.73  | 3.840 | 15.41 | 0     | 0     | 3     | 4     | \n",
       "| Pontiac Firebird | 19.2  | 8     | 400.0 | 175   | 3.08  | 3.845 | 17.05 | 0     | 0     | 3     | 2     | \n",
       "| Fiat X1-9 | 27.3  | 4     |  79.0 |  66   | 4.08  | 1.935 | 18.90 | 1     | 1     | 4     | 1     | \n",
       "| Porsche 914-2 | 26.0  | 4     | 120.3 |  91   | 4.43  | 2.140 | 16.70 | 0     | 1     | 5     | 2     | \n",
       "| Lotus Europa | 30.4  | 4     |  95.1 | 113   | 3.77  | 1.513 | 16.90 | 1     | 1     | 5     | 2     | \n",
       "| Ford Pantera L | 15.8  | 8     | 351.0 | 264   | 4.22  | 3.170 | 14.50 | 0     | 1     | 5     | 4     | \n",
       "| Ferrari Dino | 19.7  | 6     | 145.0 | 175   | 3.62  | 2.770 | 15.50 | 0     | 1     | 5     | 6     | \n",
       "| Maserati Bora | 15.0  | 8     | 301.0 | 335   | 3.54  | 3.570 | 14.60 | 0     | 1     | 5     | 8     | \n",
       "| Volvo 142E | 21.4  | 4     | 121.0 | 109   | 4.11  | 2.780 | 18.60 | 1     | 1     | 4     | 2     | \n",
       "\n",
       "\n"
      ],
      "text/plain": [
       "                    mpg  cyl disp  hp  drat wt    qsec  vs am gear carb\n",
       "Mazda RX4           21.0 6   160.0 110 3.90 2.620 16.46 0  1  4    4   \n",
       "Mazda RX4 Wag       21.0 6   160.0 110 3.90 2.875 17.02 0  1  4    4   \n",
       "Datsun 710          22.8 4   108.0  93 3.85 2.320 18.61 1  1  4    1   \n",
       "Hornet 4 Drive      21.4 6   258.0 110 3.08 3.215 19.44 1  0  3    1   \n",
       "Hornet Sportabout   18.7 8   360.0 175 3.15 3.440 17.02 0  0  3    2   \n",
       "Valiant             18.1 6   225.0 105 2.76 3.460 20.22 1  0  3    1   \n",
       "Duster 360          14.3 8   360.0 245 3.21 3.570 15.84 0  0  3    4   \n",
       "Merc 240D           24.4 4   146.7  62 3.69 3.190 20.00 1  0  4    2   \n",
       "Merc 230            22.8 4   140.8  95 3.92 3.150 22.90 1  0  4    2   \n",
       "Merc 280            19.2 6   167.6 123 3.92 3.440 18.30 1  0  4    4   \n",
       "Merc 280C           17.8 6   167.6 123 3.92 3.440 18.90 1  0  4    4   \n",
       "Merc 450SE          16.4 8   275.8 180 3.07 4.070 17.40 0  0  3    3   \n",
       "Merc 450SL          17.3 8   275.8 180 3.07 3.730 17.60 0  0  3    3   \n",
       "Merc 450SLC         15.2 8   275.8 180 3.07 3.780 18.00 0  0  3    3   \n",
       "Cadillac Fleetwood  10.4 8   472.0 205 2.93 5.250 17.98 0  0  3    4   \n",
       "Lincoln Continental 10.4 8   460.0 215 3.00 5.424 17.82 0  0  3    4   \n",
       "Chrysler Imperial   14.7 8   440.0 230 3.23 5.345 17.42 0  0  3    4   \n",
       "Fiat 128            32.4 4    78.7  66 4.08 2.200 19.47 1  1  4    1   \n",
       "Honda Civic         30.4 4    75.7  52 4.93 1.615 18.52 1  1  4    2   \n",
       "Toyota Corolla      33.9 4    71.1  65 4.22 1.835 19.90 1  1  4    1   \n",
       "Toyota Corona       21.5 4   120.1  97 3.70 2.465 20.01 1  0  3    1   \n",
       "Dodge Challenger    15.5 8   318.0 150 2.76 3.520 16.87 0  0  3    2   \n",
       "AMC Javelin         15.2 8   304.0 150 3.15 3.435 17.30 0  0  3    2   \n",
       "Camaro Z28          13.3 8   350.0 245 3.73 3.840 15.41 0  0  3    4   \n",
       "Pontiac Firebird    19.2 8   400.0 175 3.08 3.845 17.05 0  0  3    2   \n",
       "Fiat X1-9           27.3 4    79.0  66 4.08 1.935 18.90 1  1  4    1   \n",
       "Porsche 914-2       26.0 4   120.3  91 4.43 2.140 16.70 0  1  5    2   \n",
       "Lotus Europa        30.4 4    95.1 113 3.77 1.513 16.90 1  1  5    2   \n",
       "Ford Pantera L      15.8 8   351.0 264 4.22 3.170 14.50 0  1  5    4   \n",
       "Ferrari Dino        19.7 6   145.0 175 3.62 2.770 15.50 0  1  5    6   \n",
       "Maserati Bora       15.0 8   301.0 335 3.54 3.570 14.60 0  1  5    8   \n",
       "Volvo 142E          21.4 4   121.0 109 4.11 2.780 18.60 1  1  4    2   "
      ]
     },
     "metadata": {},
     "output_type": "display_data"
    }
   ],
   "source": [
    "data = mtcars\n",
    "data"
   ]
  },
  {
   "cell_type": "code",
   "execution_count": 4,
   "metadata": {
    "scrolled": false
   },
   "outputs": [
    {
     "data": {
      "text/plain": [
       "\n",
       "Call:\n",
       "lm(formula = mpg ~ ., data = data)\n",
       "\n",
       "Residuals:\n",
       "    Min      1Q  Median      3Q     Max \n",
       "-3.4506 -1.6044 -0.1196  1.2193  4.6271 \n",
       "\n",
       "Coefficients:\n",
       "            Estimate Std. Error t value Pr(>|t|)  \n",
       "(Intercept) 12.30337   18.71788   0.657   0.5181  \n",
       "cyl         -0.11144    1.04502  -0.107   0.9161  \n",
       "disp         0.01334    0.01786   0.747   0.4635  \n",
       "hp          -0.02148    0.02177  -0.987   0.3350  \n",
       "drat         0.78711    1.63537   0.481   0.6353  \n",
       "wt          -3.71530    1.89441  -1.961   0.0633 .\n",
       "qsec         0.82104    0.73084   1.123   0.2739  \n",
       "vs           0.31776    2.10451   0.151   0.8814  \n",
       "am           2.52023    2.05665   1.225   0.2340  \n",
       "gear         0.65541    1.49326   0.439   0.6652  \n",
       "carb        -0.19942    0.82875  -0.241   0.8122  \n",
       "---\n",
       "Signif. codes:  0 ‘***’ 0.001 ‘**’ 0.01 ‘*’ 0.05 ‘.’ 0.1 ‘ ’ 1\n",
       "\n",
       "Residual standard error: 2.65 on 21 degrees of freedom\n",
       "Multiple R-squared:  0.869,\tAdjusted R-squared:  0.8066 \n",
       "F-statistic: 13.93 on 10 and 21 DF,  p-value: 3.793e-07\n"
      ]
     },
     "metadata": {},
     "output_type": "display_data"
    }
   ],
   "source": [
    "fit = lm(mpg ~ ., data)\n",
    "summary(fit)"
   ]
  },
  {
   "cell_type": "code",
   "execution_count": 8,
   "metadata": {
    "scrolled": true
   },
   "outputs": [
    {
     "data": {
      "text/plain": [
       "\n",
       "Call:\n",
       "lm(formula = mpg ~ wt * hp, data = data)\n",
       "\n",
       "Residuals:\n",
       "    Min      1Q  Median      3Q     Max \n",
       "-3.0632 -1.6491 -0.7362  1.4211  4.5513 \n",
       "\n",
       "Coefficients:\n",
       "            Estimate Std. Error t value Pr(>|t|)    \n",
       "(Intercept) 49.80842    3.60516  13.816 5.01e-14 ***\n",
       "wt          -8.21662    1.26971  -6.471 5.20e-07 ***\n",
       "hp          -0.12010    0.02470  -4.863 4.04e-05 ***\n",
       "wt:hp        0.02785    0.00742   3.753 0.000811 ***\n",
       "---\n",
       "Signif. codes:  0 ‘***’ 0.001 ‘**’ 0.01 ‘*’ 0.05 ‘.’ 0.1 ‘ ’ 1\n",
       "\n",
       "Residual standard error: 2.153 on 28 degrees of freedom\n",
       "Multiple R-squared:  0.8848,\tAdjusted R-squared:  0.8724 \n",
       "F-statistic: 71.66 on 3 and 28 DF,  p-value: 2.981e-13\n"
      ]
     },
     "metadata": {},
     "output_type": "display_data"
    }
   ],
   "source": [
    "fit = lm(mpg ~ wt * hp, data)\n",
    "summary(fit)"
   ]
  },
  {
   "cell_type": "code",
   "execution_count": 11,
   "metadata": {
    "scrolled": true
   },
   "outputs": [
    {
     "data": {
      "text/plain": [
       "\n",
       "Call:\n",
       "lm(formula = mpg ~ wt - hp - factor(am), data = mtcars)\n",
       "\n",
       "Residuals:\n",
       "    Min      1Q  Median      3Q     Max \n",
       "-4.5432 -2.3647 -0.1252  1.4096  6.8727 \n",
       "\n",
       "Coefficients:\n",
       "            Estimate Std. Error t value Pr(>|t|)    \n",
       "(Intercept)  37.2851     1.8776  19.858  < 2e-16 ***\n",
       "wt           -5.3445     0.5591  -9.559 1.29e-10 ***\n",
       "---\n",
       "Signif. codes:  0 ‘***’ 0.001 ‘**’ 0.01 ‘*’ 0.05 ‘.’ 0.1 ‘ ’ 1\n",
       "\n",
       "Residual standard error: 3.046 on 30 degrees of freedom\n",
       "Multiple R-squared:  0.7528,\tAdjusted R-squared:  0.7446 \n",
       "F-statistic: 91.38 on 1 and 30 DF,  p-value: 1.294e-10\n"
      ]
     },
     "metadata": {},
     "output_type": "display_data"
    },
    {
     "data": {
      "image/png": "[encoded data removed]",
      "text/plain": [
       "plot without title"
      ]
     },
     "metadata": {},
     "output_type": "display_data"
    }
   ],
   "source": [
    "plot(mtcars$mpg, mtcars$am)\n",
    "fit = lm(mpg~wt - hp - factor(am), data = mtcars)\n",
    "summary(fit)"
   ]
  },
  {
   "cell_type": "markdown",
   "metadata": {},
   "source": [
    "Dummy Variables"
   ]
  },
  {
   "cell_type": "code",
   "execution_count": 12,
   "metadata": {
    "scrolled": true
   },
   "outputs": [
    {
     "data": {
      "text/plain": [
       "\n",
       "Call:\n",
       "lm(formula = mpg ~ wt - hp - factor(am) - factor(cyl), data = mtcars)\n",
       "\n",
       "Residuals:\n",
       "    Min      1Q  Median      3Q     Max \n",
       "-4.5432 -2.3647 -0.1252  1.4096  6.8727 \n",
       "\n",
       "Coefficients:\n",
       "            Estimate Std. Error t value Pr(>|t|)    \n",
       "(Intercept)  37.2851     1.8776  19.858  < 2e-16 ***\n",
       "wt           -5.3445     0.5591  -9.559 1.29e-10 ***\n",
       "---\n",
       "Signif. codes:  0 ‘***’ 0.001 ‘**’ 0.01 ‘*’ 0.05 ‘.’ 0.1 ‘ ’ 1\n",
       "\n",
       "Residual standard error: 3.046 on 30 degrees of freedom\n",
       "Multiple R-squared:  0.7528,\tAdjusted R-squared:  0.7446 \n",
       "F-statistic: 91.38 on 1 and 30 DF,  p-value: 1.294e-10\n"
      ]
     },
     "metadata": {},
     "output_type": "display_data"
    }
   ],
   "source": [
    "fit = lm(mpg ~ wt - hp - factor(am) - factor(cyl), data = mtcars)\n",
    "summary(fit)"
   ]
  },
  {
   "cell_type": "markdown",
   "metadata": {},
   "source": [
    "E(epsilon) = 0\n",
    "epsilon independant of X\n",
    "constant sigma square"
   ]
  },
  {
   "cell_type": "code",
   "execution_count": 13,
   "metadata": {
    "scrolled": true
   },
   "outputs": [
    {
     "data": {
      "image/png": "[encoded data removed]",
      "text/plain": [
       "Plot with title “”"
      ]
     },
     "metadata": {},
     "output_type": "display_data"
    },
    {
     "data": {
      "image/png": "[encoded data removed]",
      "text/plain": [
       "Plot with title “”"
      ]
     },
     "metadata": {},
     "output_type": "display_data"
    },
    {
     "data": {
      "image/png": "[encoded data removed]",
      "text/plain": [
       "Plot with title “”"
      ]
     },
     "metadata": {},
     "output_type": "display_data"
    },
    {
     "data": {
      "image/png": "[encoded data removed]",
      "text/plain": [
       "Plot with title “”"
      ]
     },
     "metadata": {},
     "output_type": "display_data"
    }
   ],
   "source": [
    "plot(fit)"
   ]
  },
  {
   "cell_type": "markdown",
   "metadata": {},
   "source": [
    "Curve fitting methods\n",
    "\n",
    "splines\n",
    "ksmooth (kernal regression)\n",
    "loess"
   ]
  },
  {
   "cell_type": "code",
   "execution_count": 26,
   "metadata": {},
   "outputs": [
    {
     "ename": "ERROR",
     "evalue": "Error in lowes(cars$speed, cars$dist, \"normal\", bandwidth = 8): could not find function \"lowes\"\n",
     "output_type": "error",
     "traceback": [
      "Error in lowes(cars$speed, cars$dist, \"normal\", bandwidth = 8): could not find function \"lowes\"\nTraceback:\n",
      "1. lines(lowes(cars$speed, cars$dist, \"normal\", bandwidth = 8), \n .     col = 4)"
     ]
    }
   ],
   "source": [
    "lines(lowes(cars$speed, cars$dist, \"normal\", bandwidth=8), col=4)"
   ]
  },
  {
   "cell_type": "code",
   "execution_count": 16,
   "metadata": {
    "scrolled": false
   },
   "outputs": [
    {
     "data": {
      "text/html": [
       "<pre class=language-r><code>function (x, y = NULL, f = 2/3, iter = 3L, delta = 0.01 * diff(range(x))) \n",
       "{\n",
       "<span style=white-space:pre-wrap>    xy &lt;- xy.coords(x, y, setLab = FALSE)</span>\n",
       "<span style=white-space:pre-wrap>    o &lt;- order(xy$x)</span>\n",
       "<span style=white-space:pre-wrap>    x &lt;- as.double(xy$x[o])</span>\n",
       "<span style=white-space:pre-wrap>    list(x = x, y = .Call(C_lowess, x, as.double(xy$y[o]), f, </span>\n",
       "<span style=white-space:pre-wrap>        iter, delta))</span>\n",
       "}</code></pre>"
      ],
      "text/latex": [
       "\\begin{minted}{r}\n",
       "function (x, y = NULL, f = 2/3, iter = 3L, delta = 0.01 * diff(range(x))) \n",
       "\\{\n",
       "    xy <- xy.coords(x, y, setLab = FALSE)\n",
       "    o <- order(xy\\$x)\n",
       "    x <- as.double(xy\\$x{[}o{]})\n",
       "    list(x = x, y = .Call(C\\_lowess, x, as.double(xy\\$y{[}o{]}), f, \n",
       "        iter, delta))\n",
       "\\}\n",
       "\\end{minted}"
      ],
      "text/markdown": [
       "```r\n",
       "function (x, y = NULL, f = 2/3, iter = 3L, delta = 0.01 * diff(range(x))) \n",
       "{\n",
       "    xy <- xy.coords(x, y, setLab = FALSE)\n",
       "    o <- order(xy$x)\n",
       "    x <- as.double(xy$x[o])\n",
       "    list(x = x, y = .Call(C_lowess, x, as.double(xy$y[o]), f, \n",
       "        iter, delta))\n",
       "}\n",
       "```"
      ],
      "text/plain": [
       "function (x, y = NULL, f = 2/3, iter = 3L, delta = 0.01 * diff(range(x))) \n",
       "{\n",
       "    xy <- xy.coords(x, y, setLab = FALSE)\n",
       "    o <- order(xy$x)\n",
       "    x <- as.double(xy$x[o])\n",
       "    list(x = x, y = .Call(C_lowess, x, as.double(xy$y[o]), f, \n",
       "        iter, delta))\n",
       "}\n",
       "<bytecode: 0x56514795c608>\n",
       "<environment: namespace:stats>"
      ]
     },
     "metadata": {},
     "output_type": "display_data"
    }
   ],
   "source": [
    "lowess"
   ]
  },
  {
   "cell_type": "markdown",
   "metadata": {},
   "source": [
    "AIC - Akaike Information Criterium\n",
    "BIC - Bayesian\n",
    "\n",
    "Measure a combination of goodness of fit and # of parameters\n",
    "\n",
    "Likelihood + penalty "
   ]
  },
  {
   "cell_type": "markdown",
   "metadata": {},
   "source": [
    "# fuck you"
   ]
  },
  {
   "cell_type": "code",
   "execution_count": 28,
   "metadata": {
    "scrolled": true
   },
   "outputs": [
    {
     "data": {
      "text/html": [
       "<pre class=language-r><code>function (object, scope, scale = 0, direction = c(\"both\", \"backward\", \n",
       "<span style=white-space:pre-wrap>    \"forward\"), trace = 1, keep = NULL, steps = 1000, k = 2, </span>\n",
       "<span style=white-space:pre-wrap>    ...) </span>\n",
       "{\n",
       "<span style=white-space:pre-wrap>    mydeviance &lt;- function(x, ...) {</span>\n",
       "<span style=white-space:pre-wrap>        dev &lt;- deviance(x)</span>\n",
       "<span style=white-space:pre-wrap>        if (!is.null(dev)) </span>\n",
       "<span style=white-space:pre-wrap>            dev</span>\n",
       "<span style=white-space:pre-wrap>        else extractAIC(x, k = 0)[2L]</span>\n",
       "<span style=white-space:pre-wrap>    }</span>\n",
       "<span style=white-space:pre-wrap>    cut.string &lt;- function(string) {</span>\n",
       "<span style=white-space:pre-wrap>        if (length(string) &gt; 1L) </span>\n",
       "<span style=white-space:pre-wrap>            string[-1L] &lt;- paste0(\"\\n\", string[-1L])</span>\n",
       "<span style=white-space:pre-wrap>        string</span>\n",
       "<span style=white-space:pre-wrap>    }</span>\n",
       "<span style=white-space:pre-wrap>    re.arrange &lt;- function(keep) {</span>\n",
       "<span style=white-space:pre-wrap>        namr &lt;- names(k1 &lt;- keep[[1L]])</span>\n",
       "<span style=white-space:pre-wrap>        namc &lt;- names(keep)</span>\n",
       "<span style=white-space:pre-wrap>        nc &lt;- length(keep)</span>\n",
       "<span style=white-space:pre-wrap>        nr &lt;- length(k1)</span>\n",
       "<span style=white-space:pre-wrap>        array(unlist(keep, recursive = FALSE), c(nr, nc), list(namr, </span>\n",
       "<span style=white-space:pre-wrap>            namc))</span>\n",
       "<span style=white-space:pre-wrap>    }</span>\n",
       "<span style=white-space:pre-wrap>    step.results &lt;- function(models, fit, object, usingCp = FALSE) {</span>\n",
       "<span style=white-space:pre-wrap>        change &lt;- sapply(models, \"[[\", \"change\")</span>\n",
       "<span style=white-space:pre-wrap>        rd &lt;- sapply(models, \"[[\", \"deviance\")</span>\n",
       "<span style=white-space:pre-wrap>        dd &lt;- c(NA, abs(diff(rd)))</span>\n",
       "<span style=white-space:pre-wrap>        rdf &lt;- sapply(models, \"[[\", \"df.resid\")</span>\n",
       "<span style=white-space:pre-wrap>        ddf &lt;- c(NA, diff(rdf))</span>\n",
       "<span style=white-space:pre-wrap>        AIC &lt;- sapply(models, \"[[\", \"AIC\")</span>\n",
       "<span style=white-space:pre-wrap>        heading &lt;- c(\"Stepwise Model Path \\nAnalysis of Deviance Table\", </span>\n",
       "<span style=white-space:pre-wrap>            \"\\nInitial Model:\", deparse(formula(object)), \"\\nFinal Model:\", </span>\n",
       "<span style=white-space:pre-wrap>            deparse(formula(fit)), \"\\n\")</span>\n",
       "<span style=white-space:pre-wrap>        aod &lt;- data.frame(Step = I(change), Df = ddf, Deviance = dd, </span>\n",
       "<span style=white-space:pre-wrap>            `Resid. Df` = rdf, `Resid. Dev` = rd, AIC = AIC, </span>\n",
       "<span style=white-space:pre-wrap>            check.names = FALSE)</span>\n",
       "<span style=white-space:pre-wrap>        if (usingCp) {</span>\n",
       "<span style=white-space:pre-wrap>            cn &lt;- colnames(aod)</span>\n",
       "<span style=white-space:pre-wrap>            cn[cn == \"AIC\"] &lt;- \"Cp\"</span>\n",
       "<span style=white-space:pre-wrap>            colnames(aod) &lt;- cn</span>\n",
       "<span style=white-space:pre-wrap>        }</span>\n",
       "<span style=white-space:pre-wrap>        attr(aod, \"heading\") &lt;- heading</span>\n",
       "<span style=white-space:pre-wrap>        fit$anova &lt;- aod</span>\n",
       "<span style=white-space:pre-wrap>        fit</span>\n",
       "<span style=white-space:pre-wrap>    }</span>\n",
       "<span style=white-space:pre-wrap>    Terms &lt;- terms(object)</span>\n",
       "<span style=white-space:pre-wrap>    object$call$formula &lt;- object$formula &lt;- Terms</span>\n",
       "<span style=white-space:pre-wrap>    md &lt;- missing(direction)</span>\n",
       "<span style=white-space:pre-wrap>    direction &lt;- match.arg(direction)</span>\n",
       "<span style=white-space:pre-wrap>    backward &lt;- direction == \"both\" | direction == \"backward\"</span>\n",
       "<span style=white-space:pre-wrap>    forward &lt;- direction == \"both\" | direction == \"forward\"</span>\n",
       "<span style=white-space:pre-wrap>    if (missing(scope)) {</span>\n",
       "<span style=white-space:pre-wrap>        fdrop &lt;- numeric()</span>\n",
       "<span style=white-space:pre-wrap>        fadd &lt;- attr(Terms, \"factors\")</span>\n",
       "<span style=white-space:pre-wrap>        if (md) </span>\n",
       "<span style=white-space:pre-wrap>            forward &lt;- FALSE</span>\n",
       "<span style=white-space:pre-wrap>    }</span>\n",
       "<span style=white-space:pre-wrap>    else {</span>\n",
       "<span style=white-space:pre-wrap>        if (is.list(scope)) {</span>\n",
       "<span style=white-space:pre-wrap>            fdrop &lt;- if (!is.null(fdrop &lt;- scope$lower)) </span>\n",
       "<span style=white-space:pre-wrap>                attr(terms(update.formula(object, fdrop)), \"factors\")</span>\n",
       "<span style=white-space:pre-wrap>            else numeric()</span>\n",
       "<span style=white-space:pre-wrap>            fadd &lt;- if (!is.null(fadd &lt;- scope$upper)) </span>\n",
       "<span style=white-space:pre-wrap>                attr(terms(update.formula(object, fadd)), \"factors\")</span>\n",
       "<span style=white-space:pre-wrap>        }</span>\n",
       "<span style=white-space:pre-wrap>        else {</span>\n",
       "<span style=white-space:pre-wrap>            fadd &lt;- if (!is.null(fadd &lt;- scope)) </span>\n",
       "<span style=white-space:pre-wrap>                attr(terms(update.formula(object, scope)), \"factors\")</span>\n",
       "<span style=white-space:pre-wrap>            fdrop &lt;- numeric()</span>\n",
       "<span style=white-space:pre-wrap>        }</span>\n",
       "<span style=white-space:pre-wrap>    }</span>\n",
       "<span style=white-space:pre-wrap>    models &lt;- vector(\"list\", steps)</span>\n",
       "<span style=white-space:pre-wrap>    if (!is.null(keep)) </span>\n",
       "<span style=white-space:pre-wrap>        keep.list &lt;- vector(\"list\", steps)</span>\n",
       "<span style=white-space:pre-wrap>    n &lt;- nobs(object, use.fallback = TRUE)</span>\n",
       "<span style=white-space:pre-wrap>    fit &lt;- object</span>\n",
       "<span style=white-space:pre-wrap>    bAIC &lt;- extractAIC(fit, scale, k = k, ...)</span>\n",
       "<span style=white-space:pre-wrap>    edf &lt;- bAIC[1L]</span>\n",
       "<span style=white-space:pre-wrap>    bAIC &lt;- bAIC[2L]</span>\n",
       "<span style=white-space:pre-wrap>    if (is.na(bAIC)) </span>\n",
       "<span style=white-space:pre-wrap>        stop(\"AIC is not defined for this model, so 'step' cannot proceed\")</span>\n",
       "<span style=white-space:pre-wrap>    if (bAIC == -Inf) </span>\n",
       "<span style=white-space:pre-wrap>        stop(\"AIC is -infinity for this model, so 'step' cannot proceed\")</span>\n",
       "<span style=white-space:pre-wrap>    nm &lt;- 1</span>\n",
       "<span style=white-space:pre-wrap>    if (trace) {</span>\n",
       "<span style=white-space:pre-wrap>        cat(\"Start:  AIC=\", format(round(bAIC, 2)), \"\\n\", cut.string(deparse(formula(fit))), </span>\n",
       "<span style=white-space:pre-wrap>            \"\\n\\n\", sep = \"\")</span>\n",
       "<span style=white-space:pre-wrap>        flush.console()</span>\n",
       "<span style=white-space:pre-wrap>    }</span>\n",
       "<span style=white-space:pre-wrap>    models[[nm]] &lt;- list(deviance = mydeviance(fit), df.resid = n - </span>\n",
       "<span style=white-space:pre-wrap>        edf, change = \"\", AIC = bAIC)</span>\n",
       "<span style=white-space:pre-wrap>    if (!is.null(keep)) </span>\n",
       "<span style=white-space:pre-wrap>        keep.list[[nm]] &lt;- keep(fit, bAIC)</span>\n",
       "<span style=white-space:pre-wrap>    usingCp &lt;- FALSE</span>\n",
       "<span style=white-space:pre-wrap>    while (steps &gt; 0) {</span>\n",
       "<span style=white-space:pre-wrap>        steps &lt;- steps - 1</span>\n",
       "<span style=white-space:pre-wrap>        AIC &lt;- bAIC</span>\n",
       "<span style=white-space:pre-wrap>        ffac &lt;- attr(Terms, \"factors\")</span>\n",
       "<span style=white-space:pre-wrap>        scope &lt;- factor.scope(ffac, list(add = fadd, drop = fdrop))</span>\n",
       "<span style=white-space:pre-wrap>        aod &lt;- NULL</span>\n",
       "<span style=white-space:pre-wrap>        change &lt;- NULL</span>\n",
       "<span style=white-space:pre-wrap>        if (backward &amp;&amp; length(scope$drop)) {</span>\n",
       "<span style=white-space:pre-wrap>            aod &lt;- drop1(fit, scope$drop, scale = scale, trace = trace, </span>\n",
       "<span style=white-space:pre-wrap>                k = k, ...)</span>\n",
       "<span style=white-space:pre-wrap>            rn &lt;- row.names(aod)</span>\n",
       "<span style=white-space:pre-wrap>            row.names(aod) &lt;- c(rn[1L], paste(\"-\", rn[-1L]))</span>\n",
       "<span style=white-space:pre-wrap>            if (any(aod$Df == 0, na.rm = TRUE)) {</span>\n",
       "<span style=white-space:pre-wrap>                zdf &lt;- aod$Df == 0 &amp; !is.na(aod$Df)</span>\n",
       "<span style=white-space:pre-wrap>                change &lt;- rev(rownames(aod)[zdf])[1L]</span>\n",
       "<span style=white-space:pre-wrap>            }</span>\n",
       "<span style=white-space:pre-wrap>        }</span>\n",
       "<span style=white-space:pre-wrap>        if (is.null(change)) {</span>\n",
       "<span style=white-space:pre-wrap>            if (forward &amp;&amp; length(scope$add)) {</span>\n",
       "<span style=white-space:pre-wrap>                aodf &lt;- add1(fit, scope$add, scale = scale, trace = trace, </span>\n",
       "<span style=white-space:pre-wrap>                  k = k, ...)</span>\n",
       "<span style=white-space:pre-wrap>                rn &lt;- row.names(aodf)</span>\n",
       "<span style=white-space:pre-wrap>                row.names(aodf) &lt;- c(rn[1L], paste(\"+\", rn[-1L]))</span>\n",
       "<span style=white-space:pre-wrap>                aod &lt;- if (is.null(aod)) </span>\n",
       "<span style=white-space:pre-wrap>                  aodf</span>\n",
       "<span style=white-space:pre-wrap>                else rbind(aod, aodf[-1, , drop = FALSE])</span>\n",
       "<span style=white-space:pre-wrap>            }</span>\n",
       "<span style=white-space:pre-wrap>            attr(aod, \"heading\") &lt;- NULL</span>\n",
       "<span style=white-space:pre-wrap>            nzdf &lt;- if (!is.null(aod$Df)) </span>\n",
       "<span style=white-space:pre-wrap>                aod$Df != 0 | is.na(aod$Df)</span>\n",
       "<span style=white-space:pre-wrap>            aod &lt;- aod[nzdf, ]</span>\n",
       "<span style=white-space:pre-wrap>            if (is.null(aod) || ncol(aod) == 0) </span>\n",
       "<span style=white-space:pre-wrap>                break</span>\n",
       "<span style=white-space:pre-wrap>            nc &lt;- match(c(\"Cp\", \"AIC\"), names(aod))</span>\n",
       "<span style=white-space:pre-wrap>            nc &lt;- nc[!is.na(nc)][1L]</span>\n",
       "<span style=white-space:pre-wrap>            o &lt;- order(aod[, nc])</span>\n",
       "<span style=white-space:pre-wrap>            if (trace) </span>\n",
       "<span style=white-space:pre-wrap>                print(aod[o, ])</span>\n",
       "<span style=white-space:pre-wrap>            if (o[1L] == 1) </span>\n",
       "<span style=white-space:pre-wrap>                break</span>\n",
       "<span style=white-space:pre-wrap>            change &lt;- rownames(aod)[o[1L]]</span>\n",
       "<span style=white-space:pre-wrap>        }</span>\n",
       "<span style=white-space:pre-wrap>        usingCp &lt;- match(\"Cp\", names(aod), 0L) &gt; 0L</span>\n",
       "<span style=white-space:pre-wrap>        fit &lt;- update(fit, paste(\"~ .\", change), evaluate = FALSE)</span>\n",
       "<span style=white-space:pre-wrap>        fit &lt;- eval.parent(fit)</span>\n",
       "<span style=white-space:pre-wrap>        nnew &lt;- nobs(fit, use.fallback = TRUE)</span>\n",
       "<span style=white-space:pre-wrap>        if (all(is.finite(c(n, nnew))) &amp;&amp; nnew != n) </span>\n",
       "<span style=white-space:pre-wrap>            stop(\"number of rows in use has changed: remove missing values?\")</span>\n",
       "<span style=white-space:pre-wrap>        Terms &lt;- terms(fit)</span>\n",
       "<span style=white-space:pre-wrap>        bAIC &lt;- extractAIC(fit, scale, k = k, ...)</span>\n",
       "<span style=white-space:pre-wrap>        edf &lt;- bAIC[1L]</span>\n",
       "<span style=white-space:pre-wrap>        bAIC &lt;- bAIC[2L]</span>\n",
       "<span style=white-space:pre-wrap>        if (trace) {</span>\n",
       "<span style=white-space:pre-wrap>            cat(\"\\nStep:  AIC=\", format(round(bAIC, 2)), \"\\n\", </span>\n",
       "<span style=white-space:pre-wrap>                cut.string(deparse(formula(fit))), \"\\n\\n\", sep = \"\")</span>\n",
       "<span style=white-space:pre-wrap>            flush.console()</span>\n",
       "<span style=white-space:pre-wrap>        }</span>\n",
       "<span style=white-space:pre-wrap>        if (bAIC &gt;= AIC + 1e-07) </span>\n",
       "<span style=white-space:pre-wrap>            break</span>\n",
       "<span style=white-space:pre-wrap>        nm &lt;- nm + 1</span>\n",
       "<span style=white-space:pre-wrap>        models[[nm]] &lt;- list(deviance = mydeviance(fit), df.resid = n - </span>\n",
       "<span style=white-space:pre-wrap>            edf, change = change, AIC = bAIC)</span>\n",
       "<span style=white-space:pre-wrap>        if (!is.null(keep)) </span>\n",
       "<span style=white-space:pre-wrap>            keep.list[[nm]] &lt;- keep(fit, bAIC)</span>\n",
       "<span style=white-space:pre-wrap>    }</span>\n",
       "<span style=white-space:pre-wrap>    if (!is.null(keep)) </span>\n",
       "<span style=white-space:pre-wrap>        fit$keep &lt;- re.arrange(keep.list[seq(nm)])</span>\n",
       "<span style=white-space:pre-wrap>    step.results(models = models[seq(nm)], fit, object, usingCp)</span>\n",
       "}</code></pre>"
      ],
      "text/latex": [
       "\\begin{minted}{r}\n",
       "function (object, scope, scale = 0, direction = c(\"both\", \"backward\", \n",
       "    \"forward\"), trace = 1, keep = NULL, steps = 1000, k = 2, \n",
       "    ...) \n",
       "\\{\n",
       "    mydeviance <- function(x, ...) \\{\n",
       "        dev <- deviance(x)\n",
       "        if (!is.null(dev)) \n",
       "            dev\n",
       "        else extractAIC(x, k = 0){[}2L{]}\n",
       "    \\}\n",
       "    cut.string <- function(string) \\{\n",
       "        if (length(string) > 1L) \n",
       "            string{[}-1L{]} <- paste0(\"\\textbackslash{}n\", string{[}-1L{]})\n",
       "        string\n",
       "    \\}\n",
       "    re.arrange <- function(keep) \\{\n",
       "        namr <- names(k1 <- keep{[}{[}1L{]}{]})\n",
       "        namc <- names(keep)\n",
       "        nc <- length(keep)\n",
       "        nr <- length(k1)\n",
       "        array(unlist(keep, recursive = FALSE), c(nr, nc), list(namr, \n",
       "            namc))\n",
       "    \\}\n",
       "    step.results <- function(models, fit, object, usingCp = FALSE) \\{\n",
       "        change <- sapply(models, \"{[}{[}\", \"change\")\n",
       "        rd <- sapply(models, \"{[}{[}\", \"deviance\")\n",
       "        dd <- c(NA, abs(diff(rd)))\n",
       "        rdf <- sapply(models, \"{[}{[}\", \"df.resid\")\n",
       "        ddf <- c(NA, diff(rdf))\n",
       "        AIC <- sapply(models, \"{[}{[}\", \"AIC\")\n",
       "        heading <- c(\"Stepwise Model Path \\textbackslash{}nAnalysis of Deviance Table\", \n",
       "            \"\\textbackslash{}nInitial Model:\", deparse(formula(object)), \"\\textbackslash{}nFinal Model:\", \n",
       "            deparse(formula(fit)), \"\\textbackslash{}n\")\n",
       "        aod <- data.frame(Step = I(change), Df = ddf, Deviance = dd, \n",
       "            `Resid. Df` = rdf, `Resid. Dev` = rd, AIC = AIC, \n",
       "            check.names = FALSE)\n",
       "        if (usingCp) \\{\n",
       "            cn <- colnames(aod)\n",
       "            cn{[}cn == \"AIC\"{]} <- \"Cp\"\n",
       "            colnames(aod) <- cn\n",
       "        \\}\n",
       "        attr(aod, \"heading\") <- heading\n",
       "        fit\\$anova <- aod\n",
       "        fit\n",
       "    \\}\n",
       "    Terms <- terms(object)\n",
       "    object\\$call\\$formula <- object\\$formula <- Terms\n",
       "    md <- missing(direction)\n",
       "    direction <- match.arg(direction)\n",
       "    backward <- direction == \"both\" \\textbar{} direction == \"backward\"\n",
       "    forward <- direction == \"both\" \\textbar{} direction == \"forward\"\n",
       "    if (missing(scope)) \\{\n",
       "        fdrop <- numeric()\n",
       "        fadd <- attr(Terms, \"factors\")\n",
       "        if (md) \n",
       "            forward <- FALSE\n",
       "    \\}\n",
       "    else \\{\n",
       "        if (is.list(scope)) \\{\n",
       "            fdrop <- if (!is.null(fdrop <- scope\\$lower)) \n",
       "                attr(terms(update.formula(object, fdrop)), \"factors\")\n",
       "            else numeric()\n",
       "            fadd <- if (!is.null(fadd <- scope\\$upper)) \n",
       "                attr(terms(update.formula(object, fadd)), \"factors\")\n",
       "        \\}\n",
       "        else \\{\n",
       "            fadd <- if (!is.null(fadd <- scope)) \n",
       "                attr(terms(update.formula(object, scope)), \"factors\")\n",
       "            fdrop <- numeric()\n",
       "        \\}\n",
       "    \\}\n",
       "    models <- vector(\"list\", steps)\n",
       "    if (!is.null(keep)) \n",
       "        keep.list <- vector(\"list\", steps)\n",
       "    n <- nobs(object, use.fallback = TRUE)\n",
       "    fit <- object\n",
       "    bAIC <- extractAIC(fit, scale, k = k, ...)\n",
       "    edf <- bAIC{[}1L{]}\n",
       "    bAIC <- bAIC{[}2L{]}\n",
       "    if (is.na(bAIC)) \n",
       "        stop(\"AIC is not defined for this model, so 'step' cannot proceed\")\n",
       "    if (bAIC == -Inf) \n",
       "        stop(\"AIC is -infinity for this model, so 'step' cannot proceed\")\n",
       "    nm <- 1\n",
       "    if (trace) \\{\n",
       "        cat(\"Start:  AIC=\", format(round(bAIC, 2)), \"\\textbackslash{}n\", cut.string(deparse(formula(fit))), \n",
       "            \"\\textbackslash{}n\\textbackslash{}n\", sep = \"\")\n",
       "        flush.console()\n",
       "    \\}\n",
       "    models{[}{[}nm{]}{]} <- list(deviance = mydeviance(fit), df.resid = n - \n",
       "        edf, change = \"\", AIC = bAIC)\n",
       "    if (!is.null(keep)) \n",
       "        keep.list{[}{[}nm{]}{]} <- keep(fit, bAIC)\n",
       "    usingCp <- FALSE\n",
       "    while (steps > 0) \\{\n",
       "        steps <- steps - 1\n",
       "        AIC <- bAIC\n",
       "        ffac <- attr(Terms, \"factors\")\n",
       "        scope <- factor.scope(ffac, list(add = fadd, drop = fdrop))\n",
       "        aod <- NULL\n",
       "        change <- NULL\n",
       "        if (backward \\&\\& length(scope\\$drop)) \\{\n",
       "            aod <- drop1(fit, scope\\$drop, scale = scale, trace = trace, \n",
       "                k = k, ...)\n",
       "            rn <- row.names(aod)\n",
       "            row.names(aod) <- c(rn{[}1L{]}, paste(\"-\", rn{[}-1L{]}))\n",
       "            if (any(aod\\$Df == 0, na.rm = TRUE)) \\{\n",
       "                zdf <- aod\\$Df == 0 \\& !is.na(aod\\$Df)\n",
       "                change <- rev(rownames(aod){[}zdf{]}){[}1L{]}\n",
       "            \\}\n",
       "        \\}\n",
       "        if (is.null(change)) \\{\n",
       "            if (forward \\&\\& length(scope\\$add)) \\{\n",
       "                aodf <- add1(fit, scope\\$add, scale = scale, trace = trace, \n",
       "                  k = k, ...)\n",
       "                rn <- row.names(aodf)\n",
       "                row.names(aodf) <- c(rn{[}1L{]}, paste(\"+\", rn{[}-1L{]}))\n",
       "                aod <- if (is.null(aod)) \n",
       "                  aodf\n",
       "                else rbind(aod, aodf{[}-1, , drop = FALSE{]})\n",
       "            \\}\n",
       "            attr(aod, \"heading\") <- NULL\n",
       "            nzdf <- if (!is.null(aod\\$Df)) \n",
       "                aod\\$Df != 0 \\textbar{} is.na(aod\\$Df)\n",
       "            aod <- aod{[}nzdf, {]}\n",
       "            if (is.null(aod) \\textbar{}\\textbar{} ncol(aod) == 0) \n",
       "                break\n",
       "            nc <- match(c(\"Cp\", \"AIC\"), names(aod))\n",
       "            nc <- nc{[}!is.na(nc){]}{[}1L{]}\n",
       "            o <- order(aod{[}, nc{]})\n",
       "            if (trace) \n",
       "                print(aod{[}o, {]})\n",
       "            if (o{[}1L{]} == 1) \n",
       "                break\n",
       "            change <- rownames(aod){[}o{[}1L{]}{]}\n",
       "        \\}\n",
       "        usingCp <- match(\"Cp\", names(aod), 0L) > 0L\n",
       "        fit <- update(fit, paste(\"\\textasciitilde{} .\", change), evaluate = FALSE)\n",
       "        fit <- eval.parent(fit)\n",
       "        nnew <- nobs(fit, use.fallback = TRUE)\n",
       "        if (all(is.finite(c(n, nnew))) \\&\\& nnew != n) \n",
       "            stop(\"number of rows in use has changed: remove missing values?\")\n",
       "        Terms <- terms(fit)\n",
       "        bAIC <- extractAIC(fit, scale, k = k, ...)\n",
       "        edf <- bAIC{[}1L{]}\n",
       "        bAIC <- bAIC{[}2L{]}\n",
       "        if (trace) \\{\n",
       "            cat(\"\\textbackslash{}nStep:  AIC=\", format(round(bAIC, 2)), \"\\textbackslash{}n\", \n",
       "                cut.string(deparse(formula(fit))), \"\\textbackslash{}n\\textbackslash{}n\", sep = \"\")\n",
       "            flush.console()\n",
       "        \\}\n",
       "        if (bAIC >= AIC + 1e-07) \n",
       "            break\n",
       "        nm <- nm + 1\n",
       "        models{[}{[}nm{]}{]} <- list(deviance = mydeviance(fit), df.resid = n - \n",
       "            edf, change = change, AIC = bAIC)\n",
       "        if (!is.null(keep)) \n",
       "            keep.list{[}{[}nm{]}{]} <- keep(fit, bAIC)\n",
       "    \\}\n",
       "    if (!is.null(keep)) \n",
       "        fit\\$keep <- re.arrange(keep.list{[}seq(nm){]})\n",
       "    step.results(models = models{[}seq(nm){]}, fit, object, usingCp)\n",
       "\\}\n",
       "\\end{minted}"
      ],
      "text/markdown": [
       "```r\n",
       "function (object, scope, scale = 0, direction = c(\"both\", \"backward\", \n",
       "    \"forward\"), trace = 1, keep = NULL, steps = 1000, k = 2, \n",
       "    ...) \n",
       "{\n",
       "    mydeviance <- function(x, ...) {\n",
       "        dev <- deviance(x)\n",
       "        if (!is.null(dev)) \n",
       "            dev\n",
       "        else extractAIC(x, k = 0)[2L]\n",
       "    }\n",
       "    cut.string <- function(string) {\n",
       "        if (length(string) > 1L) \n",
       "            string[-1L] <- paste0(\"\\n\", string[-1L])\n",
       "        string\n",
       "    }\n",
       "    re.arrange <- function(keep) {\n",
       "        namr <- names(k1 <- keep[[1L]])\n",
       "        namc <- names(keep)\n",
       "        nc <- length(keep)\n",
       "        nr <- length(k1)\n",
       "        array(unlist(keep, recursive = FALSE), c(nr, nc), list(namr, \n",
       "            namc))\n",
       "    }\n",
       "    step.results <- function(models, fit, object, usingCp = FALSE) {\n",
       "        change <- sapply(models, \"[[\", \"change\")\n",
       "        rd <- sapply(models, \"[[\", \"deviance\")\n",
       "        dd <- c(NA, abs(diff(rd)))\n",
       "        rdf <- sapply(models, \"[[\", \"df.resid\")\n",
       "        ddf <- c(NA, diff(rdf))\n",
       "        AIC <- sapply(models, \"[[\", \"AIC\")\n",
       "        heading <- c(\"Stepwise Model Path \\nAnalysis of Deviance Table\", \n",
       "            \"\\nInitial Model:\", deparse(formula(object)), \"\\nFinal Model:\", \n",
       "            deparse(formula(fit)), \"\\n\")\n",
       "        aod <- data.frame(Step = I(change), Df = ddf, Deviance = dd, \n",
       "            `Resid. Df` = rdf, `Resid. Dev` = rd, AIC = AIC, \n",
       "            check.names = FALSE)\n",
       "        if (usingCp) {\n",
       "            cn <- colnames(aod)\n",
       "            cn[cn == \"AIC\"] <- \"Cp\"\n",
       "            colnames(aod) <- cn\n",
       "        }\n",
       "        attr(aod, \"heading\") <- heading\n",
       "        fit$anova <- aod\n",
       "        fit\n",
       "    }\n",
       "    Terms <- terms(object)\n",
       "    object$call$formula <- object$formula <- Terms\n",
       "    md <- missing(direction)\n",
       "    direction <- match.arg(direction)\n",
       "    backward <- direction == \"both\" | direction == \"backward\"\n",
       "    forward <- direction == \"both\" | direction == \"forward\"\n",
       "    if (missing(scope)) {\n",
       "        fdrop <- numeric()\n",
       "        fadd <- attr(Terms, \"factors\")\n",
       "        if (md) \n",
       "            forward <- FALSE\n",
       "    }\n",
       "    else {\n",
       "        if (is.list(scope)) {\n",
       "            fdrop <- if (!is.null(fdrop <- scope$lower)) \n",
       "                attr(terms(update.formula(object, fdrop)), \"factors\")\n",
       "            else numeric()\n",
       "            fadd <- if (!is.null(fadd <- scope$upper)) \n",
       "                attr(terms(update.formula(object, fadd)), \"factors\")\n",
       "        }\n",
       "        else {\n",
       "            fadd <- if (!is.null(fadd <- scope)) \n",
       "                attr(terms(update.formula(object, scope)), \"factors\")\n",
       "            fdrop <- numeric()\n",
       "        }\n",
       "    }\n",
       "    models <- vector(\"list\", steps)\n",
       "    if (!is.null(keep)) \n",
       "        keep.list <- vector(\"list\", steps)\n",
       "    n <- nobs(object, use.fallback = TRUE)\n",
       "    fit <- object\n",
       "    bAIC <- extractAIC(fit, scale, k = k, ...)\n",
       "    edf <- bAIC[1L]\n",
       "    bAIC <- bAIC[2L]\n",
       "    if (is.na(bAIC)) \n",
       "        stop(\"AIC is not defined for this model, so 'step' cannot proceed\")\n",
       "    if (bAIC == -Inf) \n",
       "        stop(\"AIC is -infinity for this model, so 'step' cannot proceed\")\n",
       "    nm <- 1\n",
       "    if (trace) {\n",
       "        cat(\"Start:  AIC=\", format(round(bAIC, 2)), \"\\n\", cut.string(deparse(formula(fit))), \n",
       "            \"\\n\\n\", sep = \"\")\n",
       "        flush.console()\n",
       "    }\n",
       "    models[[nm]] <- list(deviance = mydeviance(fit), df.resid = n - \n",
       "        edf, change = \"\", AIC = bAIC)\n",
       "    if (!is.null(keep)) \n",
       "        keep.list[[nm]] <- keep(fit, bAIC)\n",
       "    usingCp <- FALSE\n",
       "    while (steps > 0) {\n",
       "        steps <- steps - 1\n",
       "        AIC <- bAIC\n",
       "        ffac <- attr(Terms, \"factors\")\n",
       "        scope <- factor.scope(ffac, list(add = fadd, drop = fdrop))\n",
       "        aod <- NULL\n",
       "        change <- NULL\n",
       "        if (backward && length(scope$drop)) {\n",
       "            aod <- drop1(fit, scope$drop, scale = scale, trace = trace, \n",
       "                k = k, ...)\n",
       "            rn <- row.names(aod)\n",
       "            row.names(aod) <- c(rn[1L], paste(\"-\", rn[-1L]))\n",
       "            if (any(aod$Df == 0, na.rm = TRUE)) {\n",
       "                zdf <- aod$Df == 0 & !is.na(aod$Df)\n",
       "                change <- rev(rownames(aod)[zdf])[1L]\n",
       "            }\n",
       "        }\n",
       "        if (is.null(change)) {\n",
       "            if (forward && length(scope$add)) {\n",
       "                aodf <- add1(fit, scope$add, scale = scale, trace = trace, \n",
       "                  k = k, ...)\n",
       "                rn <- row.names(aodf)\n",
       "                row.names(aodf) <- c(rn[1L], paste(\"+\", rn[-1L]))\n",
       "                aod <- if (is.null(aod)) \n",
       "                  aodf\n",
       "                else rbind(aod, aodf[-1, , drop = FALSE])\n",
       "            }\n",
       "            attr(aod, \"heading\") <- NULL\n",
       "            nzdf <- if (!is.null(aod$Df)) \n",
       "                aod$Df != 0 | is.na(aod$Df)\n",
       "            aod <- aod[nzdf, ]\n",
       "            if (is.null(aod) || ncol(aod) == 0) \n",
       "                break\n",
       "            nc <- match(c(\"Cp\", \"AIC\"), names(aod))\n",
       "            nc <- nc[!is.na(nc)][1L]\n",
       "            o <- order(aod[, nc])\n",
       "            if (trace) \n",
       "                print(aod[o, ])\n",
       "            if (o[1L] == 1) \n",
       "                break\n",
       "            change <- rownames(aod)[o[1L]]\n",
       "        }\n",
       "        usingCp <- match(\"Cp\", names(aod), 0L) > 0L\n",
       "        fit <- update(fit, paste(\"~ .\", change), evaluate = FALSE)\n",
       "        fit <- eval.parent(fit)\n",
       "        nnew <- nobs(fit, use.fallback = TRUE)\n",
       "        if (all(is.finite(c(n, nnew))) && nnew != n) \n",
       "            stop(\"number of rows in use has changed: remove missing values?\")\n",
       "        Terms <- terms(fit)\n",
       "        bAIC <- extractAIC(fit, scale, k = k, ...)\n",
       "        edf <- bAIC[1L]\n",
       "        bAIC <- bAIC[2L]\n",
       "        if (trace) {\n",
       "            cat(\"\\nStep:  AIC=\", format(round(bAIC, 2)), \"\\n\", \n",
       "                cut.string(deparse(formula(fit))), \"\\n\\n\", sep = \"\")\n",
       "            flush.console()\n",
       "        }\n",
       "        if (bAIC >= AIC + 1e-07) \n",
       "            break\n",
       "        nm <- nm + 1\n",
       "        models[[nm]] <- list(deviance = mydeviance(fit), df.resid = n - \n",
       "            edf, change = change, AIC = bAIC)\n",
       "        if (!is.null(keep)) \n",
       "            keep.list[[nm]] <- keep(fit, bAIC)\n",
       "    }\n",
       "    if (!is.null(keep)) \n",
       "        fit$keep <- re.arrange(keep.list[seq(nm)])\n",
       "    step.results(models = models[seq(nm)], fit, object, usingCp)\n",
       "}\n",
       "```"
      ],
      "text/plain": [
       "function (object, scope, scale = 0, direction = c(\"both\", \"backward\", \n",
       "    \"forward\"), trace = 1, keep = NULL, steps = 1000, k = 2, \n",
       "    ...) \n",
       "{\n",
       "    mydeviance <- function(x, ...) {\n",
       "        dev <- deviance(x)\n",
       "        if (!is.null(dev)) \n",
       "            dev\n",
       "        else extractAIC(x, k = 0)[2L]\n",
       "    }\n",
       "    cut.string <- function(string) {\n",
       "        if (length(string) > 1L) \n",
       "            string[-1L] <- paste0(\"\\n\", string[-1L])\n",
       "        string\n",
       "    }\n",
       "    re.arrange <- function(keep) {\n",
       "        namr <- names(k1 <- keep[[1L]])\n",
       "        namc <- names(keep)\n",
       "        nc <- length(keep)\n",
       "        nr <- length(k1)\n",
       "        array(unlist(keep, recursive = FALSE), c(nr, nc), list(namr, \n",
       "            namc))\n",
       "    }\n",
       "    step.results <- function(models, fit, object, usingCp = FALSE) {\n",
       "        change <- sapply(models, \"[[\", \"change\")\n",
       "        rd <- sapply(models, \"[[\", \"deviance\")\n",
       "        dd <- c(NA, abs(diff(rd)))\n",
       "        rdf <- sapply(models, \"[[\", \"df.resid\")\n",
       "        ddf <- c(NA, diff(rdf))\n",
       "        AIC <- sapply(models, \"[[\", \"AIC\")\n",
       "        heading <- c(\"Stepwise Model Path \\nAnalysis of Deviance Table\", \n",
       "            \"\\nInitial Model:\", deparse(formula(object)), \"\\nFinal Model:\", \n",
       "            deparse(formula(fit)), \"\\n\")\n",
       "        aod <- data.frame(Step = I(change), Df = ddf, Deviance = dd, \n",
       "            `Resid. Df` = rdf, `Resid. Dev` = rd, AIC = AIC, \n",
       "            check.names = FALSE)\n",
       "        if (usingCp) {\n",
       "            cn <- colnames(aod)\n",
       "            cn[cn == \"AIC\"] <- \"Cp\"\n",
       "            colnames(aod) <- cn\n",
       "        }\n",
       "        attr(aod, \"heading\") <- heading\n",
       "        fit$anova <- aod\n",
       "        fit\n",
       "    }\n",
       "    Terms <- terms(object)\n",
       "    object$call$formula <- object$formula <- Terms\n",
       "    md <- missing(direction)\n",
       "    direction <- match.arg(direction)\n",
       "    backward <- direction == \"both\" | direction == \"backward\"\n",
       "    forward <- direction == \"both\" | direction == \"forward\"\n",
       "    if (missing(scope)) {\n",
       "        fdrop <- numeric()\n",
       "        fadd <- attr(Terms, \"factors\")\n",
       "        if (md) \n",
       "            forward <- FALSE\n",
       "    }\n",
       "    else {\n",
       "        if (is.list(scope)) {\n",
       "            fdrop <- if (!is.null(fdrop <- scope$lower)) \n",
       "                attr(terms(update.formula(object, fdrop)), \"factors\")\n",
       "            else numeric()\n",
       "            fadd <- if (!is.null(fadd <- scope$upper)) \n",
       "                attr(terms(update.formula(object, fadd)), \"factors\")\n",
       "        }\n",
       "        else {\n",
       "            fadd <- if (!is.null(fadd <- scope)) \n",
       "                attr(terms(update.formula(object, scope)), \"factors\")\n",
       "            fdrop <- numeric()\n",
       "        }\n",
       "    }\n",
       "    models <- vector(\"list\", steps)\n",
       "    if (!is.null(keep)) \n",
       "        keep.list <- vector(\"list\", steps)\n",
       "    n <- nobs(object, use.fallback = TRUE)\n",
       "    fit <- object\n",
       "    bAIC <- extractAIC(fit, scale, k = k, ...)\n",
       "    edf <- bAIC[1L]\n",
       "    bAIC <- bAIC[2L]\n",
       "    if (is.na(bAIC)) \n",
       "        stop(\"AIC is not defined for this model, so 'step' cannot proceed\")\n",
       "    if (bAIC == -Inf) \n",
       "        stop(\"AIC is -infinity for this model, so 'step' cannot proceed\")\n",
       "    nm <- 1\n",
       "    if (trace) {\n",
       "        cat(\"Start:  AIC=\", format(round(bAIC, 2)), \"\\n\", cut.string(deparse(formula(fit))), \n",
       "            \"\\n\\n\", sep = \"\")\n",
       "        flush.console()\n",
       "    }\n",
       "    models[[nm]] <- list(deviance = mydeviance(fit), df.resid = n - \n",
       "        edf, change = \"\", AIC = bAIC)\n",
       "    if (!is.null(keep)) \n",
       "        keep.list[[nm]] <- keep(fit, bAIC)\n",
       "    usingCp <- FALSE\n",
       "    while (steps > 0) {\n",
       "        steps <- steps - 1\n",
       "        AIC <- bAIC\n",
       "        ffac <- attr(Terms, \"factors\")\n",
       "        scope <- factor.scope(ffac, list(add = fadd, drop = fdrop))\n",
       "        aod <- NULL\n",
       "        change <- NULL\n",
       "        if (backward && length(scope$drop)) {\n",
       "            aod <- drop1(fit, scope$drop, scale = scale, trace = trace, \n",
       "                k = k, ...)\n",
       "            rn <- row.names(aod)\n",
       "            row.names(aod) <- c(rn[1L], paste(\"-\", rn[-1L]))\n",
       "            if (any(aod$Df == 0, na.rm = TRUE)) {\n",
       "                zdf <- aod$Df == 0 & !is.na(aod$Df)\n",
       "                change <- rev(rownames(aod)[zdf])[1L]\n",
       "            }\n",
       "        }\n",
       "        if (is.null(change)) {\n",
       "            if (forward && length(scope$add)) {\n",
       "                aodf <- add1(fit, scope$add, scale = scale, trace = trace, \n",
       "                  k = k, ...)\n",
       "                rn <- row.names(aodf)\n",
       "                row.names(aodf) <- c(rn[1L], paste(\"+\", rn[-1L]))\n",
       "                aod <- if (is.null(aod)) \n",
       "                  aodf\n",
       "                else rbind(aod, aodf[-1, , drop = FALSE])\n",
       "            }\n",
       "            attr(aod, \"heading\") <- NULL\n",
       "            nzdf <- if (!is.null(aod$Df)) \n",
       "                aod$Df != 0 | is.na(aod$Df)\n",
       "            aod <- aod[nzdf, ]\n",
       "            if (is.null(aod) || ncol(aod) == 0) \n",
       "                break\n",
       "            nc <- match(c(\"Cp\", \"AIC\"), names(aod))\n",
       "            nc <- nc[!is.na(nc)][1L]\n",
       "            o <- order(aod[, nc])\n",
       "            if (trace) \n",
       "                print(aod[o, ])\n",
       "            if (o[1L] == 1) \n",
       "                break\n",
       "            change <- rownames(aod)[o[1L]]\n",
       "        }\n",
       "        usingCp <- match(\"Cp\", names(aod), 0L) > 0L\n",
       "        fit <- update(fit, paste(\"~ .\", change), evaluate = FALSE)\n",
       "        fit <- eval.parent(fit)\n",
       "        nnew <- nobs(fit, use.fallback = TRUE)\n",
       "        if (all(is.finite(c(n, nnew))) && nnew != n) \n",
       "            stop(\"number of rows in use has changed: remove missing values?\")\n",
       "        Terms <- terms(fit)\n",
       "        bAIC <- extractAIC(fit, scale, k = k, ...)\n",
       "        edf <- bAIC[1L]\n",
       "        bAIC <- bAIC[2L]\n",
       "        if (trace) {\n",
       "            cat(\"\\nStep:  AIC=\", format(round(bAIC, 2)), \"\\n\", \n",
       "                cut.string(deparse(formula(fit))), \"\\n\\n\", sep = \"\")\n",
       "            flush.console()\n",
       "        }\n",
       "        if (bAIC >= AIC + 1e-07) \n",
       "            break\n",
       "        nm <- nm + 1\n",
       "        models[[nm]] <- list(deviance = mydeviance(fit), df.resid = n - \n",
       "            edf, change = change, AIC = bAIC)\n",
       "        if (!is.null(keep)) \n",
       "            keep.list[[nm]] <- keep(fit, bAIC)\n",
       "    }\n",
       "    if (!is.null(keep)) \n",
       "        fit$keep <- re.arrange(keep.list[seq(nm)])\n",
       "    step.results(models = models[seq(nm)], fit, object, usingCp)\n",
       "}\n",
       "<bytecode: 0x565145deafb0>\n",
       "<environment: namespace:stats>"
      ]
     },
     "metadata": {},
     "output_type": "display_data"
    }
   ],
   "source": [
    "step"
   ]
  },
  {
   "cell_type": "code",
   "execution_count": 29,
   "metadata": {
    "scrolled": true
   },
   "outputs": [
    {
     "data": {
      "text/html": [
       "<table>\n",
       "<thead><tr><th></th><th scope=col>Fertility</th><th scope=col>Agriculture</th><th scope=col>Examination</th><th scope=col>Education</th><th scope=col>Catholic</th><th scope=col>Infant.Mortality</th></tr></thead>\n",
       "<tbody>\n",
       "\t<tr><th scope=row>Courtelary</th><td>80.2  </td><td>17.0  </td><td>15    </td><td>12    </td><td>  9.96</td><td>22.2  </td></tr>\n",
       "\t<tr><th scope=row>Delemont</th><td>83.1  </td><td>45.1  </td><td> 6    </td><td> 9    </td><td> 84.84</td><td>22.2  </td></tr>\n",
       "\t<tr><th scope=row>Franches-Mnt</th><td>92.5  </td><td>39.7  </td><td> 5    </td><td> 5    </td><td> 93.40</td><td>20.2  </td></tr>\n",
       "\t<tr><th scope=row>Moutier</th><td>85.8  </td><td>36.5  </td><td>12    </td><td> 7    </td><td> 33.77</td><td>20.3  </td></tr>\n",
       "\t<tr><th scope=row>Neuveville</th><td>76.9  </td><td>43.5  </td><td>17    </td><td>15    </td><td>  5.16</td><td>20.6  </td></tr>\n",
       "\t<tr><th scope=row>Porrentruy</th><td>76.1  </td><td>35.3  </td><td> 9    </td><td> 7    </td><td> 90.57</td><td>26.6  </td></tr>\n",
       "\t<tr><th scope=row>Broye</th><td>83.8  </td><td>70.2  </td><td>16    </td><td> 7    </td><td> 92.85</td><td>23.6  </td></tr>\n",
       "\t<tr><th scope=row>Glane</th><td>92.4  </td><td>67.8  </td><td>14    </td><td> 8    </td><td> 97.16</td><td>24.9  </td></tr>\n",
       "\t<tr><th scope=row>Gruyere</th><td>82.4  </td><td>53.3  </td><td>12    </td><td> 7    </td><td> 97.67</td><td>21.0  </td></tr>\n",
       "\t<tr><th scope=row>Sarine</th><td>82.9  </td><td>45.2  </td><td>16    </td><td>13    </td><td> 91.38</td><td>24.4  </td></tr>\n",
       "\t<tr><th scope=row>Veveyse</th><td>87.1  </td><td>64.5  </td><td>14    </td><td> 6    </td><td> 98.61</td><td>24.5  </td></tr>\n",
       "\t<tr><th scope=row>Aigle</th><td>64.1  </td><td>62.0  </td><td>21    </td><td>12    </td><td>  8.52</td><td>16.5  </td></tr>\n",
       "\t<tr><th scope=row>Aubonne</th><td>66.9  </td><td>67.5  </td><td>14    </td><td> 7    </td><td>  2.27</td><td>19.1  </td></tr>\n",
       "\t<tr><th scope=row>Avenches</th><td>68.9  </td><td>60.7  </td><td>19    </td><td>12    </td><td>  4.43</td><td>22.7  </td></tr>\n",
       "\t<tr><th scope=row>Cossonay</th><td>61.7  </td><td>69.3  </td><td>22    </td><td> 5    </td><td>  2.82</td><td>18.7  </td></tr>\n",
       "\t<tr><th scope=row>Echallens</th><td>68.3  </td><td>72.6  </td><td>18    </td><td> 2    </td><td> 24.20</td><td>21.2  </td></tr>\n",
       "\t<tr><th scope=row>Grandson</th><td>71.7  </td><td>34.0  </td><td>17    </td><td> 8    </td><td>  3.30</td><td>20.0  </td></tr>\n",
       "\t<tr><th scope=row>Lausanne</th><td>55.7  </td><td>19.4  </td><td>26    </td><td>28    </td><td> 12.11</td><td>20.2  </td></tr>\n",
       "\t<tr><th scope=row>La Vallee</th><td>54.3  </td><td>15.2  </td><td>31    </td><td>20    </td><td>  2.15</td><td>10.8  </td></tr>\n",
       "\t<tr><th scope=row>Lavaux</th><td>65.1  </td><td>73.0  </td><td>19    </td><td> 9    </td><td>  2.84</td><td>20.0  </td></tr>\n",
       "\t<tr><th scope=row>Morges</th><td>65.5  </td><td>59.8  </td><td>22    </td><td>10    </td><td>  5.23</td><td>18.0  </td></tr>\n",
       "\t<tr><th scope=row>Moudon</th><td>65.0  </td><td>55.1  </td><td>14    </td><td> 3    </td><td>  4.52</td><td>22.4  </td></tr>\n",
       "\t<tr><th scope=row>Nyone</th><td>56.6  </td><td>50.9  </td><td>22    </td><td>12    </td><td> 15.14</td><td>16.7  </td></tr>\n",
       "\t<tr><th scope=row>Orbe</th><td>57.4  </td><td>54.1  </td><td>20    </td><td> 6    </td><td>  4.20</td><td>15.3  </td></tr>\n",
       "\t<tr><th scope=row>Oron</th><td>72.5  </td><td>71.2  </td><td>12    </td><td> 1    </td><td>  2.40</td><td>21.0  </td></tr>\n",
       "\t<tr><th scope=row>Payerne</th><td>74.2  </td><td>58.1  </td><td>14    </td><td> 8    </td><td>  5.23</td><td>23.8  </td></tr>\n",
       "\t<tr><th scope=row>Paysd'enhaut</th><td>72.0  </td><td>63.5  </td><td> 6    </td><td> 3    </td><td>  2.56</td><td>18.0  </td></tr>\n",
       "\t<tr><th scope=row>Rolle</th><td>60.5  </td><td>60.8  </td><td>16    </td><td>10    </td><td>  7.72</td><td>16.3  </td></tr>\n",
       "\t<tr><th scope=row>Vevey</th><td>58.3  </td><td>26.8  </td><td>25    </td><td>19    </td><td> 18.46</td><td>20.9  </td></tr>\n",
       "\t<tr><th scope=row>Yverdon</th><td>65.4  </td><td>49.5  </td><td>15    </td><td> 8    </td><td>  6.10</td><td>22.5  </td></tr>\n",
       "\t<tr><th scope=row>Conthey</th><td>75.5  </td><td>85.9  </td><td> 3    </td><td> 2    </td><td> 99.71</td><td>15.1  </td></tr>\n",
       "\t<tr><th scope=row>Entremont</th><td>69.3  </td><td>84.9  </td><td> 7    </td><td> 6    </td><td> 99.68</td><td>19.8  </td></tr>\n",
       "\t<tr><th scope=row>Herens</th><td>77.3  </td><td>89.7  </td><td> 5    </td><td> 2    </td><td>100.00</td><td>18.3  </td></tr>\n",
       "\t<tr><th scope=row>Martigwy</th><td>70.5  </td><td>78.2  </td><td>12    </td><td> 6    </td><td> 98.96</td><td>19.4  </td></tr>\n",
       "\t<tr><th scope=row>Monthey</th><td>79.4  </td><td>64.9  </td><td> 7    </td><td> 3    </td><td> 98.22</td><td>20.2  </td></tr>\n",
       "\t<tr><th scope=row>St Maurice</th><td>65.0  </td><td>75.9  </td><td> 9    </td><td> 9    </td><td> 99.06</td><td>17.8  </td></tr>\n",
       "\t<tr><th scope=row>Sierre</th><td>92.2  </td><td>84.6  </td><td> 3    </td><td> 3    </td><td> 99.46</td><td>16.3  </td></tr>\n",
       "\t<tr><th scope=row>Sion</th><td>79.3  </td><td>63.1  </td><td>13    </td><td>13    </td><td> 96.83</td><td>18.1  </td></tr>\n",
       "\t<tr><th scope=row>Boudry</th><td>70.4  </td><td>38.4  </td><td>26    </td><td>12    </td><td>  5.62</td><td>20.3  </td></tr>\n",
       "\t<tr><th scope=row>La Chauxdfnd</th><td>65.7  </td><td> 7.7  </td><td>29    </td><td>11    </td><td> 13.79</td><td>20.5  </td></tr>\n",
       "\t<tr><th scope=row>Le Locle</th><td>72.7  </td><td>16.7  </td><td>22    </td><td>13    </td><td> 11.22</td><td>18.9  </td></tr>\n",
       "\t<tr><th scope=row>Neuchatel</th><td>64.4  </td><td>17.6  </td><td>35    </td><td>32    </td><td> 16.92</td><td>23.0  </td></tr>\n",
       "\t<tr><th scope=row>Val de Ruz</th><td>77.6  </td><td>37.6  </td><td>15    </td><td> 7    </td><td>  4.97</td><td>20.0  </td></tr>\n",
       "\t<tr><th scope=row>ValdeTravers</th><td>67.6  </td><td>18.7  </td><td>25    </td><td> 7    </td><td>  8.65</td><td>19.5  </td></tr>\n",
       "\t<tr><th scope=row>V. De Geneve</th><td>35.0  </td><td> 1.2  </td><td>37    </td><td>53    </td><td> 42.34</td><td>18.0  </td></tr>\n",
       "\t<tr><th scope=row>Rive Droite</th><td>44.7  </td><td>46.6  </td><td>16    </td><td>29    </td><td> 50.43</td><td>18.2  </td></tr>\n",
       "\t<tr><th scope=row>Rive Gauche</th><td>42.8  </td><td>27.7  </td><td>22    </td><td>29    </td><td> 58.33</td><td>19.3  </td></tr>\n",
       "</tbody>\n",
       "</table>\n"
      ],
      "text/latex": [
       "\\begin{tabular}{r|llllll}\n",
       "  & Fertility & Agriculture & Examination & Education & Catholic & Infant.Mortality\\\\\n",
       "\\hline\n",
       "\tCourtelary & 80.2   & 17.0   & 15     & 12     &   9.96 & 22.2  \\\\\n",
       "\tDelemont & 83.1   & 45.1   &  6     &  9     &  84.84 & 22.2  \\\\\n",
       "\tFranches-Mnt & 92.5   & 39.7   &  5     &  5     &  93.40 & 20.2  \\\\\n",
       "\tMoutier & 85.8   & 36.5   & 12     &  7     &  33.77 & 20.3  \\\\\n",
       "\tNeuveville & 76.9   & 43.5   & 17     & 15     &   5.16 & 20.6  \\\\\n",
       "\tPorrentruy & 76.1   & 35.3   &  9     &  7     &  90.57 & 26.6  \\\\\n",
       "\tBroye & 83.8   & 70.2   & 16     &  7     &  92.85 & 23.6  \\\\\n",
       "\tGlane & 92.4   & 67.8   & 14     &  8     &  97.16 & 24.9  \\\\\n",
       "\tGruyere & 82.4   & 53.3   & 12     &  7     &  97.67 & 21.0  \\\\\n",
       "\tSarine & 82.9   & 45.2   & 16     & 13     &  91.38 & 24.4  \\\\\n",
       "\tVeveyse & 87.1   & 64.5   & 14     &  6     &  98.61 & 24.5  \\\\\n",
       "\tAigle & 64.1   & 62.0   & 21     & 12     &   8.52 & 16.5  \\\\\n",
       "\tAubonne & 66.9   & 67.5   & 14     &  7     &   2.27 & 19.1  \\\\\n",
       "\tAvenches & 68.9   & 60.7   & 19     & 12     &   4.43 & 22.7  \\\\\n",
       "\tCossonay & 61.7   & 69.3   & 22     &  5     &   2.82 & 18.7  \\\\\n",
       "\tEchallens & 68.3   & 72.6   & 18     &  2     &  24.20 & 21.2  \\\\\n",
       "\tGrandson & 71.7   & 34.0   & 17     &  8     &   3.30 & 20.0  \\\\\n",
       "\tLausanne & 55.7   & 19.4   & 26     & 28     &  12.11 & 20.2  \\\\\n",
       "\tLa Vallee & 54.3   & 15.2   & 31     & 20     &   2.15 & 10.8  \\\\\n",
       "\tLavaux & 65.1   & 73.0   & 19     &  9     &   2.84 & 20.0  \\\\\n",
       "\tMorges & 65.5   & 59.8   & 22     & 10     &   5.23 & 18.0  \\\\\n",
       "\tMoudon & 65.0   & 55.1   & 14     &  3     &   4.52 & 22.4  \\\\\n",
       "\tNyone & 56.6   & 50.9   & 22     & 12     &  15.14 & 16.7  \\\\\n",
       "\tOrbe & 57.4   & 54.1   & 20     &  6     &   4.20 & 15.3  \\\\\n",
       "\tOron & 72.5   & 71.2   & 12     &  1     &   2.40 & 21.0  \\\\\n",
       "\tPayerne & 74.2   & 58.1   & 14     &  8     &   5.23 & 23.8  \\\\\n",
       "\tPaysd'enhaut & 72.0   & 63.5   &  6     &  3     &   2.56 & 18.0  \\\\\n",
       "\tRolle & 60.5   & 60.8   & 16     & 10     &   7.72 & 16.3  \\\\\n",
       "\tVevey & 58.3   & 26.8   & 25     & 19     &  18.46 & 20.9  \\\\\n",
       "\tYverdon & 65.4   & 49.5   & 15     &  8     &   6.10 & 22.5  \\\\\n",
       "\tConthey & 75.5   & 85.9   &  3     &  2     &  99.71 & 15.1  \\\\\n",
       "\tEntremont & 69.3   & 84.9   &  7     &  6     &  99.68 & 19.8  \\\\\n",
       "\tHerens & 77.3   & 89.7   &  5     &  2     & 100.00 & 18.3  \\\\\n",
       "\tMartigwy & 70.5   & 78.2   & 12     &  6     &  98.96 & 19.4  \\\\\n",
       "\tMonthey & 79.4   & 64.9   &  7     &  3     &  98.22 & 20.2  \\\\\n",
       "\tSt Maurice & 65.0   & 75.9   &  9     &  9     &  99.06 & 17.8  \\\\\n",
       "\tSierre & 92.2   & 84.6   &  3     &  3     &  99.46 & 16.3  \\\\\n",
       "\tSion & 79.3   & 63.1   & 13     & 13     &  96.83 & 18.1  \\\\\n",
       "\tBoudry & 70.4   & 38.4   & 26     & 12     &   5.62 & 20.3  \\\\\n",
       "\tLa Chauxdfnd & 65.7   &  7.7   & 29     & 11     &  13.79 & 20.5  \\\\\n",
       "\tLe Locle & 72.7   & 16.7   & 22     & 13     &  11.22 & 18.9  \\\\\n",
       "\tNeuchatel & 64.4   & 17.6   & 35     & 32     &  16.92 & 23.0  \\\\\n",
       "\tVal de Ruz & 77.6   & 37.6   & 15     &  7     &   4.97 & 20.0  \\\\\n",
       "\tValdeTravers & 67.6   & 18.7   & 25     &  7     &   8.65 & 19.5  \\\\\n",
       "\tV. De Geneve & 35.0   &  1.2   & 37     & 53     &  42.34 & 18.0  \\\\\n",
       "\tRive Droite & 44.7   & 46.6   & 16     & 29     &  50.43 & 18.2  \\\\\n",
       "\tRive Gauche & 42.8   & 27.7   & 22     & 29     &  58.33 & 19.3  \\\\\n",
       "\\end{tabular}\n"
      ],
      "text/markdown": [
       "\n",
       "| <!--/--> | Fertility | Agriculture | Examination | Education | Catholic | Infant.Mortality | \n",
       "|---|---|---|---|---|---|---|---|---|---|---|---|---|---|---|---|---|---|---|---|---|---|---|---|---|---|---|---|---|---|---|---|---|---|---|---|---|---|---|---|---|---|---|---|---|---|---|\n",
       "| Courtelary | 80.2   | 17.0   | 15     | 12     |   9.96 | 22.2   | \n",
       "| Delemont | 83.1   | 45.1   |  6     |  9     |  84.84 | 22.2   | \n",
       "| Franches-Mnt | 92.5   | 39.7   |  5     |  5     |  93.40 | 20.2   | \n",
       "| Moutier | 85.8   | 36.5   | 12     |  7     |  33.77 | 20.3   | \n",
       "| Neuveville | 76.9   | 43.5   | 17     | 15     |   5.16 | 20.6   | \n",
       "| Porrentruy | 76.1   | 35.3   |  9     |  7     |  90.57 | 26.6   | \n",
       "| Broye | 83.8   | 70.2   | 16     |  7     |  92.85 | 23.6   | \n",
       "| Glane | 92.4   | 67.8   | 14     |  8     |  97.16 | 24.9   | \n",
       "| Gruyere | 82.4   | 53.3   | 12     |  7     |  97.67 | 21.0   | \n",
       "| Sarine | 82.9   | 45.2   | 16     | 13     |  91.38 | 24.4   | \n",
       "| Veveyse | 87.1   | 64.5   | 14     |  6     |  98.61 | 24.5   | \n",
       "| Aigle | 64.1   | 62.0   | 21     | 12     |   8.52 | 16.5   | \n",
       "| Aubonne | 66.9   | 67.5   | 14     |  7     |   2.27 | 19.1   | \n",
       "| Avenches | 68.9   | 60.7   | 19     | 12     |   4.43 | 22.7   | \n",
       "| Cossonay | 61.7   | 69.3   | 22     |  5     |   2.82 | 18.7   | \n",
       "| Echallens | 68.3   | 72.6   | 18     |  2     |  24.20 | 21.2   | \n",
       "| Grandson | 71.7   | 34.0   | 17     |  8     |   3.30 | 20.0   | \n",
       "| Lausanne | 55.7   | 19.4   | 26     | 28     |  12.11 | 20.2   | \n",
       "| La Vallee | 54.3   | 15.2   | 31     | 20     |   2.15 | 10.8   | \n",
       "| Lavaux | 65.1   | 73.0   | 19     |  9     |   2.84 | 20.0   | \n",
       "| Morges | 65.5   | 59.8   | 22     | 10     |   5.23 | 18.0   | \n",
       "| Moudon | 65.0   | 55.1   | 14     |  3     |   4.52 | 22.4   | \n",
       "| Nyone | 56.6   | 50.9   | 22     | 12     |  15.14 | 16.7   | \n",
       "| Orbe | 57.4   | 54.1   | 20     |  6     |   4.20 | 15.3   | \n",
       "| Oron | 72.5   | 71.2   | 12     |  1     |   2.40 | 21.0   | \n",
       "| Payerne | 74.2   | 58.1   | 14     |  8     |   5.23 | 23.8   | \n",
       "| Paysd'enhaut | 72.0   | 63.5   |  6     |  3     |   2.56 | 18.0   | \n",
       "| Rolle | 60.5   | 60.8   | 16     | 10     |   7.72 | 16.3   | \n",
       "| Vevey | 58.3   | 26.8   | 25     | 19     |  18.46 | 20.9   | \n",
       "| Yverdon | 65.4   | 49.5   | 15     |  8     |   6.10 | 22.5   | \n",
       "| Conthey | 75.5   | 85.9   |  3     |  2     |  99.71 | 15.1   | \n",
       "| Entremont | 69.3   | 84.9   |  7     |  6     |  99.68 | 19.8   | \n",
       "| Herens | 77.3   | 89.7   |  5     |  2     | 100.00 | 18.3   | \n",
       "| Martigwy | 70.5   | 78.2   | 12     |  6     |  98.96 | 19.4   | \n",
       "| Monthey | 79.4   | 64.9   |  7     |  3     |  98.22 | 20.2   | \n",
       "| St Maurice | 65.0   | 75.9   |  9     |  9     |  99.06 | 17.8   | \n",
       "| Sierre | 92.2   | 84.6   |  3     |  3     |  99.46 | 16.3   | \n",
       "| Sion | 79.3   | 63.1   | 13     | 13     |  96.83 | 18.1   | \n",
       "| Boudry | 70.4   | 38.4   | 26     | 12     |   5.62 | 20.3   | \n",
       "| La Chauxdfnd | 65.7   |  7.7   | 29     | 11     |  13.79 | 20.5   | \n",
       "| Le Locle | 72.7   | 16.7   | 22     | 13     |  11.22 | 18.9   | \n",
       "| Neuchatel | 64.4   | 17.6   | 35     | 32     |  16.92 | 23.0   | \n",
       "| Val de Ruz | 77.6   | 37.6   | 15     |  7     |   4.97 | 20.0   | \n",
       "| ValdeTravers | 67.6   | 18.7   | 25     |  7     |   8.65 | 19.5   | \n",
       "| V. De Geneve | 35.0   |  1.2   | 37     | 53     |  42.34 | 18.0   | \n",
       "| Rive Droite | 44.7   | 46.6   | 16     | 29     |  50.43 | 18.2   | \n",
       "| Rive Gauche | 42.8   | 27.7   | 22     | 29     |  58.33 | 19.3   | \n",
       "\n",
       "\n"
      ],
      "text/plain": [
       "             Fertility Agriculture Examination Education Catholic\n",
       "Courtelary   80.2      17.0        15          12          9.96  \n",
       "Delemont     83.1      45.1         6           9         84.84  \n",
       "Franches-Mnt 92.5      39.7         5           5         93.40  \n",
       "Moutier      85.8      36.5        12           7         33.77  \n",
       "Neuveville   76.9      43.5        17          15          5.16  \n",
       "Porrentruy   76.1      35.3         9           7         90.57  \n",
       "Broye        83.8      70.2        16           7         92.85  \n",
       "Glane        92.4      67.8        14           8         97.16  \n",
       "Gruyere      82.4      53.3        12           7         97.67  \n",
       "Sarine       82.9      45.2        16          13         91.38  \n",
       "Veveyse      87.1      64.5        14           6         98.61  \n",
       "Aigle        64.1      62.0        21          12          8.52  \n",
       "Aubonne      66.9      67.5        14           7          2.27  \n",
       "Avenches     68.9      60.7        19          12          4.43  \n",
       "Cossonay     61.7      69.3        22           5          2.82  \n",
       "Echallens    68.3      72.6        18           2         24.20  \n",
       "Grandson     71.7      34.0        17           8          3.30  \n",
       "Lausanne     55.7      19.4        26          28         12.11  \n",
       "La Vallee    54.3      15.2        31          20          2.15  \n",
       "Lavaux       65.1      73.0        19           9          2.84  \n",
       "Morges       65.5      59.8        22          10          5.23  \n",
       "Moudon       65.0      55.1        14           3          4.52  \n",
       "Nyone        56.6      50.9        22          12         15.14  \n",
       "Orbe         57.4      54.1        20           6          4.20  \n",
       "Oron         72.5      71.2        12           1          2.40  \n",
       "Payerne      74.2      58.1        14           8          5.23  \n",
       "Paysd'enhaut 72.0      63.5         6           3          2.56  \n",
       "Rolle        60.5      60.8        16          10          7.72  \n",
       "Vevey        58.3      26.8        25          19         18.46  \n",
       "Yverdon      65.4      49.5        15           8          6.10  \n",
       "Conthey      75.5      85.9         3           2         99.71  \n",
       "Entremont    69.3      84.9         7           6         99.68  \n",
       "Herens       77.3      89.7         5           2        100.00  \n",
       "Martigwy     70.5      78.2        12           6         98.96  \n",
       "Monthey      79.4      64.9         7           3         98.22  \n",
       "St Maurice   65.0      75.9         9           9         99.06  \n",
       "Sierre       92.2      84.6         3           3         99.46  \n",
       "Sion         79.3      63.1        13          13         96.83  \n",
       "Boudry       70.4      38.4        26          12          5.62  \n",
       "La Chauxdfnd 65.7       7.7        29          11         13.79  \n",
       "Le Locle     72.7      16.7        22          13         11.22  \n",
       "Neuchatel    64.4      17.6        35          32         16.92  \n",
       "Val de Ruz   77.6      37.6        15           7          4.97  \n",
       "ValdeTravers 67.6      18.7        25           7          8.65  \n",
       "V. De Geneve 35.0       1.2        37          53         42.34  \n",
       "Rive Droite  44.7      46.6        16          29         50.43  \n",
       "Rive Gauche  42.8      27.7        22          29         58.33  \n",
       "             Infant.Mortality\n",
       "Courtelary   22.2            \n",
       "Delemont     22.2            \n",
       "Franches-Mnt 20.2            \n",
       "Moutier      20.3            \n",
       "Neuveville   20.6            \n",
       "Porrentruy   26.6            \n",
       "Broye        23.6            \n",
       "Glane        24.9            \n",
       "Gruyere      21.0            \n",
       "Sarine       24.4            \n",
       "Veveyse      24.5            \n",
       "Aigle        16.5            \n",
       "Aubonne      19.1            \n",
       "Avenches     22.7            \n",
       "Cossonay     18.7            \n",
       "Echallens    21.2            \n",
       "Grandson     20.0            \n",
       "Lausanne     20.2            \n",
       "La Vallee    10.8            \n",
       "Lavaux       20.0            \n",
       "Morges       18.0            \n",
       "Moudon       22.4            \n",
       "Nyone        16.7            \n",
       "Orbe         15.3            \n",
       "Oron         21.0            \n",
       "Payerne      23.8            \n",
       "Paysd'enhaut 18.0            \n",
       "Rolle        16.3            \n",
       "Vevey        20.9            \n",
       "Yverdon      22.5            \n",
       "Conthey      15.1            \n",
       "Entremont    19.8            \n",
       "Herens       18.3            \n",
       "Martigwy     19.4            \n",
       "Monthey      20.2            \n",
       "St Maurice   17.8            \n",
       "Sierre       16.3            \n",
       "Sion         18.1            \n",
       "Boudry       20.3            \n",
       "La Chauxdfnd 20.5            \n",
       "Le Locle     18.9            \n",
       "Neuchatel    23.0            \n",
       "Val de Ruz   20.0            \n",
       "ValdeTravers 19.5            \n",
       "V. De Geneve 18.0            \n",
       "Rive Droite  18.2            \n",
       "Rive Gauche  19.3            "
      ]
     },
     "metadata": {},
     "output_type": "display_data"
    }
   ],
   "source": [
    "swiss"
   ]
  },
  {
   "cell_type": "markdown",
   "metadata": {},
   "source": [
    "# AIC AND BIC step"
   ]
  },
  {
   "cell_type": "code",
   "execution_count": 30,
   "metadata": {
    "scrolled": false
   },
   "outputs": [
    {
     "ename": "ERROR",
     "evalue": "Error in terms(object): object 'lm1' not found\n",
     "output_type": "error",
     "traceback": [
      "Error in terms(object): object 'lm1' not found\nTraceback:\n",
      "1. step(lm1, direction = \"backward\")",
      "2. terms(object)"
     ]
    }
   ],
   "source": [
    "step(lm1, direction = \"backward\")"
   ]
  },
  {
   "cell_type": "code",
   "execution_count": 31,
   "metadata": {
    "scrolled": true
   },
   "outputs": [
    {
     "ename": "ERROR",
     "evalue": "Error in terms(object): object 'lm1' not found\n",
     "output_type": "error",
     "traceback": [
      "Error in terms(object): object 'lm1' not found\nTraceback:\n",
      "1. step(lm1, direction = \"forward\")",
      "2. terms(object)"
     ]
    }
   ],
   "source": [
    "step(lm1, direction = \"forward\")"
   ]
  },
  {
   "cell_type": "code",
   "execution_count": 2,
   "metadata": {},
   "outputs": [
    {
     "name": "stderr",
     "output_type": "stream",
     "text": [
      "Updating HTML index of packages in '.Library'\n",
      "Making 'packages.html' ... done\n"
     ]
    }
   ],
   "source": [
    "install.packages(\"SignifReg\")"
   ]
  },
  {
   "cell_type": "code",
   "execution_count": 4,
   "metadata": {
    "scrolled": false
   },
   "outputs": [
    {
     "ename": "ERROR",
     "evalue": "Error in Library(SignifReg): could not find function \"Library\"\n",
     "output_type": "error",
     "traceback": [
      "Error in Library(SignifReg): could not find function \"Library\"\nTraceback:\n"
     ]
    }
   ],
   "source": [
    "Library(SignifReg)"
   ]
  },
  {
   "cell_type": "code",
   "execution_count": 5,
   "metadata": {},
   "outputs": [],
   "source": [
    "swiss <- datasets::swiss"
   ]
  },
  {
   "cell_type": "code",
   "execution_count": 9,
   "metadata": {
    "scrolled": true
   },
   "outputs": [
    {
     "ename": "ERROR",
     "evalue": "Error in parse(text = x, srcfile = src): <text>:1:28: unexpected input\n1: x <- model.matrix(Fertility<e2>\n                               ^\n",
     "output_type": "error",
     "traceback": [
      "Error in parse(text = x, srcfile = src): <text>:1:28: unexpected input\n1: x <- model.matrix(Fertility<e2>\n                               ^\nTraceback:\n"
     ]
    }
   ],
   "source": [
    "x <- model.matrix(Fertility∼ ., swiss)[,-1]\n",
    "y <- swiss$Fertility"
   ]
  },
  {
   "cell_type": "code",
   "execution_count": 12,
   "metadata": {
    "scrolled": true
   },
   "outputs": [
    {
     "ename": "ERROR",
     "evalue": "Error in eval(expr, envir, enclos): object 'swissFertility' not found\n",
     "output_type": "error",
     "traceback": [
      "Error in eval(expr, envir, enclos): object 'swissFertility' not found\nTraceback:\n"
     ]
    }
   ],
   "source": []
  },
  {
   "cell_type": "code",
   "execution_count": 11,
   "metadata": {
    "scrolled": false
   },
   "outputs": [
    {
     "name": "stderr",
     "output_type": "stream",
     "text": [
      "Loading required package: Matrix\n",
      "Loading required package: foreach\n",
      "Loaded glmnet 2.0-16\n",
      "\n"
     ]
    }
   ],
   "source": []
  },
  {
   "cell_type": "code",
   "execution_count": 3,
   "metadata": {},
   "outputs": [
    {
     "ename": "ERROR",
     "evalue": "Error in prcomp(USAArrest, scale. = TRUE): object 'USAArrest' not found\n",
     "output_type": "error",
     "traceback": [
      "Error in prcomp(USAArrest, scale. = TRUE): object 'USAArrest' not found\nTraceback:\n",
      "1. prcomp(USAArrest, scale. = TRUE)"
     ]
    }
   ],
   "source": [
    "fit = prcomp(USAArrest, scale. = TRUE)"
   ]
  },
  {
   "cell_type": "code",
   "execution_count": 4,
   "metadata": {
    "scrolled": true
   },
   "outputs": [
    {
     "data": {
      "text/html": [
       "<table>\n",
       "<thead><tr><th></th><th scope=col>mpg</th><th scope=col>cyl</th><th scope=col>disp</th><th scope=col>hp</th><th scope=col>drat</th><th scope=col>wt</th><th scope=col>qsec</th><th scope=col>vs</th><th scope=col>am</th><th scope=col>gear</th><th scope=col>carb</th></tr></thead>\n",
       "<tbody>\n",
       "\t<tr><th scope=row>Mazda RX4</th><td>21.0 </td><td>6    </td><td>160.0</td><td>110  </td><td>3.90 </td><td>2.620</td><td>16.46</td><td>0    </td><td>1    </td><td>4    </td><td>4    </td></tr>\n",
       "\t<tr><th scope=row>Mazda RX4 Wag</th><td>21.0 </td><td>6    </td><td>160.0</td><td>110  </td><td>3.90 </td><td>2.875</td><td>17.02</td><td>0    </td><td>1    </td><td>4    </td><td>4    </td></tr>\n",
       "\t<tr><th scope=row>Datsun 710</th><td>22.8 </td><td>4    </td><td>108.0</td><td> 93  </td><td>3.85 </td><td>2.320</td><td>18.61</td><td>1    </td><td>1    </td><td>4    </td><td>1    </td></tr>\n",
       "\t<tr><th scope=row>Hornet 4 Drive</th><td>21.4 </td><td>6    </td><td>258.0</td><td>110  </td><td>3.08 </td><td>3.215</td><td>19.44</td><td>1    </td><td>0    </td><td>3    </td><td>1    </td></tr>\n",
       "\t<tr><th scope=row>Hornet Sportabout</th><td>18.7 </td><td>8    </td><td>360.0</td><td>175  </td><td>3.15 </td><td>3.440</td><td>17.02</td><td>0    </td><td>0    </td><td>3    </td><td>2    </td></tr>\n",
       "\t<tr><th scope=row>Valiant</th><td>18.1 </td><td>6    </td><td>225.0</td><td>105  </td><td>2.76 </td><td>3.460</td><td>20.22</td><td>1    </td><td>0    </td><td>3    </td><td>1    </td></tr>\n",
       "\t<tr><th scope=row>Duster 360</th><td>14.3 </td><td>8    </td><td>360.0</td><td>245  </td><td>3.21 </td><td>3.570</td><td>15.84</td><td>0    </td><td>0    </td><td>3    </td><td>4    </td></tr>\n",
       "\t<tr><th scope=row>Merc 240D</th><td>24.4 </td><td>4    </td><td>146.7</td><td> 62  </td><td>3.69 </td><td>3.190</td><td>20.00</td><td>1    </td><td>0    </td><td>4    </td><td>2    </td></tr>\n",
       "\t<tr><th scope=row>Merc 230</th><td>22.8 </td><td>4    </td><td>140.8</td><td> 95  </td><td>3.92 </td><td>3.150</td><td>22.90</td><td>1    </td><td>0    </td><td>4    </td><td>2    </td></tr>\n",
       "\t<tr><th scope=row>Merc 280</th><td>19.2 </td><td>6    </td><td>167.6</td><td>123  </td><td>3.92 </td><td>3.440</td><td>18.30</td><td>1    </td><td>0    </td><td>4    </td><td>4    </td></tr>\n",
       "\t<tr><th scope=row>Merc 280C</th><td>17.8 </td><td>6    </td><td>167.6</td><td>123  </td><td>3.92 </td><td>3.440</td><td>18.90</td><td>1    </td><td>0    </td><td>4    </td><td>4    </td></tr>\n",
       "\t<tr><th scope=row>Merc 450SE</th><td>16.4 </td><td>8    </td><td>275.8</td><td>180  </td><td>3.07 </td><td>4.070</td><td>17.40</td><td>0    </td><td>0    </td><td>3    </td><td>3    </td></tr>\n",
       "\t<tr><th scope=row>Merc 450SL</th><td>17.3 </td><td>8    </td><td>275.8</td><td>180  </td><td>3.07 </td><td>3.730</td><td>17.60</td><td>0    </td><td>0    </td><td>3    </td><td>3    </td></tr>\n",
       "\t<tr><th scope=row>Merc 450SLC</th><td>15.2 </td><td>8    </td><td>275.8</td><td>180  </td><td>3.07 </td><td>3.780</td><td>18.00</td><td>0    </td><td>0    </td><td>3    </td><td>3    </td></tr>\n",
       "\t<tr><th scope=row>Cadillac Fleetwood</th><td>10.4 </td><td>8    </td><td>472.0</td><td>205  </td><td>2.93 </td><td>5.250</td><td>17.98</td><td>0    </td><td>0    </td><td>3    </td><td>4    </td></tr>\n",
       "\t<tr><th scope=row>Lincoln Continental</th><td>10.4 </td><td>8    </td><td>460.0</td><td>215  </td><td>3.00 </td><td>5.424</td><td>17.82</td><td>0    </td><td>0    </td><td>3    </td><td>4    </td></tr>\n",
       "\t<tr><th scope=row>Chrysler Imperial</th><td>14.7 </td><td>8    </td><td>440.0</td><td>230  </td><td>3.23 </td><td>5.345</td><td>17.42</td><td>0    </td><td>0    </td><td>3    </td><td>4    </td></tr>\n",
       "\t<tr><th scope=row>Fiat 128</th><td>32.4 </td><td>4    </td><td> 78.7</td><td> 66  </td><td>4.08 </td><td>2.200</td><td>19.47</td><td>1    </td><td>1    </td><td>4    </td><td>1    </td></tr>\n",
       "\t<tr><th scope=row>Honda Civic</th><td>30.4 </td><td>4    </td><td> 75.7</td><td> 52  </td><td>4.93 </td><td>1.615</td><td>18.52</td><td>1    </td><td>1    </td><td>4    </td><td>2    </td></tr>\n",
       "\t<tr><th scope=row>Toyota Corolla</th><td>33.9 </td><td>4    </td><td> 71.1</td><td> 65  </td><td>4.22 </td><td>1.835</td><td>19.90</td><td>1    </td><td>1    </td><td>4    </td><td>1    </td></tr>\n",
       "\t<tr><th scope=row>Toyota Corona</th><td>21.5 </td><td>4    </td><td>120.1</td><td> 97  </td><td>3.70 </td><td>2.465</td><td>20.01</td><td>1    </td><td>0    </td><td>3    </td><td>1    </td></tr>\n",
       "\t<tr><th scope=row>Dodge Challenger</th><td>15.5 </td><td>8    </td><td>318.0</td><td>150  </td><td>2.76 </td><td>3.520</td><td>16.87</td><td>0    </td><td>0    </td><td>3    </td><td>2    </td></tr>\n",
       "\t<tr><th scope=row>AMC Javelin</th><td>15.2 </td><td>8    </td><td>304.0</td><td>150  </td><td>3.15 </td><td>3.435</td><td>17.30</td><td>0    </td><td>0    </td><td>3    </td><td>2    </td></tr>\n",
       "\t<tr><th scope=row>Camaro Z28</th><td>13.3 </td><td>8    </td><td>350.0</td><td>245  </td><td>3.73 </td><td>3.840</td><td>15.41</td><td>0    </td><td>0    </td><td>3    </td><td>4    </td></tr>\n",
       "\t<tr><th scope=row>Pontiac Firebird</th><td>19.2 </td><td>8    </td><td>400.0</td><td>175  </td><td>3.08 </td><td>3.845</td><td>17.05</td><td>0    </td><td>0    </td><td>3    </td><td>2    </td></tr>\n",
       "\t<tr><th scope=row>Fiat X1-9</th><td>27.3 </td><td>4    </td><td> 79.0</td><td> 66  </td><td>4.08 </td><td>1.935</td><td>18.90</td><td>1    </td><td>1    </td><td>4    </td><td>1    </td></tr>\n",
       "\t<tr><th scope=row>Porsche 914-2</th><td>26.0 </td><td>4    </td><td>120.3</td><td> 91  </td><td>4.43 </td><td>2.140</td><td>16.70</td><td>0    </td><td>1    </td><td>5    </td><td>2    </td></tr>\n",
       "\t<tr><th scope=row>Lotus Europa</th><td>30.4 </td><td>4    </td><td> 95.1</td><td>113  </td><td>3.77 </td><td>1.513</td><td>16.90</td><td>1    </td><td>1    </td><td>5    </td><td>2    </td></tr>\n",
       "\t<tr><th scope=row>Ford Pantera L</th><td>15.8 </td><td>8    </td><td>351.0</td><td>264  </td><td>4.22 </td><td>3.170</td><td>14.50</td><td>0    </td><td>1    </td><td>5    </td><td>4    </td></tr>\n",
       "\t<tr><th scope=row>Ferrari Dino</th><td>19.7 </td><td>6    </td><td>145.0</td><td>175  </td><td>3.62 </td><td>2.770</td><td>15.50</td><td>0    </td><td>1    </td><td>5    </td><td>6    </td></tr>\n",
       "\t<tr><th scope=row>Maserati Bora</th><td>15.0 </td><td>8    </td><td>301.0</td><td>335  </td><td>3.54 </td><td>3.570</td><td>14.60</td><td>0    </td><td>1    </td><td>5    </td><td>8    </td></tr>\n",
       "\t<tr><th scope=row>Volvo 142E</th><td>21.4 </td><td>4    </td><td>121.0</td><td>109  </td><td>4.11 </td><td>2.780</td><td>18.60</td><td>1    </td><td>1    </td><td>4    </td><td>2    </td></tr>\n",
       "</tbody>\n",
       "</table>\n"
      ],
      "text/latex": [
       "\\begin{tabular}{r|lllllllllll}\n",
       "  & mpg & cyl & disp & hp & drat & wt & qsec & vs & am & gear & carb\\\\\n",
       "\\hline\n",
       "\tMazda RX4 & 21.0  & 6     & 160.0 & 110   & 3.90  & 2.620 & 16.46 & 0     & 1     & 4     & 4    \\\\\n",
       "\tMazda RX4 Wag & 21.0  & 6     & 160.0 & 110   & 3.90  & 2.875 & 17.02 & 0     & 1     & 4     & 4    \\\\\n",
       "\tDatsun 710 & 22.8  & 4     & 108.0 &  93   & 3.85  & 2.320 & 18.61 & 1     & 1     & 4     & 1    \\\\\n",
       "\tHornet 4 Drive & 21.4  & 6     & 258.0 & 110   & 3.08  & 3.215 & 19.44 & 1     & 0     & 3     & 1    \\\\\n",
       "\tHornet Sportabout & 18.7  & 8     & 360.0 & 175   & 3.15  & 3.440 & 17.02 & 0     & 0     & 3     & 2    \\\\\n",
       "\tValiant & 18.1  & 6     & 225.0 & 105   & 2.76  & 3.460 & 20.22 & 1     & 0     & 3     & 1    \\\\\n",
       "\tDuster 360 & 14.3  & 8     & 360.0 & 245   & 3.21  & 3.570 & 15.84 & 0     & 0     & 3     & 4    \\\\\n",
       "\tMerc 240D & 24.4  & 4     & 146.7 &  62   & 3.69  & 3.190 & 20.00 & 1     & 0     & 4     & 2    \\\\\n",
       "\tMerc 230 & 22.8  & 4     & 140.8 &  95   & 3.92  & 3.150 & 22.90 & 1     & 0     & 4     & 2    \\\\\n",
       "\tMerc 280 & 19.2  & 6     & 167.6 & 123   & 3.92  & 3.440 & 18.30 & 1     & 0     & 4     & 4    \\\\\n",
       "\tMerc 280C & 17.8  & 6     & 167.6 & 123   & 3.92  & 3.440 & 18.90 & 1     & 0     & 4     & 4    \\\\\n",
       "\tMerc 450SE & 16.4  & 8     & 275.8 & 180   & 3.07  & 4.070 & 17.40 & 0     & 0     & 3     & 3    \\\\\n",
       "\tMerc 450SL & 17.3  & 8     & 275.8 & 180   & 3.07  & 3.730 & 17.60 & 0     & 0     & 3     & 3    \\\\\n",
       "\tMerc 450SLC & 15.2  & 8     & 275.8 & 180   & 3.07  & 3.780 & 18.00 & 0     & 0     & 3     & 3    \\\\\n",
       "\tCadillac Fleetwood & 10.4  & 8     & 472.0 & 205   & 2.93  & 5.250 & 17.98 & 0     & 0     & 3     & 4    \\\\\n",
       "\tLincoln Continental & 10.4  & 8     & 460.0 & 215   & 3.00  & 5.424 & 17.82 & 0     & 0     & 3     & 4    \\\\\n",
       "\tChrysler Imperial & 14.7  & 8     & 440.0 & 230   & 3.23  & 5.345 & 17.42 & 0     & 0     & 3     & 4    \\\\\n",
       "\tFiat 128 & 32.4  & 4     &  78.7 &  66   & 4.08  & 2.200 & 19.47 & 1     & 1     & 4     & 1    \\\\\n",
       "\tHonda Civic & 30.4  & 4     &  75.7 &  52   & 4.93  & 1.615 & 18.52 & 1     & 1     & 4     & 2    \\\\\n",
       "\tToyota Corolla & 33.9  & 4     &  71.1 &  65   & 4.22  & 1.835 & 19.90 & 1     & 1     & 4     & 1    \\\\\n",
       "\tToyota Corona & 21.5  & 4     & 120.1 &  97   & 3.70  & 2.465 & 20.01 & 1     & 0     & 3     & 1    \\\\\n",
       "\tDodge Challenger & 15.5  & 8     & 318.0 & 150   & 2.76  & 3.520 & 16.87 & 0     & 0     & 3     & 2    \\\\\n",
       "\tAMC Javelin & 15.2  & 8     & 304.0 & 150   & 3.15  & 3.435 & 17.30 & 0     & 0     & 3     & 2    \\\\\n",
       "\tCamaro Z28 & 13.3  & 8     & 350.0 & 245   & 3.73  & 3.840 & 15.41 & 0     & 0     & 3     & 4    \\\\\n",
       "\tPontiac Firebird & 19.2  & 8     & 400.0 & 175   & 3.08  & 3.845 & 17.05 & 0     & 0     & 3     & 2    \\\\\n",
       "\tFiat X1-9 & 27.3  & 4     &  79.0 &  66   & 4.08  & 1.935 & 18.90 & 1     & 1     & 4     & 1    \\\\\n",
       "\tPorsche 914-2 & 26.0  & 4     & 120.3 &  91   & 4.43  & 2.140 & 16.70 & 0     & 1     & 5     & 2    \\\\\n",
       "\tLotus Europa & 30.4  & 4     &  95.1 & 113   & 3.77  & 1.513 & 16.90 & 1     & 1     & 5     & 2    \\\\\n",
       "\tFord Pantera L & 15.8  & 8     & 351.0 & 264   & 4.22  & 3.170 & 14.50 & 0     & 1     & 5     & 4    \\\\\n",
       "\tFerrari Dino & 19.7  & 6     & 145.0 & 175   & 3.62  & 2.770 & 15.50 & 0     & 1     & 5     & 6    \\\\\n",
       "\tMaserati Bora & 15.0  & 8     & 301.0 & 335   & 3.54  & 3.570 & 14.60 & 0     & 1     & 5     & 8    \\\\\n",
       "\tVolvo 142E & 21.4  & 4     & 121.0 & 109   & 4.11  & 2.780 & 18.60 & 1     & 1     & 4     & 2    \\\\\n",
       "\\end{tabular}\n"
      ],
      "text/markdown": [
       "\n",
       "| <!--/--> | mpg | cyl | disp | hp | drat | wt | qsec | vs | am | gear | carb | \n",
       "|---|---|---|---|---|---|---|---|---|---|---|---|---|---|---|---|---|---|---|---|---|---|---|---|---|---|---|---|---|---|---|---|\n",
       "| Mazda RX4 | 21.0  | 6     | 160.0 | 110   | 3.90  | 2.620 | 16.46 | 0     | 1     | 4     | 4     | \n",
       "| Mazda RX4 Wag | 21.0  | 6     | 160.0 | 110   | 3.90  | 2.875 | 17.02 | 0     | 1     | 4     | 4     | \n",
       "| Datsun 710 | 22.8  | 4     | 108.0 |  93   | 3.85  | 2.320 | 18.61 | 1     | 1     | 4     | 1     | \n",
       "| Hornet 4 Drive | 21.4  | 6     | 258.0 | 110   | 3.08  | 3.215 | 19.44 | 1     | 0     | 3     | 1     | \n",
       "| Hornet Sportabout | 18.7  | 8     | 360.0 | 175   | 3.15  | 3.440 | 17.02 | 0     | 0     | 3     | 2     | \n",
       "| Valiant | 18.1  | 6     | 225.0 | 105   | 2.76  | 3.460 | 20.22 | 1     | 0     | 3     | 1     | \n",
       "| Duster 360 | 14.3  | 8     | 360.0 | 245   | 3.21  | 3.570 | 15.84 | 0     | 0     | 3     | 4     | \n",
       "| Merc 240D | 24.4  | 4     | 146.7 |  62   | 3.69  | 3.190 | 20.00 | 1     | 0     | 4     | 2     | \n",
       "| Merc 230 | 22.8  | 4     | 140.8 |  95   | 3.92  | 3.150 | 22.90 | 1     | 0     | 4     | 2     | \n",
       "| Merc 280 | 19.2  | 6     | 167.6 | 123   | 3.92  | 3.440 | 18.30 | 1     | 0     | 4     | 4     | \n",
       "| Merc 280C | 17.8  | 6     | 167.6 | 123   | 3.92  | 3.440 | 18.90 | 1     | 0     | 4     | 4     | \n",
       "| Merc 450SE | 16.4  | 8     | 275.8 | 180   | 3.07  | 4.070 | 17.40 | 0     | 0     | 3     | 3     | \n",
       "| Merc 450SL | 17.3  | 8     | 275.8 | 180   | 3.07  | 3.730 | 17.60 | 0     | 0     | 3     | 3     | \n",
       "| Merc 450SLC | 15.2  | 8     | 275.8 | 180   | 3.07  | 3.780 | 18.00 | 0     | 0     | 3     | 3     | \n",
       "| Cadillac Fleetwood | 10.4  | 8     | 472.0 | 205   | 2.93  | 5.250 | 17.98 | 0     | 0     | 3     | 4     | \n",
       "| Lincoln Continental | 10.4  | 8     | 460.0 | 215   | 3.00  | 5.424 | 17.82 | 0     | 0     | 3     | 4     | \n",
       "| Chrysler Imperial | 14.7  | 8     | 440.0 | 230   | 3.23  | 5.345 | 17.42 | 0     | 0     | 3     | 4     | \n",
       "| Fiat 128 | 32.4  | 4     |  78.7 |  66   | 4.08  | 2.200 | 19.47 | 1     | 1     | 4     | 1     | \n",
       "| Honda Civic | 30.4  | 4     |  75.7 |  52   | 4.93  | 1.615 | 18.52 | 1     | 1     | 4     | 2     | \n",
       "| Toyota Corolla | 33.9  | 4     |  71.1 |  65   | 4.22  | 1.835 | 19.90 | 1     | 1     | 4     | 1     | \n",
       "| Toyota Corona | 21.5  | 4     | 120.1 |  97   | 3.70  | 2.465 | 20.01 | 1     | 0     | 3     | 1     | \n",
       "| Dodge Challenger | 15.5  | 8     | 318.0 | 150   | 2.76  | 3.520 | 16.87 | 0     | 0     | 3     | 2     | \n",
       "| AMC Javelin | 15.2  | 8     | 304.0 | 150   | 3.15  | 3.435 | 17.30 | 0     | 0     | 3     | 2     | \n",
       "| Camaro Z28 | 13.3  | 8     | 350.0 | 245   | 3.73  | 3.840 | 15.41 | 0     | 0     | 3     | 4     | \n",
       "| Pontiac Firebird | 19.2  | 8     | 400.0 | 175   | 3.08  | 3.845 | 17.05 | 0     | 0     | 3     | 2     | \n",
       "| Fiat X1-9 | 27.3  | 4     |  79.0 |  66   | 4.08  | 1.935 | 18.90 | 1     | 1     | 4     | 1     | \n",
       "| Porsche 914-2 | 26.0  | 4     | 120.3 |  91   | 4.43  | 2.140 | 16.70 | 0     | 1     | 5     | 2     | \n",
       "| Lotus Europa | 30.4  | 4     |  95.1 | 113   | 3.77  | 1.513 | 16.90 | 1     | 1     | 5     | 2     | \n",
       "| Ford Pantera L | 15.8  | 8     | 351.0 | 264   | 4.22  | 3.170 | 14.50 | 0     | 1     | 5     | 4     | \n",
       "| Ferrari Dino | 19.7  | 6     | 145.0 | 175   | 3.62  | 2.770 | 15.50 | 0     | 1     | 5     | 6     | \n",
       "| Maserati Bora | 15.0  | 8     | 301.0 | 335   | 3.54  | 3.570 | 14.60 | 0     | 1     | 5     | 8     | \n",
       "| Volvo 142E | 21.4  | 4     | 121.0 | 109   | 4.11  | 2.780 | 18.60 | 1     | 1     | 4     | 2     | \n",
       "\n",
       "\n"
      ],
      "text/plain": [
       "                    mpg  cyl disp  hp  drat wt    qsec  vs am gear carb\n",
       "Mazda RX4           21.0 6   160.0 110 3.90 2.620 16.46 0  1  4    4   \n",
       "Mazda RX4 Wag       21.0 6   160.0 110 3.90 2.875 17.02 0  1  4    4   \n",
       "Datsun 710          22.8 4   108.0  93 3.85 2.320 18.61 1  1  4    1   \n",
       "Hornet 4 Drive      21.4 6   258.0 110 3.08 3.215 19.44 1  0  3    1   \n",
       "Hornet Sportabout   18.7 8   360.0 175 3.15 3.440 17.02 0  0  3    2   \n",
       "Valiant             18.1 6   225.0 105 2.76 3.460 20.22 1  0  3    1   \n",
       "Duster 360          14.3 8   360.0 245 3.21 3.570 15.84 0  0  3    4   \n",
       "Merc 240D           24.4 4   146.7  62 3.69 3.190 20.00 1  0  4    2   \n",
       "Merc 230            22.8 4   140.8  95 3.92 3.150 22.90 1  0  4    2   \n",
       "Merc 280            19.2 6   167.6 123 3.92 3.440 18.30 1  0  4    4   \n",
       "Merc 280C           17.8 6   167.6 123 3.92 3.440 18.90 1  0  4    4   \n",
       "Merc 450SE          16.4 8   275.8 180 3.07 4.070 17.40 0  0  3    3   \n",
       "Merc 450SL          17.3 8   275.8 180 3.07 3.730 17.60 0  0  3    3   \n",
       "Merc 450SLC         15.2 8   275.8 180 3.07 3.780 18.00 0  0  3    3   \n",
       "Cadillac Fleetwood  10.4 8   472.0 205 2.93 5.250 17.98 0  0  3    4   \n",
       "Lincoln Continental 10.4 8   460.0 215 3.00 5.424 17.82 0  0  3    4   \n",
       "Chrysler Imperial   14.7 8   440.0 230 3.23 5.345 17.42 0  0  3    4   \n",
       "Fiat 128            32.4 4    78.7  66 4.08 2.200 19.47 1  1  4    1   \n",
       "Honda Civic         30.4 4    75.7  52 4.93 1.615 18.52 1  1  4    2   \n",
       "Toyota Corolla      33.9 4    71.1  65 4.22 1.835 19.90 1  1  4    1   \n",
       "Toyota Corona       21.5 4   120.1  97 3.70 2.465 20.01 1  0  3    1   \n",
       "Dodge Challenger    15.5 8   318.0 150 2.76 3.520 16.87 0  0  3    2   \n",
       "AMC Javelin         15.2 8   304.0 150 3.15 3.435 17.30 0  0  3    2   \n",
       "Camaro Z28          13.3 8   350.0 245 3.73 3.840 15.41 0  0  3    4   \n",
       "Pontiac Firebird    19.2 8   400.0 175 3.08 3.845 17.05 0  0  3    2   \n",
       "Fiat X1-9           27.3 4    79.0  66 4.08 1.935 18.90 1  1  4    1   \n",
       "Porsche 914-2       26.0 4   120.3  91 4.43 2.140 16.70 0  1  5    2   \n",
       "Lotus Europa        30.4 4    95.1 113 3.77 1.513 16.90 1  1  5    2   \n",
       "Ford Pantera L      15.8 8   351.0 264 4.22 3.170 14.50 0  1  5    4   \n",
       "Ferrari Dino        19.7 6   145.0 175 3.62 2.770 15.50 0  1  5    6   \n",
       "Maserati Bora       15.0 8   301.0 335 3.54 3.570 14.60 0  1  5    8   \n",
       "Volvo 142E          21.4 4   121.0 109 4.11 2.780 18.60 1  1  4    2   "
      ]
     },
     "metadata": {},
     "output_type": "display_data"
    }
   ],
   "source": [
    "mtcars"
   ]
  },
  {
   "cell_type": "code",
   "execution_count": 23,
   "metadata": {},
   "outputs": [],
   "source": [
    "pca <- prcomp(mtcars[,c(1,3:7)], center = TRUE, scale. = TRUE)"
   ]
  },
  {
   "cell_type": "code",
   "execution_count": 24,
   "metadata": {},
   "outputs": [
    {
     "ename": "ERROR",
     "evalue": "Error in is.finite(x): default method not implemented for type 'list'\n",
     "output_type": "error",
     "traceback": [
      "Error in is.finite(x): default method not implemented for type 'list'\nTraceback:\n",
      "1. princomp(pca, cor = TRUE)",
      "2. princomp.default(pca, cor = TRUE)",
      "3. cov.wt(z)"
     ]
    }
   ],
   "source": [
    "fit2 = princomp(pca, cor = TRUE)"
   ]
  },
  {
   "cell_type": "code",
   "execution_count": 16,
   "metadata": {},
   "outputs": [],
   "source": [
    "pca2 = princomp(mtcars, cor = TRUE)"
   ]
  },
  {
   "cell_type": "code",
   "execution_count": 17,
   "metadata": {},
   "outputs": [
    {
     "data": {
      "text/plain": [
       "NULL"
      ]
     },
     "metadata": {},
     "output_type": "display_data"
    }
   ],
   "source": [
    "pca2$dev"
   ]
  },
  {
   "cell_type": "code",
   "execution_count": 21,
   "metadata": {
    "scrolled": true
   },
   "outputs": [
    {
     "data": {
      "text/plain": [
       "Importance of components:\n",
       "                          PC1    PC2     PC3     PC4    PC5     PC6\n",
       "Standard deviation     2.0463 1.0715 0.57737 0.39289 0.3533 0.22799\n",
       "Proportion of Variance 0.6979 0.1913 0.05556 0.02573 0.0208 0.00866\n",
       "Cumulative Proportion  0.6979 0.8892 0.94481 0.97054 0.9913 1.00000"
      ]
     },
     "metadata": {},
     "output_type": "display_data"
    }
   ],
   "source": [
    "summary(mtcars.pca)"
   ]
  },
  {
   "cell_type": "code",
   "execution_count": 19,
   "metadata": {},
   "outputs": [
    {
     "data": {
      "image/png": "[encoded data removed]",
      "text/plain": [
       "Plot with title “pca2”"
      ]
     },
     "metadata": {},
     "output_type": "display_data"
    }
   ],
   "source": [
    "screeplot(pca2)"
   ]
  }
 ],
 "metadata": {
  "kernelspec": {
   "display_name": "R",
   "language": "R",
   "name": "ir"
  },
  "language_info": {
   "codemirror_mode": "r",
   "file_extension": ".r",
   "mimetype": "text/x-r-source",
   "name": "R",
   "pygments_lexer": "r",
   "version": "3.5.1"
  }
 },
 "nbformat": 4,
 "nbformat_minor": 2
}
