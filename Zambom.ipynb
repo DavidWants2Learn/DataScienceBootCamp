{
 "cells": [
  {
   "cell_type": "code",
   "execution_count": 25,
   "metadata": {
    "scrolled": true
   },
   "outputs": [
    {
     "name": "stderr",
     "output_type": "stream",
     "text": [
      "Updating HTML index of packages in '.Library'\n",
      "Making 'packages.html' ... done\n"
     ]
    }
   ],
   "source": [
    "install.packages(\"aTSA\")"
   ]
  },
  {
   "cell_type": "code",
   "execution_count": 16,
   "metadata": {
    "scrolled": true
   },
   "outputs": [
    {
     "data": {
      "text/plain": [
       "          Jan      Feb      Mar      Apr      May      Jun      Jul      Aug\n",
       "1974 8.017967 7.844633 7.902487 7.845416 7.607878 7.411556 7.450661 7.329094\n",
       "1975 7.983781 7.968666 7.985484 7.822845 7.533694 7.453562 7.382124 7.342779\n",
       "1976 7.932721 8.266421 8.064322 7.606387 7.400010 7.365180 7.305860 7.170120\n",
       "1977 8.039802 7.738052 7.776954 7.801391 7.466228 7.348588 7.311886 7.215975\n",
       "1978 7.942718 8.051022 7.893199 7.585281 7.533694 7.398174 7.332369 7.219642\n",
       "1979 8.033983 7.865188 7.852828 7.669962 7.434257 7.315884 7.286876 7.210818\n",
       "          Sep      Oct      Nov      Dec\n",
       "1974 7.375256 7.637234 7.695758 7.828835\n",
       "1975 7.241366 7.488294 7.638198 7.950502\n",
       "1976 7.212294 7.410347 7.607381 7.945555\n",
       "1977 7.204893 7.355002 7.402452 7.737616\n",
       "1978 7.213032 7.358831 7.336286 7.820440\n",
       "1979 7.195187 7.307873 7.484930 7.557473"
      ]
     },
     "metadata": {},
     "output_type": "display_data"
    }
   ],
   "source": [
    "log(ldeaths)"
   ]
  },
  {
   "cell_type": "code",
   "execution_count": 26,
   "metadata": {},
   "outputs": [],
   "source": [
    "fit <- arima(log(ldeaths), c(0, 1, 1),seasonal =\n",
    "list(order = c(0, 1, 1), period = 12))"
   ]
  },
  {
   "cell_type": "code",
   "execution_count": 27,
   "metadata": {},
   "outputs": [],
   "source": [
    "pred <- predict(fit, n.ahead = 36)"
   ]
  },
  {
   "cell_type": "code",
   "execution_count": 29,
   "metadata": {},
   "outputs": [
    {
     "ename": "ERROR",
     "evalue": "Error in parse(text = x, srcfile = src): <text>:1:18: unexpected symbol\n1: ts.plot(ldeaths,2ˆpred\n                     ^\n",
     "output_type": "error",
     "traceback": [
      "Error in parse(text = x, srcfile = src): <text>:1:18: unexpected symbol\n1: ts.plot(ldeaths,2ˆpred\n                     ^\nTraceback:\n"
     ]
    }
   ],
   "source": [
    "ts.plot(ldeaths,2ˆpred$pred, log = ”y”, lty =\n",
    "c(1,3))"
   ]
  }
 ],
 "metadata": {
  "kernelspec": {
   "display_name": "R",
   "language": "R",
   "name": "ir"
  },
  "language_info": {
   "codemirror_mode": "r",
   "file_extension": ".r",
   "mimetype": "text/x-r-source",
   "name": "R",
   "pygments_lexer": "r",
   "version": "3.5.1"
  }
 },
 "nbformat": 4,
 "nbformat_minor": 2
}
