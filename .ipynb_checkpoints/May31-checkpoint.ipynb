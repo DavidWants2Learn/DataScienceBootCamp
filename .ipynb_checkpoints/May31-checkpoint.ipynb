{
 "cells": [
  {
   "cell_type": "markdown",
   "metadata": {},
   "source": [
    "# Regression & Classification"
   ]
  },
  {
   "cell_type": "code",
   "execution_count": 41,
   "metadata": {},
   "outputs": [],
   "source": [
    "import numpy as np\n",
    "import pandas as pd\n",
    "import matplotlib.pyplot as plt\n",
    "%matplotlib inline"
   ]
  },
  {
   "cell_type": "markdown",
   "metadata": {},
   "source": [
    "# Illustrate 1D Regression Line"
   ]
  },
  {
   "cell_type": "code",
   "execution_count": 42,
   "metadata": {
    "scrolled": true
   },
   "outputs": [
    {
     "data": {
      "text/html": [
       "<div>\n",
       "<style scoped>\n",
       "    .dataframe tbody tr th:only-of-type {\n",
       "        vertical-align: middle;\n",
       "    }\n",
       "\n",
       "    .dataframe tbody tr th {\n",
       "        vertical-align: top;\n",
       "    }\n",
       "\n",
       "    .dataframe thead th {\n",
       "        text-align: right;\n",
       "    }\n",
       "</style>\n",
       "<table border=\"1\" class=\"dataframe\">\n",
       "  <thead>\n",
       "    <tr style=\"text-align: right;\">\n",
       "      <th></th>\n",
       "      <th>date</th>\n",
       "      <th>flux</th>\n",
       "    </tr>\n",
       "  </thead>\n",
       "  <tbody>\n",
       "    <tr>\n",
       "      <th>0</th>\n",
       "      <td>0.0</td>\n",
       "      <td>109.6</td>\n",
       "    </tr>\n",
       "    <tr>\n",
       "      <th>1</th>\n",
       "      <td>1.0</td>\n",
       "      <td>113.8</td>\n",
       "    </tr>\n",
       "    <tr>\n",
       "      <th>2</th>\n",
       "      <td>2.0</td>\n",
       "      <td>112.3</td>\n",
       "    </tr>\n",
       "    <tr>\n",
       "      <th>3</th>\n",
       "      <td>3.0</td>\n",
       "      <td>116.8</td>\n",
       "    </tr>\n",
       "    <tr>\n",
       "      <th>4</th>\n",
       "      <td>4.0</td>\n",
       "      <td>124.8</td>\n",
       "    </tr>\n",
       "  </tbody>\n",
       "</table>\n",
       "</div>"
      ],
      "text/plain": [
       "   date   flux\n",
       "0   0.0  109.6\n",
       "1   1.0  113.8\n",
       "2   2.0  112.3\n",
       "3   3.0  116.8\n",
       "4   4.0  124.8"
      ]
     },
     "execution_count": 42,
     "metadata": {},
     "output_type": "execute_result"
    }
   ],
   "source": [
    "df = pd.read_csv(\"short_flux_data_file.csv\")\n",
    "df.head(5)"
   ]
  },
  {
   "cell_type": "code",
   "execution_count": 43,
   "metadata": {
    "scrolled": false
   },
   "outputs": [
    {
     "data": {
      "text/plain": [
       "Text(0, 0.5, '10.7 cm solar flux')"
      ]
     },
     "execution_count": 43,
     "metadata": {},
     "output_type": "execute_result"
    },
    {
     "data": {
      "image/png": "[encoded data removed]",
      "text/plain": [
       "<Figure size 432x288 with 1 Axes>"
      ]
     },
     "metadata": {
      "needs_background": "light"
     },
     "output_type": "display_data"
    }
   ],
   "source": [
    "X = np.array(df[\"date\"]).reshape(-1,1)\n",
    "Y = np.array(df[\"flux\"]).reshape(-1,1)\n",
    "\n",
    "plt.scatter(X,Y, marker=\"+\", color=\"blue\")\n",
    "\n",
    "plt.plot(X,Y2,c=\"red\",label=\"depth 2 tree\")\n",
    "plt.plot(xplot,Y4,c=\"black\",label=\"depth 4 tree\")\n",
    "\n",
    "plt.xlabel(\"days into data file\")\n",
    "plt.ylabel(\"10.7 cm solar flux\")"
   ]
  },
  {
   "cell_type": "code",
   "execution_count": 67,
   "metadata": {},
   "outputs": [],
   "source": [
    "from sklearn.tree import DecisionTreeRegressor"
   ]
  },
  {
   "cell_type": "code",
   "execution_count": 45,
   "metadata": {
    "scrolled": true
   },
   "outputs": [],
   "source": [
    "r2 = DecisionTreeRegressor(max_depth=2)\n",
    "r2.fit(X,Y)\n",
    "xplot=np.linspace(0,30,200).reshape(-1,1)\n",
    "Y2=r2.predict(X)\n",
    "Y4=r2.predict(xplot)\n"
   ]
  },
  {
   "cell_type": "code",
   "execution_count": 46,
   "metadata": {
    "scrolled": true
   },
   "outputs": [
    {
     "ename": "NameError",
     "evalue": "name 'Xplot' is not defined",
     "output_type": "error",
     "traceback": [
      "\u001b[0;31m---------------------------------------------------------------------------\u001b[0m",
      "\u001b[0;31mNameError\u001b[0m                                 Traceback (most recent call last)",
      "\u001b[0;32m<ipython-input-46-4b2b15afe2f4>\u001b[0m in \u001b[0;36m<module>\u001b[0;34m\u001b[0m\n\u001b[1;32m      4\u001b[0m \u001b[0mplt\u001b[0m\u001b[0;34m.\u001b[0m\u001b[0mscatter\u001b[0m\u001b[0;34m(\u001b[0m\u001b[0mX\u001b[0m\u001b[0;34m,\u001b[0m\u001b[0mY\u001b[0m\u001b[0;34m,\u001b[0m \u001b[0mmarker\u001b[0m\u001b[0;34m=\u001b[0m\u001b[0;34m\"+\"\u001b[0m\u001b[0;34m,\u001b[0m \u001b[0mcolor\u001b[0m\u001b[0;34m=\u001b[0m\u001b[0;34m\"blue\"\u001b[0m\u001b[0;34m)\u001b[0m\u001b[0;34m\u001b[0m\u001b[0;34m\u001b[0m\u001b[0m\n\u001b[1;32m      5\u001b[0m \u001b[0;34m\u001b[0m\u001b[0m\n\u001b[0;32m----> 6\u001b[0;31m \u001b[0mplt\u001b[0m\u001b[0;34m.\u001b[0m\u001b[0mplot\u001b[0m\u001b[0;34m(\u001b[0m\u001b[0mXplot\u001b[0m\u001b[0;34m,\u001b[0m\u001b[0mY2\u001b[0m\u001b[0;34m,\u001b[0m\u001b[0mc\u001b[0m\u001b[0;34m=\u001b[0m\u001b[0;34m\"red\"\u001b[0m\u001b[0;34m,\u001b[0m\u001b[0mlabel\u001b[0m\u001b[0;34m=\u001b[0m\u001b[0;34m\"depth 2 tree\"\u001b[0m\u001b[0;34m)\u001b[0m\u001b[0;34m\u001b[0m\u001b[0;34m\u001b[0m\u001b[0m\n\u001b[0m\u001b[1;32m      7\u001b[0m \u001b[0mplt\u001b[0m\u001b[0;34m.\u001b[0m\u001b[0mplot\u001b[0m\u001b[0;34m(\u001b[0m\u001b[0mxplot\u001b[0m\u001b[0;34m,\u001b[0m\u001b[0mY4\u001b[0m\u001b[0;34m,\u001b[0m\u001b[0mc\u001b[0m\u001b[0;34m=\u001b[0m\u001b[0;34m\"black\"\u001b[0m\u001b[0;34m,\u001b[0m\u001b[0mlabel\u001b[0m\u001b[0;34m=\u001b[0m\u001b[0;34m\"depth 4 tree\"\u001b[0m\u001b[0;34m)\u001b[0m\u001b[0;34m\u001b[0m\u001b[0;34m\u001b[0m\u001b[0m\n\u001b[1;32m      8\u001b[0m \u001b[0;34m\u001b[0m\u001b[0m\n",
      "\u001b[0;31mNameError\u001b[0m: name 'Xplot' is not defined"
     ]
    },
    {
     "data": {
      "image/png": "[encoded data removed]",
      "text/plain": [
       "<Figure size 432x288 with 1 Axes>"
      ]
     },
     "metadata": {
      "needs_background": "light"
     },
     "output_type": "display_data"
    }
   ],
   "source": [
    "X = np.array(df[\"date\"]).reshape(-1,1)\n",
    "Y = np.array(df[\"flux\"]).reshape(-1,1)\n",
    "\n",
    "plt.scatter(X,Y, marker=\"+\", color=\"blue\")\n",
    "\n",
    "plt.plot(Xplot,Y2,c=\"red\",label=\"depth 2 tree\")\n",
    "plt.plot(xplot,Y4,c=\"black\",label=\"depth 4 tree\")\n",
    "\n",
    "plt.xlabel(\"days into data file\")\n",
    "plt.ylabel(\"10.7 cm solar flux\")"
   ]
  },
  {
   "cell_type": "code",
   "execution_count": 50,
   "metadata": {
    "scrolled": true
   },
   "outputs": [
    {
     "name": "stdout",
     "output_type": "stream",
     "text": [
      "The MSE for a deapth of 2  is  25.707696029776685\n",
      "The MSE for a deapth of 3  is  8.319289554531492\n",
      "The MSE for a deapth of 4  is  3.7252956989247306\n",
      "The MSE for a deapth of 5  is  0.8060215053763441\n",
      "The MSE for a deapth of 6  is  0.11419354838709718\n",
      "The MSE for a deapth of 7  is  0.002580645161290396\n",
      "The MSE for a deapth of 8  is  0.0\n"
     ]
    }
   ],
   "source": [
    "from sklearn.metrics import mean_squared_error\n",
    "\n",
    "for depth in range(2,9):\n",
    "    model = DecisionTreeRegressor(max_depth=depth)\n",
    "    model.fit(X,Y)\n",
    "    YP=model.predict(X)\n",
    "    MSE=mean_squared_error(YP,Y)\n",
    "    print(\"The MSE for a deapth of\", depth,\" is \", MSE)"
   ]
  },
  {
   "cell_type": "markdown",
   "metadata": {},
   "source": [
    "# Multidemensional Data"
   ]
  },
  {
   "cell_type": "code",
   "execution_count": 53,
   "metadata": {},
   "outputs": [
    {
     "data": {
      "text/html": [
       "<div>\n",
       "<style scoped>\n",
       "    .dataframe tbody tr th:only-of-type {\n",
       "        vertical-align: middle;\n",
       "    }\n",
       "\n",
       "    .dataframe tbody tr th {\n",
       "        vertical-align: top;\n",
       "    }\n",
       "\n",
       "    .dataframe thead th {\n",
       "        text-align: right;\n",
       "    }\n",
       "</style>\n",
       "<table border=\"1\" class=\"dataframe\">\n",
       "  <thead>\n",
       "    <tr style=\"text-align: right;\">\n",
       "      <th></th>\n",
       "      <th>mpg</th>\n",
       "      <th>cyl</th>\n",
       "      <th>displ</th>\n",
       "      <th>hp</th>\n",
       "      <th>weight</th>\n",
       "      <th>accel</th>\n",
       "      <th>origin</th>\n",
       "    </tr>\n",
       "  </thead>\n",
       "  <tbody>\n",
       "    <tr>\n",
       "      <th>0</th>\n",
       "      <td>18.0</td>\n",
       "      <td>8</td>\n",
       "      <td>307.0</td>\n",
       "      <td>130.0</td>\n",
       "      <td>3504.0</td>\n",
       "      <td>12.0</td>\n",
       "      <td>1</td>\n",
       "    </tr>\n",
       "    <tr>\n",
       "      <th>1</th>\n",
       "      <td>15.0</td>\n",
       "      <td>8</td>\n",
       "      <td>350.0</td>\n",
       "      <td>165.0</td>\n",
       "      <td>3693.0</td>\n",
       "      <td>11.5</td>\n",
       "      <td>1</td>\n",
       "    </tr>\n",
       "    <tr>\n",
       "      <th>2</th>\n",
       "      <td>18.0</td>\n",
       "      <td>8</td>\n",
       "      <td>318.0</td>\n",
       "      <td>150.0</td>\n",
       "      <td>3436.0</td>\n",
       "      <td>11.0</td>\n",
       "      <td>1</td>\n",
       "    </tr>\n",
       "  </tbody>\n",
       "</table>\n",
       "</div>"
      ],
      "text/plain": [
       "    mpg  cyl  displ     hp  weight  accel  origin\n",
       "0  18.0    8  307.0  130.0  3504.0   12.0       1\n",
       "1  15.0    8  350.0  165.0  3693.0   11.5       1\n",
       "2  18.0    8  318.0  150.0  3436.0   11.0       1"
      ]
     },
     "execution_count": 53,
     "metadata": {},
     "output_type": "execute_result"
    }
   ],
   "source": [
    "df2 = pd.read_csv(\"cardata.csv\")\n",
    "df2.head(3)"
   ]
  },
  {
   "cell_type": "code",
   "execution_count": 58,
   "metadata": {},
   "outputs": [
    {
     "data": {
      "text/plain": [
       "array([[307., 130.],\n",
       "       [350., 165.],\n",
       "       [318., 150.]])"
      ]
     },
     "execution_count": 58,
     "metadata": {},
     "output_type": "execute_result"
    }
   ],
   "source": [
    "a = np.array(df2[['displ','hp']])\n",
    "a[:3]"
   ]
  },
  {
   "cell_type": "code",
   "execution_count": 63,
   "metadata": {},
   "outputs": [
    {
     "data": {
      "text/plain": [
       "array([[18.],\n",
       "       [15.],\n",
       "       [18.]])"
      ]
     },
     "execution_count": 63,
     "metadata": {},
     "output_type": "execute_result"
    }
   ],
   "source": [
    "b = np.array(df2['mpg']).reshape(-1,1)\n",
    "b[:3]"
   ]
  },
  {
   "cell_type": "code",
   "execution_count": 69,
   "metadata": {},
   "outputs": [],
   "source": [
    "model = DecisionTreeRegressor(max_depth=3)\n",
    "model.fit(a,b)\n",
    "YP2 = model.predict(a)"
   ]
  },
  {
   "cell_type": "code",
   "execution_count": 89,
   "metadata": {
    "scrolled": true
   },
   "outputs": [
    {
     "data": {
      "text/plain": [
       "array([130., 165., 150., 150., 140., 198., 220., 215., 225., 190., 170.,\n",
       "       160., 150., 225.,  95.,  95.,  97.,  85.,  88.,  46.,  87.,  90.,\n",
       "        95., 113.,  90., 215., 200., 210., 193.,  88.,  90.,  95., 100.,\n",
       "       105., 100.,  88., 100., 165., 175., 153., 150., 180., 170., 175.,\n",
       "       110.,  72., 100.,  88.,  86.,  90.,  70.,  76.,  65.,  69.,  60.,\n",
       "        70.,  95.,  80.,  54.,  90.,  86., 165., 175., 150., 153., 150.,\n",
       "       208., 155., 160., 190.,  97., 150., 130., 140., 150., 112.,  76.,\n",
       "        87.,  69.,  86.,  92.,  97.,  80.,  88., 175., 150., 145., 137.,\n",
       "       150., 198., 150., 158., 150., 215., 225., 175., 105., 100., 100.,\n",
       "        88.,  95.,  46., 150., 167., 170., 180., 100.,  88.,  72.,  94.,\n",
       "        90.,  85., 107.,  90., 145., 230.,  49.,  75.,  91., 112., 150.,\n",
       "       110., 122., 180.,  95., 100., 100.,  67.,  80.,  65.,  75., 100.,\n",
       "       110., 105., 140., 150., 150., 140., 150.,  83.,  67.,  78.,  52.,\n",
       "        61.,  75.,  75.,  75.,  97.,  93.,  67.,  95., 105.,  72.,  72.,\n",
       "       170., 145., 150., 148., 110., 105., 110.,  95., 110., 110., 129.,\n",
       "        75.,  83., 100.,  78.,  96.,  71.,  97.,  97.,  70.,  90.,  95.,\n",
       "        88.,  98., 115.,  53.,  86.,  81.,  92.,  79.,  83., 140., 150.,\n",
       "       120., 152., 100., 105.,  81.,  90.,  52.,  60.,  70.,  53., 100.,\n",
       "        78., 110.,  95.,  71.,  70.,  75.,  72., 102., 150.,  88., 108.,\n",
       "       120., 180., 145., 130., 150.,  68.,  80.,  58.,  96.,  70., 145.,\n",
       "       110., 145., 130., 110., 105., 100.,  98., 180., 170., 190., 149.,\n",
       "        78.,  88.,  75.,  89.,  63.,  83.,  67.,  78.,  97., 110., 110.,\n",
       "        48.,  66.,  52.,  70.,  60., 110., 140., 139., 105.,  95.,  85.,\n",
       "        88., 100.,  90., 105.,  85., 110., 120., 145., 165., 139., 140.,\n",
       "        68.,  95.,  97.,  75.,  95., 105.,  85.,  97., 103., 125., 115.,\n",
       "       133.,  71.,  68., 115.,  85.,  88.,  90., 110., 130., 129., 138.,\n",
       "       135., 155., 142., 125., 150.,  71.,  65.,  80.,  80.,  77., 125.,\n",
       "        71.,  90.,  70.,  70.,  65.,  69.,  90., 115., 115.,  90.,  76.,\n",
       "        60.,  70.,  65.,  90.,  88.,  90.,  90.,  78.,  90.,  75.,  92.,\n",
       "        75.,  65., 105.,  65.,  48.,  48.,  67.,  67.,  67.,  67.,  62.,\n",
       "       132., 100.,  88.,  72.,  84.,  84.,  92., 110.,  84.,  58.,  64.,\n",
       "        60.,  67.,  65.,  62.,  68.,  63.,  65.,  65.,  74.,  75.,  75.,\n",
       "       100.,  74.,  80.,  76., 116., 120., 110., 105.,  88.,  85.,  88.,\n",
       "        88.,  88.,  85.,  84.,  90.,  92.,  74.,  68.,  68.,  63.,  70.,\n",
       "        88.,  75.,  70.,  67.,  67.,  67., 110.,  85.,  92., 112.,  96.,\n",
       "        84.,  90.,  86.,  52.,  84.,  79.,  82.])"
      ]
     },
     "execution_count": 89,
     "metadata": {},
     "output_type": "execute_result"
    }
   ],
   "source": [
    "displacement=b[:,0]\n",
    "horsepower=a[:,1]\n",
    "horsepower"
   ]
  },
  {
   "cell_type": "code",
   "execution_count": 95,
   "metadata": {
    "scrolled": true
   },
   "outputs": [
    {
     "name": "stderr",
     "output_type": "stream",
     "text": [
      "/opt/Anaconda/lib/python3.7/site-packages/matplotlib/contour.py:1243: UserWarning: No contour levels were found within the data range.\n",
      "  warnings.warn(\"No contour levels were found\"\n"
     ]
    },
    {
     "data": {
      "image/png": "[encoded data removed]",
      "text/plain": [
       "<Figure size 432x432 with 1 Axes>"
      ]
     },
     "metadata": {
      "needs_background": "light"
     },
     "output_type": "display_data"
    }
   ],
   "source": [
    "plt.scatter(displacement,horsepower)\n",
    "\n",
    "xmin=displacement.min()-1\n",
    "xmax=displacement.max()+1\n",
    "ymin=horsepower.min()-1\n",
    "ymax=horsepower.min()+1\n",
    "\n",
    "plt.xlim(xmin,xmax)\n",
    "plt.ylim(ymin,ymax)\n",
    "\n",
    "xx,yy=np.meshgrid(np.arange(xmin,xmax,1), np.arange(ymin,ymax,1))\n",
    "ZP=model.predict(np.c_[xx.ravel(),yy.ravel()])\n",
    "Z=ZP.reshape(xx.shape)\n",
    "plt.contour(xx,yy,Z, colors='black')\n",
    "\n",
    "plt.xlabel(\"displ\")\n",
    "plt.ylabel('horsepower')\n",
    "plt.gcf().set_size_inches(6,6)"
   ]
  },
  {
   "cell_type": "markdown",
   "metadata": {},
   "source": [
    "# Classification Tree"
   ]
  },
  {
   "cell_type": "code",
   "execution_count": 109,
   "metadata": {
    "scrolled": true
   },
   "outputs": [],
   "source": [
    "x = np.array(df2[[\"mpg\",'displ','hp','weight','accel']])"
   ]
  },
  {
   "cell_type": "code",
   "execution_count": 100,
   "metadata": {},
   "outputs": [
    {
     "name": "stdout",
     "output_type": "stream",
     "text": [
      "[3, 4, 5, 6, 8]\n"
     ]
    }
   ],
   "source": [
    "cylinders=np.array(df2['cyl'])\n",
    "classvals=[0,0,1,1,2]\n",
    "unis=np.unique(cylinders).tolist()\n",
    "print(unis)"
   ]
  },
  {
   "cell_type": "code",
   "execution_count": 102,
   "metadata": {
    "scrolled": true
   },
   "outputs": [
    {
     "name": "stdout",
     "output_type": "stream",
     "text": [
      "[2 2 2 2 2 2 2 2 2 2 2 2 2 2 0 1 1 1 0 0 0 0 0 0 1 2 2 2 2 0 0 0 1 1 1 1 1\n",
      " 2 2 2 2 2 2 2 1 0 1 1 0 0 0 0 0 0 0 0 0 0 0 0 0 2 2 2 2 2 2 2 2 2 0 2 2 2\n",
      " 2 0 0 0 0 0 0 0 0 0 2 2 2 2 2 2 2 2 2 2 2 2 1 1 1 1 1 0 2 2 2 2 1 0 0 0 0\n",
      " 0 1 0 2 2 0 0 0 0 2 0 1 2 1 1 1 0 0 0 0 1 1 1 2 2 2 2 2 0 0 0 0 0 0 0 0 0\n",
      " 0 0 1 1 1 1 2 2 2 2 1 1 1 1 1 2 2 0 0 1 0 0 0 0 1 0 1 0 0 0 0 0 0 0 0 0 0\n",
      " 2 2 2 2 1 1 1 1 0 0 0 0 1 1 1 1 0 0 0 0 0 2 0 1 1 2 2 2 2 0 0 0 0 0 2 2 2\n",
      " 2 1 1 1 1 2 2 2 2 0 0 0 0 0 0 0 0 1 0 0 0 0 0 0 0 2 2 2 1 1 1 0 1 1 1 1 1\n",
      " 1 2 1 2 2 0 0 0 0 0 0 0 0 1 1 0 1 0 0 1 1 0 1 1 2 2 2 2 2 2 2 2 0 0 0 0 1\n",
      " 2 0 2 0 0 0 0 0 1 1 0 0 0 0 0 0 0 0 1 0 0 0 0 0 0 0 0 0 0 1 0 0 0 0 1 0 0\n",
      " 0 0 0 0 1 0 0 0 0 0 0 0 0 0 0 0 0 0 0 0 0 0 1 1 1 1 2 1 1 0 0 0 0 0 0 0 0\n",
      " 0 0 0 0 0 0 0 0 0 0 1 1 0 1 0 0 0 0 0 0 0 0]\n"
     ]
    }
   ],
   "source": [
    "y=np.array([classvals[unis.index(x)] for x in cylinders])\n",
    "print(y)"
   ]
  },
  {
   "cell_type": "code",
   "execution_count": 113,
   "metadata": {},
   "outputs": [],
   "source": [
    "from sklearn.tree import DecisionTreeClassifier\n",
    "from sklearn.model_selection import train_test_split\n",
    "from sklearn.metrics import accuracy_score"
   ]
  },
  {
   "cell_type": "code",
   "execution_count": 114,
   "metadata": {},
   "outputs": [],
   "source": [
    "nsplits = 1000\n",
    "depth = 3\n",
    "errs = []\n",
    "for j in range(nsplits):\n",
    "    xtrain, xtest, ytrain, ytest=train_test_split(x,y)\n",
    "    DT = DecisionTreeClassifier(max_depth=depth)\n",
    "    DT.fit(xtrain,ytrain)\n",
    "    YP=DT.predict(xtest)\n",
    "    errs.append(1-accuracy_score(ytest,YP))"
   ]
  },
  {
   "cell_type": "code",
   "execution_count": 115,
   "metadata": {},
   "outputs": [
    {
     "data": {
      "text/plain": [
       "(0.031122448979591853, 0.016458332784159882)"
      ]
     },
     "execution_count": 115,
     "metadata": {},
     "output_type": "execute_result"
    }
   ],
   "source": [
    "np.mean(errs), np.std(errs)"
   ]
  },
  {
   "cell_type": "code",
   "execution_count": 116,
   "metadata": {
    "scrolled": true
   },
   "outputs": [
    {
     "data": {
      "text/plain": [
       "(array([ 31., 117., 256., 256., 172.,  92.,  40.,  27.,   5.,   4.]),\n",
       " array([0.        , 0.00918367, 0.01836735, 0.02755102, 0.03673469,\n",
       "        0.04591837, 0.05510204, 0.06428571, 0.07346939, 0.08265306,\n",
       "        0.09183673]),\n",
       " <a list of 10 Patch objects>)"
      ]
     },
     "execution_count": 116,
     "metadata": {},
     "output_type": "execute_result"
    },
    {
     "data": {
      "image/png": "[encoded data removed]",
      "text/plain": [
       "<Figure size 432x288 with 1 Axes>"
      ]
     },
     "metadata": {
      "needs_background": "light"
     },
     "output_type": "display_data"
    }
   ],
   "source": [
    "plt.hist(errs, edgecolor='k', color='red')"
   ]
  },
  {
   "cell_type": "code",
   "execution_count": 119,
   "metadata": {},
   "outputs": [
    {
     "ename": "ModuleNotFoundError",
     "evalue": "No module named 'pydotplus'",
     "output_type": "error",
     "traceback": [
      "\u001b[0;31m---------------------------------------------------------------------------\u001b[0m",
      "\u001b[0;31mModuleNotFoundError\u001b[0m                       Traceback (most recent call last)",
      "\u001b[0;32m<ipython-input-119-6449c44af9cf>\u001b[0m in \u001b[0;36m<module>\u001b[0;34m\u001b[0m\n\u001b[1;32m      1\u001b[0m \u001b[0;32mimport\u001b[0m \u001b[0mgraphviz\u001b[0m\u001b[0;34m\u001b[0m\u001b[0;34m\u001b[0m\u001b[0m\n\u001b[0;32m----> 2\u001b[0;31m \u001b[0;32mimport\u001b[0m \u001b[0mpydotplus\u001b[0m\u001b[0;34m\u001b[0m\u001b[0;34m\u001b[0m\u001b[0m\n\u001b[0m\u001b[1;32m      3\u001b[0m \u001b[0;32mfrom\u001b[0m \u001b[0mIPython\u001b[0m\u001b[0;34m.\u001b[0m\u001b[0mdisplay\u001b[0m \u001b[0;32mimport\u001b[0m \u001b[0mimage\u001b[0m\u001b[0;34m\u001b[0m\u001b[0;34m\u001b[0m\u001b[0m\n",
      "\u001b[0;31mModuleNotFoundError\u001b[0m: No module named 'pydotplus'"
     ]
    }
   ],
   "source": [
    "import graphviz\n",
    "import pydotplus\n",
    "from IPython.display import image"
   ]
  }
 ],
 "metadata": {
  "kernelspec": {
   "display_name": "Python 3",
   "language": "python",
   "name": "python3"
  },
  "language_info": {
   "codemirror_mode": {
    "name": "ipython",
    "version": 3
   },
   "file_extension": ".py",
   "mimetype": "text/x-python",
   "name": "python",
   "nbconvert_exporter": "python",
   "pygments_lexer": "ipython3",
   "version": "3.7.3"
  }
 },
 "nbformat": 4,
 "nbformat_minor": 2
}
