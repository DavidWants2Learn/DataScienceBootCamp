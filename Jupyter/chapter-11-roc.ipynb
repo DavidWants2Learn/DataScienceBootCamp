{
 "cells": [
  {
   "cell_type": "markdown",
   "metadata": {},
   "source": [
    "# Getting Started in Machine Learning\n",
    "### Chapter 11: Evaluating Binary Classifiers\n",
    "\n",
    "This notebook contains examples from the book:\n",
    "\n",
    "Getting Started in Machine Learning: Easy Recipes for Python 3, Scikit-Learn, Jupyter (2019) by Bella Romeo, Sherwood Forest Books, Los Angeles, CA, USA, ISBN-13: 978-0-9966860-6-8\n",
    "\n",
    "(c) Copyright 2019."
   ]
  },
  {
   "cell_type": "markdown",
   "metadata": {},
   "source": [
    "<font style=\"font-size:xx-small; font-family:courier;\">\n",
    "\n",
    "    This notebook is free software: you can redistribute it and/or modify\n",
    "    it under the terms of the GNU General Public License as published by\n",
    "    the Free Software Foundation, either version 3 of the License, or\n",
    "    (at your option) any later version.\n",
    "\n",
    "    This program is distributed in the hope that it will be useful,\n",
    "    but WITHOUT ANY WARRANTY; without even the implied warranty of\n",
    "    MERCHANTABILITY or FITNESS FOR A PARTICULAR PURPOSE.  See the\n",
    "    GNU General Public License for more details.\n",
    "\n",
    "    You should have received a copy of the GNU General Public License\n",
    "    along with this program. If not, see <https://www.gnu.org/licenses/>."
   ]
  },
  {
   "cell_type": "code",
   "execution_count": 1,
   "metadata": {},
   "outputs": [],
   "source": [
    "import numpy as np\n",
    "import pandas as pd\n",
    "import matplotlib.pyplot as plt\n",
    "%matplotlib inline"
   ]
  },
  {
   "cell_type": "markdown",
   "metadata": {},
   "source": [
    "## load mpg file "
   ]
  },
  {
   "cell_type": "code",
   "execution_count": 2,
   "metadata": {},
   "outputs": [
    {
     "name": "stdout",
     "output_type": "stream",
     "text": [
      "    mpg  cyl  displ     hp  weight  accel  model  origin  \\\n",
      "0  18.0    8  307.0  130.0  3504.0   12.0     70       1   \n",
      "1  15.0    8  350.0  165.0  3693.0   11.5     70       1   \n",
      "2  18.0    8  318.0  150.0  3436.0   11.0     70       1   \n",
      "3  16.0    8  304.0  150.0  3433.0   12.0     70       1   \n",
      "4  17.0    8  302.0  140.0  3449.0   10.5     70       1   \n",
      "\n",
      "                       carname  \n",
      "0  \"chevrolet chevelle malibu\"  \n",
      "1          \"buick skylark 320\"  \n",
      "2         \"plymouth satellite\"  \n",
      "3              \"amc rebel sst\"  \n",
      "4                \"ford torino\"  \n"
     ]
    }
   ],
   "source": [
    "data=pd.read_fwf(\"https://archive.ics.uci.edu/ml/machine-learning-databases/auto-mpg/auto-mpg.data\",\n",
    "                 header=None,na_values=\"?\")\n",
    "data.columns=(\"mpg\",\"cyl\",\"displ\",\"hp\",\"weight\",\"accel\",\"model\",\"origin\",\"carname\")\n",
    "data = data.dropna(axis=0)\n",
    "print(data[:5])"
   ]
  },
  {
   "cell_type": "markdown",
   "metadata": {},
   "source": [
    "2016 average fuel economy is 24.7 mpg\n",
    "https://www.reuters.com/article/us-autos-emissions/u-s-vehicle-fuel-economy-rises-to-record-24-7-mpg-epa-idUSKBN1F02BX\n",
    "downloaded 14 Dec 2018"
   ]
  },
  {
   "cell_type": "markdown",
   "metadata": {},
   "source": [
    "## redo single variable logistic regression vs weight"
   ]
  },
  {
   "cell_type": "code",
   "execution_count": 3,
   "metadata": {},
   "outputs": [],
   "source": [
    "mpg2016=24.7"
   ]
  },
  {
   "cell_type": "code",
   "execution_count": 4,
   "metadata": {},
   "outputs": [],
   "source": [
    "weight=data[\"weight\"]\n",
    "mpg=data[\"mpg\"]\n",
    "\n",
    "X=np.array(weight).reshape(-1,1)\n",
    "Y=np.array([1 if z<mpg2016 else 0 for z in mpg])"
   ]
  },
  {
   "cell_type": "code",
   "execution_count": 5,
   "metadata": {},
   "outputs": [],
   "source": [
    "from sklearn.linear_model import LogisticRegression as LR\n",
    "from sklearn.metrics import confusion_matrix, roc_curve\n",
    "from sklearn.model_selection import train_test_split"
   ]
  },
  {
   "cell_type": "code",
   "execution_count": 6,
   "metadata": {},
   "outputs": [],
   "source": [
    "XTRAIN,XTEST, YTRAIN, YTEST=train_test_split(X,Y)"
   ]
  },
  {
   "cell_type": "code",
   "execution_count": 7,
   "metadata": {},
   "outputs": [
    {
     "name": "stdout",
     "output_type": "stream",
     "text": [
      "a (intercept)= -4.622294445086468\n",
      "b (slope)= 0.0017822451262273832\n",
      "x0 (50% point)= 2593.523403186877\n"
     ]
    }
   ],
   "source": [
    "r=LR().fit(XTRAIN,YTRAIN)\n",
    "b=r.coef_[0,0]\n",
    "a=r.intercept_[0]\n",
    "x0=-a/b\n",
    "print(\"a (intercept)=\",a)\n",
    "print(\"b (slope)=\",b)\n",
    "print(\"x0 (50% point)=\",x0)"
   ]
  },
  {
   "cell_type": "markdown",
   "metadata": {},
   "source": [
    "## make a prediction on the test set and evaluate confusion matrix"
   ]
  },
  {
   "cell_type": "code",
   "execution_count": 8,
   "metadata": {},
   "outputs": [
    {
     "data": {
      "text/plain": [
       "array([[37,  5],\n",
       "       [ 8, 48]])"
      ]
     },
     "execution_count": 8,
     "metadata": {},
     "output_type": "execute_result"
    }
   ],
   "source": [
    "YP=r.predict(XTEST)\n",
    "confusion_matrix(YTEST,YP)"
   ]
  },
  {
   "cell_type": "markdown",
   "metadata": {},
   "source": [
    "## calculate probabilities\n",
    "\n",
    "### plot ROC curve"
   ]
  },
  {
   "cell_type": "code",
   "execution_count": 9,
   "metadata": {},
   "outputs": [
    {
     "data": {
      "image/png": "[encoded data removed]",
      "text/plain": [
       "<Figure size 432x432 with 1 Axes>"
      ]
     },
     "metadata": {
      "needs_background": "light"
     },
     "output_type": "display_data"
    }
   ],
   "source": [
    "probs=r.predict_proba(XTEST)[:,1]\n",
    "fpr, tpr, threshold = roc_curve(YTEST,probs)\n",
    "plt.plot(fpr,tpr, c=\"blue\")\n",
    "plt.plot([0,1],[0,1],c=\"green\",ls=\"--\")\n",
    "\n",
    "plt.xlabel(\"False Positive Rate\", fontsize=14)\n",
    "plt.ylabel(\"True Positive Rate\", fontsize=14)\n",
    "plt.grid()\n",
    "fig=plt.gcf()\n",
    "fig.set_size_inches(6,6)\n",
    "fig.tight_layout()\n",
    "fig.savefig(\"ROC-curve-gas-guzzler-logistic.pdf\")"
   ]
  },
  {
   "cell_type": "code",
   "execution_count": 10,
   "metadata": {},
   "outputs": [],
   "source": [
    "from scipy import interpolate"
   ]
  },
  {
   "cell_type": "code",
   "execution_count": 11,
   "metadata": {},
   "outputs": [],
   "source": [
    "x=threshold\n",
    "y=np.vstack([fpr,tpr])\n",
    "f=interpolate.interp1d(x,y)"
   ]
  },
  {
   "cell_type": "code",
   "execution_count": 12,
   "metadata": {},
   "outputs": [
    {
     "name": "stdout",
     "output_type": "stream",
     "text": [
      "[0.97451273 0.91120694 0.88252573 0.87648282 0.8723735  0.74834428\n",
      " 0.74327631 0.6349114  0.63325733 0.60511071 0.59097366 0.54464923\n",
      " 0.51847195 0.50288569 0.48328725 0.47839331 0.46950652 0.45356263\n",
      " 0.42939749 0.41505085 0.40384675 0.38469594 0.3671373  0.36300619\n",
      " 0.34266234 0.33945805 0.31398459 0.30446773 0.30070672 0.29697234\n",
      " 0.2469704  0.23683951 0.15664945]\n"
     ]
    }
   ],
   "source": [
    "print(threshold)"
   ]
  },
  {
   "cell_type": "code",
   "execution_count": 13,
   "metadata": {},
   "outputs": [],
   "source": [
    "tvals=np.arange(.2,1,.1)\n",
    "xyvals=f(tvals)\n",
    "xvals,yvals=xyvals"
   ]
  },
  {
   "cell_type": "code",
   "execution_count": 14,
   "metadata": {},
   "outputs": [
    {
     "data": {
      "image/png": "[encoded data removed]",
      "text/plain": [
       "<Figure size 432x432 with 1 Axes>"
      ]
     },
     "metadata": {
      "needs_background": "light"
     },
     "output_type": "display_data"
    }
   ],
   "source": [
    "plt.plot(fpr,tpr, c=\"blue\")\n",
    "plt.plot([0,1],[0,1],c=\"green\",ls=\"--\")\n",
    "plt.scatter(xvals,yvals, c=\"k\")\n",
    "for t,x,y in zip(tvals,xvals,yvals):\n",
    "    plt.annotate(str(round(t,1)),(x,y),xytext=(x+.1,y-.1),\n",
    "                fontsize=14,\n",
    "                arrowprops={\"width\":1.0, \"facecolor\":\"black\",\n",
    "                           \"shrink\":.0, \"headwidth\":6})\n",
    "\n",
    "plt.xlabel(\"False Positive Rate\", fontsize=14)\n",
    "plt.ylabel(\"True Positive Rate\", fontsize=14)\n",
    "plt.grid()\n",
    "fig=plt.gcf()\n",
    "fig.set_size_inches(6,6)\n",
    "fig.tight_layout()\n",
    "fig.savefig(\"Annotated-ROC-curve-gas-guzzler-logistic.pdf\")"
   ]
  },
  {
   "cell_type": "markdown",
   "metadata": {},
   "source": [
    "# Implement ROC Curve from scratch"
   ]
  },
  {
   "cell_type": "code",
   "execution_count": 15,
   "metadata": {},
   "outputs": [],
   "source": [
    "def ROC(Y,Prob):\n",
    "    if (len(Y)!=len(Prob)):\n",
    "        print(\"Length mismatch\")\n",
    "        return([])\n",
    "    \n",
    "    P=sum(Y); N=len(Y)-P\n",
    "\n",
    "    if (P<1) or (N<1):\n",
    "        print(\"There must be both postive and negative examples\")\n",
    "        return([])\n",
    "    \n",
    "    py_pairs = sorted(zip(Prob, Y), reverse=True)\n",
    "\n",
    "    FP=0; TP=0\n",
    "    ROC_CURVE=[]\n",
    "    pprev=float(\"-inf\")\n",
    "    \n",
    "    for p,y in py_pairs:\n",
    "        if p != pprev:\n",
    "            ROC_CURVE.append([FP/N, TP/P])\n",
    "            pprev=p\n",
    "        if y>0:\n",
    "            TP+=1\n",
    "        else:\n",
    "            FP+=1\n",
    "     \n",
    "    ROC_CURVE.append([FP/N, TP/P])\n",
    "    return(ROC_CURVE)"
   ]
  },
  {
   "cell_type": "code",
   "execution_count": 16,
   "metadata": {},
   "outputs": [],
   "source": [
    "## demonstrate our own ROC curve"
   ]
  },
  {
   "cell_type": "code",
   "execution_count": 17,
   "metadata": {},
   "outputs": [
    {
     "data": {
      "image/png": "[encoded data removed]",
      "text/plain": [
       "<Figure size 432x432 with 1 Axes>"
      ]
     },
     "metadata": {
      "needs_background": "light"
     },
     "output_type": "display_data"
    }
   ],
   "source": [
    "FPR,TPR=zip(*ROC(YTEST,probs))\n",
    "plt.plot(FPR,TPR,c=\"blue\")\n",
    "plt.grid()\n",
    "plt.plot([0,1],[0,1],c=\"green\",ls=\"--\")\n",
    "plt.xlabel(\"False Positive Rate\",fontsize=14)\n",
    "plt.ylabel(\"True Positive Rate\",fontsize=14)\n",
    "fig=plt.gcf()\n",
    "fig.set_size_inches(6,6)\n",
    "fig.tight_layout()\n",
    "fig.savefig(\"ROC-CURVE-GAS-GUZZLER-LOGISTIC-REGRESSION-MODEL.pdf\")\n"
   ]
  },
  {
   "cell_type": "markdown",
   "metadata": {},
   "source": [
    "## demonstrate how to implement confusion matrix from scratch"
   ]
  },
  {
   "cell_type": "code",
   "execution_count": 18,
   "metadata": {},
   "outputs": [
    {
     "data": {
      "text/plain": [
       "array([[37,  5],\n",
       "       [ 8, 48]])"
      ]
     },
     "execution_count": 18,
     "metadata": {},
     "output_type": "execute_result"
    }
   ],
   "source": [
    "def ConfMat(OBS,PRED):\n",
    "    OPS=list(zip(OBS,PRED))\n",
    "    TP = sum([(O==1) and (P==1) for O,P in OPS])\n",
    "    TN = sum([(O==0) and (P==0) for O,P in OPS])\n",
    "    FP = sum([(P==1) and (O==0) for O,P in OPS])\n",
    "    FN = sum([(P==0) and (O==1) for O,P in OPS])   \n",
    "    M = np.array([[TN,FP],[FN,TP]])\n",
    "    return M\n",
    "ConfMat(YTEST,YP)"
   ]
  },
  {
   "cell_type": "code",
   "execution_count": 19,
   "metadata": {},
   "outputs": [
    {
     "data": {
      "text/plain": [
       "array([[37,  5],\n",
       "       [ 8, 48]])"
      ]
     },
     "execution_count": 19,
     "metadata": {},
     "output_type": "execute_result"
    }
   ],
   "source": [
    "confusion_matrix(YTEST,YP) # this is sklearn confusion matrix"
   ]
  },
  {
   "cell_type": "markdown",
   "metadata": {},
   "source": [
    "# demonstrate how to calculate various metrics from scratch and compare to sklearn implementations"
   ]
  },
  {
   "cell_type": "code",
   "execution_count": 20,
   "metadata": {},
   "outputs": [
    {
     "name": "stdout",
     "output_type": "stream",
     "text": [
      "TPR =          0.857 sklearn recall_score= 0.857\n",
      "TNR =          0.881\n",
      "Specificity =  0.881\n",
      "Accuracy =     0.867 sklearn accuracy_score= 0.867\n",
      "Precision =    0.906 sklearn precision_score= 0.906\n",
      "F =            0.881 sklearn f1_score= 0.881\n"
     ]
    }
   ],
   "source": [
    "from sklearn.metrics import recall_score, precision_score, \\\n",
    " f1_score,roc_auc_score, accuracy_score,precision_recall_fscore_support\n",
    "\n",
    "def Metrics(OBS,PRED):\n",
    "    OPS=list(zip(OBS,PRED))\n",
    "    TP = sum([(O==1) and (P==1) for O,P in OPS])\n",
    "    TN = sum([(O==0) and (P==0) for O,P in OPS])\n",
    "    FP = sum([(P==1) and (O==0) for O,P in OPS])\n",
    "    FN = sum([(P==0) and (O==1) for O,P in OPS])   \n",
    "    P = sum(OBS)\n",
    "    N = len(OBS)-P\n",
    "    TPR = TP/P\n",
    "    TNR = TN/N\n",
    "    Specificity = TN/(FP+TN)\n",
    "    Accuracy = (TP+TN)/(P+N)\n",
    "    Precision = TP/(TP+FP)\n",
    "    F=2/(1/Precision+1/TPR)\n",
    "    return(TPR, TNR, Specificity, Accuracy, Precision,F)\n",
    "TPR,TNR,Spec,Acc,Prec,F=Metrics(YTEST,YP)\n",
    "print(\"TPR =         \",round(TPR,3),\"sklearn recall_score=\",\n",
    "     round(recall_score(YTEST,YP),3))\n",
    "print(\"TNR =         \",round(TNR,3))\n",
    "print(\"Specificity = \",round(Spec,3))\n",
    "print(\"Accuracy =    \",round(Acc,3),\"sklearn accuracy_score=\",\n",
    "      round(accuracy_score(YTEST,YP),3))\n",
    "print(\"Precision =   \",round(Prec,3),\"sklearn precision_score=\",\n",
    "     round(precision_score(YTEST,YP),3))\n",
    "print(\"F =           \",round(F,3),\"sklearn f1_score=\",\n",
    "     round(f1_score(YTEST,YP),3))"
   ]
  },
  {
   "cell_type": "markdown",
   "metadata": {},
   "source": [
    "## calculate area under the ROC curve\n",
    "\n",
    "#### and compare with SKLEARN version"
   ]
  },
  {
   "cell_type": "code",
   "execution_count": 21,
   "metadata": {
    "scrolled": true
   },
   "outputs": [
    {
     "data": {
      "text/plain": [
       "0.9366496598639455"
      ]
     },
     "execution_count": 21,
     "metadata": {},
     "output_type": "execute_result"
    }
   ],
   "source": [
    "roc_auc_score(YTEST,probs)"
   ]
  },
  {
   "cell_type": "code",
   "execution_count": 22,
   "metadata": {},
   "outputs": [],
   "source": [
    "FPR,TPR=zip(*ROC(YTEST,probs))"
   ]
  },
  {
   "cell_type": "code",
   "execution_count": 23,
   "metadata": {},
   "outputs": [
    {
     "name": "stdout",
     "output_type": "stream",
     "text": [
      "0.9366496598639455\n"
     ]
    },
    {
     "data": {
      "text/plain": [
       "0.9366496598639455"
      ]
     },
     "execution_count": 23,
     "metadata": {},
     "output_type": "execute_result"
    }
   ],
   "source": [
    "def TRAP(xvals, yvals):\n",
    "    XLEFT = xvals[:-1]; XRIGHT= xvals[1:]\n",
    "    YLEFT = yvals[:-1]; YRIGHT= yvals[1:]\n",
    "    DX = XRIGHT-XLEFT\n",
    "    print(sum(YLEFT*DX))\n",
    "    return(sum(0.5*(YLEFT+YRIGHT)*DX))\n",
    "TRAP(np.array(FPR), np.array(TPR))"
   ]
  },
  {
   "cell_type": "code",
   "execution_count": 24,
   "metadata": {},
   "outputs": [],
   "source": [
    "from sklearn.metrics import auc"
   ]
  },
  {
   "cell_type": "code",
   "execution_count": 25,
   "metadata": {},
   "outputs": [
    {
     "data": {
      "text/plain": [
       "0.9366496598639457"
      ]
     },
     "execution_count": 25,
     "metadata": {},
     "output_type": "execute_result"
    }
   ],
   "source": [
    "auc(FPR,TPR)"
   ]
  },
  {
   "cell_type": "markdown",
   "metadata": {},
   "source": [
    "# demonstrate ROC operation"
   ]
  },
  {
   "cell_type": "code",
   "execution_count": 26,
   "metadata": {},
   "outputs": [
    {
     "name": "stdout",
     "output_type": "stream",
     "text": [
      "    p Y FP TP   FPR   TPR\n",
      "----- - -- -- ----- -----\n",
      "0.975 1  0  1 0.000 0.018\n",
      "0.966 1  0  2 0.000 0.036\n",
      "0.963 1  0  3 0.000 0.054\n",
      "0.960 1  0  4 0.000 0.071\n",
      "0.959 1  0  5 0.000 0.089\n",
      "0.958 1  0  6 0.000 0.107\n",
      "0.952 1  0  7 0.000 0.125\n",
      "0.949 1  0  8 0.000 0.143\n",
      "0.945 1  0  9 0.000 0.161\n",
      "0.943 1  0 10 0.000 0.179\n",
      "0.940 1  0 11 0.000 0.196\n",
      "0.939 1  0 12 0.000 0.214\n",
      "0.936 1  0 13 0.000 0.232\n",
      "0.932 1  0 14 0.000 0.250\n",
      "0.930 1  0 15 0.000 0.268\n",
      "0.920 1  0 16 0.000 0.286\n",
      "0.919 1  0 17 0.000 0.304\n",
      "0.911 1  0 18 0.000 0.321\n",
      "0.883 0  1 18 0.024 0.321\n",
      "0.876 1  1 19 0.024 0.339\n",
      "0.872 1  1 20 0.024 0.357\n",
      "0.872 1  1 21 0.024 0.375\n",
      "0.871 1  1 22 0.024 0.393\n",
      "0.868 1  1 23 0.024 0.411\n",
      "0.864 1  1 24 0.024 0.429\n",
      "0.860 1  1 25 0.024 0.446\n",
      "0.859 1  1 26 0.024 0.464\n",
      "0.818 1  1 27 0.024 0.482\n",
      "0.815 1  1 28 0.024 0.500\n",
      "0.814 1  1 29 0.024 0.518\n",
      "0.803 1  1 30 0.024 0.536\n",
      "0.802 1  1 31 0.024 0.554\n",
      "0.795 1  1 32 0.024 0.571\n",
      "0.790 1  1 33 0.024 0.589\n",
      "0.748 1  1 34 0.024 0.607\n",
      "0.743 0  2 34 0.048 0.607\n",
      "0.726 1  2 35 0.048 0.625\n",
      "0.706 1  2 36 0.048 0.643\n",
      "0.706 1  2 37 0.048 0.661\n",
      "0.670 1  2 38 0.048 0.679\n",
      "0.659 1  2 39 0.048 0.696\n",
      "0.652 1  2 40 0.048 0.714\n",
      "0.646 1  2 41 0.048 0.732\n",
      "0.635 1  2 42 0.048 0.750\n",
      "0.633 0  3 42 0.071 0.750\n",
      "0.620 1  3 43 0.071 0.768\n",
      "0.605 1  3 44 0.071 0.786\n",
      "0.591 0  4 44 0.095 0.786\n",
      "0.580 1  4 45 0.095 0.804\n",
      "0.565 1  4 46 0.095 0.821\n",
      "0.545 1  4 47 0.095 0.839\n",
      "0.518 0  5 47 0.119 0.839\n",
      "0.503 1  5 48 0.119 0.857\n",
      "0.496 0  6 48 0.143 0.857\n",
      "0.492 0  7 48 0.167 0.857\n",
      "0.483 0  8 48 0.190 0.857\n",
      "0.478 1  8 49 0.190 0.875\n",
      "0.470 0  9 49 0.214 0.875\n",
      "0.465 1  9 50 0.214 0.893\n",
      "0.454 1  9 51 0.214 0.911\n",
      "0.429 0 10 51 0.238 0.911\n",
      "0.415 1 10 52 0.238 0.929\n",
      "0.411 0 11 52 0.262 0.929\n",
      "0.404 0 12 52 0.286 0.929\n",
      "0.385 1 12 53 0.286 0.946\n",
      "0.370 0 13 53 0.310 0.946\n",
      "0.367 0 14 53 0.333 0.946\n",
      "0.363 1 14 54 0.333 0.964\n",
      "0.363 1 14 55 0.333 0.982\n",
      "0.358 0 15 55 0.357 0.982\n",
      "0.350 0 16 55 0.381 0.982\n",
      "0.345 0 17 55 0.405 0.982\n",
      "0.343 0 18 55 0.429 0.982\n",
      "0.339 1 18 56 0.429 1.000\n",
      "0.320 0 19 56 0.452 1.000\n",
      "0.317 0 20 56 0.476 1.000\n",
      "0.314 0 21 56 0.500 1.000\n",
      "0.304 0 22 56 0.524 1.000\n",
      "0.304 0 23 56 0.548 1.000\n",
      "0.303 0 24 56 0.571 1.000\n",
      "0.301 0 25 56 0.595 1.000\n",
      "0.297 0 26 56 0.619 1.000\n",
      "0.297 0 27 56 0.643 1.000\n",
      "0.282 0 28 56 0.667 1.000\n",
      "0.281 0 29 56 0.690 1.000\n",
      "0.275 0 30 56 0.714 1.000\n",
      "0.273 0 31 56 0.738 1.000\n",
      "0.270 0 32 56 0.762 1.000\n",
      "0.264 0 33 56 0.786 1.000\n",
      "0.247 0 34 56 0.810 1.000\n",
      "0.237 0 35 56 0.833 1.000\n",
      "0.237 0 36 56 0.857 1.000\n",
      "0.217 0 37 56 0.881 1.000\n",
      "0.210 0 38 56 0.905 1.000\n",
      "0.203 0 39 56 0.929 1.000\n",
      "0.188 0 40 56 0.952 1.000\n",
      "0.185 0 41 56 0.976 1.000\n",
      "0.157 0 42 56 1.000 1.000\n"
     ]
    }
   ],
   "source": [
    "def ROCDEMO(Y,Prob):\n",
    "    if (len(Y)!=len(Prob)):\n",
    "        print(\"Length mismatch\")\n",
    "        return([])\n",
    "    \n",
    "    P=sum(Y)\n",
    "    N=len(Y)-P\n",
    "\n",
    "    if (P<1) or (N<1):\n",
    "        print(\"There must be both postive and negative examples\")\n",
    "        return([])\n",
    "    \n",
    "    py_pairs = sorted(zip(Prob, Y), reverse=True)\n",
    "\n",
    "    FP=0; TP=0\n",
    "    ROC_CURVE=[]\n",
    "    pprev=float(\"-inf\")\n",
    "    \n",
    "    print(\"    p Y FP TP   FPR   TPR\")  \n",
    "    print(\"----- - -- -- ----- -----\")\n",
    "    for p,y in py_pairs:\n",
    "        if p != pprev:\n",
    "            ROC_CURVE.append([FP/N, TP/P])\n",
    "            pprev=p\n",
    "        if y>0:\n",
    "            TP+=1\n",
    "        else:\n",
    "            FP+=1\n",
    "        print(\"%3.3f %1d %2d %2d %3.3f %3.3f\" %(p,y,FP,TP,FP/N,TP/P))\n",
    "\n",
    "     \n",
    "    ROC_CURVE.append([FP/N, TP/P])\n",
    "    return(ROC_CURVE)\n",
    "\n",
    "FPR,TPR=zip(*ROCDEMO(YTEST, probs))\n",
    "#plt.plot(FPR,TPR)"
   ]
  },
  {
   "cell_type": "code",
   "execution_count": null,
   "metadata": {},
   "outputs": [],
   "source": []
  }
 ],
 "metadata": {
  "kernelspec": {
   "display_name": "Python 3",
   "language": "python",
   "name": "python3"
  },
  "language_info": {
   "codemirror_mode": {
    "name": "ipython",
    "version": 3
   },
   "file_extension": ".py",
   "mimetype": "text/x-python",
   "name": "python",
   "nbconvert_exporter": "python",
   "pygments_lexer": "ipython3",
   "version": "3.6.7"
  }
 },
 "nbformat": 4,
 "nbformat_minor": 2
}
