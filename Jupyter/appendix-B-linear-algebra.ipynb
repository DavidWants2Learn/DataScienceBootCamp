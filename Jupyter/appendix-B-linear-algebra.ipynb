{
 "cells": [
  {
   "cell_type": "code",
   "execution_count": 1,
   "metadata": {},
   "outputs": [],
   "source": [
    "import numpy as np"
   ]
  },
  {
   "cell_type": "markdown",
   "metadata": {},
   "source": [
    "## Simple Vector represented as an array"
   ]
  },
  {
   "cell_type": "code",
   "execution_count": 44,
   "metadata": {},
   "outputs": [
    {
     "name": "stdout",
     "output_type": "stream",
     "text": [
      "[ 4  6 -7]\n"
     ]
    }
   ],
   "source": [
    "v=np.array([4,6,-7])\n",
    "print(v)"
   ]
  },
  {
   "cell_type": "code",
   "execution_count": 45,
   "metadata": {},
   "outputs": [
    {
     "name": "stdout",
     "output_type": "stream",
     "text": [
      "[ 4  6 -7]\n"
     ]
    }
   ],
   "source": [
    "v_transpose=v.T\n",
    "print(v_transpose)"
   ]
  },
  {
   "cell_type": "code",
   "execution_count": 55,
   "metadata": {},
   "outputs": [
    {
     "name": "stdout",
     "output_type": "stream",
     "text": [
      "[[ 3  4 -5]]\n",
      "[[ 3]\n",
      " [ 4]\n",
      " [-5]]\n"
     ]
    }
   ],
   "source": [
    "w=np.array([[3,4,-5]])\n",
    "print(w)\n",
    "w_transpose=w.T\n",
    "print(w_transpose)"
   ]
  },
  {
   "cell_type": "markdown",
   "metadata": {},
   "source": [
    "## Vector norm"
   ]
  },
  {
   "cell_type": "code",
   "execution_count": 59,
   "metadata": {},
   "outputs": [
    {
     "name": "stdout",
     "output_type": "stream",
     "text": [
      "The norm is 7.0710678118654755\n",
      "The 1-norm is 12.0\n",
      "The 4-norm is 5.569212227823757\n",
      "The inf-norm is 5.0\n"
     ]
    }
   ],
   "source": [
    "u=w.ravel()\n",
    "print(\"The norm is\",np.linalg.norm(u))\n",
    "print(\"The 1-norm is\", np.linalg.norm(u,ord=1))\n",
    "print(\"The 4-norm is\",np.linalg.norm(u,ord=4))\n",
    "print(\"The inf-norm is\",np.linalg.norm(u,ord=float(\"inf\")))"
   ]
  },
  {
   "cell_type": "markdown",
   "metadata": {},
   "source": [
    "## Vector dot product"
   ]
  },
  {
   "cell_type": "code",
   "execution_count": 60,
   "metadata": {},
   "outputs": [
    {
     "data": {
      "text/plain": [
       "17"
      ]
     },
     "execution_count": 60,
     "metadata": {},
     "output_type": "execute_result"
    }
   ],
   "source": [
    "v=np.array([1,2,4,-3])\n",
    "w=np.array([3,2,1,-2])\n",
    "v.dot(w)"
   ]
  },
  {
   "cell_type": "code",
   "execution_count": 66,
   "metadata": {},
   "outputs": [
    {
     "name": "stdout",
     "output_type": "stream",
     "text": [
      "Cosine(angle)= 0.7315635209502899\n"
     ]
    }
   ],
   "source": [
    "nv=np.linalg.norm(v)\n",
    "nw=np.linalg.norm(w)\n",
    "costheta = v.dot(w)/(nv*nw)\n",
    "print(\"Cosine(angle)=\",costheta)"
   ]
  },
  {
   "cell_type": "code",
   "execution_count": 65,
   "metadata": {},
   "outputs": [
    {
     "name": "stdout",
     "output_type": "stream",
     "text": [
      "42.982369831394024 Degrees\n"
     ]
    }
   ],
   "source": [
    "from math import pi, acos\n",
    "theta = (180/pi)*acos(costheta)\n",
    "print(theta, \"Degrees\")"
   ]
  },
  {
   "cell_type": "markdown",
   "metadata": {},
   "source": [
    "## scalar products and vector addition"
   ]
  },
  {
   "cell_type": "code",
   "execution_count": 69,
   "metadata": {},
   "outputs": [
    {
     "name": "stdout",
     "output_type": "stream",
     "text": [
      "[ 9  6  3 -6]\n"
     ]
    }
   ],
   "source": [
    "print(3*w)"
   ]
  },
  {
   "cell_type": "code",
   "execution_count": 70,
   "metadata": {},
   "outputs": [
    {
     "name": "stdout",
     "output_type": "stream",
     "text": [
      "[ 4  4  5 -5]\n"
     ]
    }
   ],
   "source": [
    "print(w+v)"
   ]
  },
  {
   "cell_type": "markdown",
   "metadata": {},
   "source": [
    "## matrices and transposes"
   ]
  },
  {
   "cell_type": "code",
   "execution_count": 77,
   "metadata": {},
   "outputs": [
    {
     "name": "stdout",
     "output_type": "stream",
     "text": [
      "Matrix:\n",
      "[[1 2]\n",
      " [3 4]]\n",
      "Transpose:\n",
      "[[1 3]\n",
      " [2 4]]\n"
     ]
    }
   ],
   "source": [
    "M=np.array([[1,2],[3,4]])\n",
    "print(\"Matrix:\")\n",
    "print(M)\n",
    "print(\"Transpose:\")\n",
    "print(M.T)"
   ]
  },
  {
   "cell_type": "code",
   "execution_count": 78,
   "metadata": {},
   "outputs": [
    {
     "name": "stdout",
     "output_type": "stream",
     "text": [
      "Matrix:\n",
      "[[3 4 5]\n",
      " [6 7 8]]\n",
      "Transpose:\n",
      "[[3 6]\n",
      " [4 7]\n",
      " [5 8]]\n"
     ]
    }
   ],
   "source": [
    "N=np.array([[3,4,5],[6,7,8]])\n",
    "print(\"Matrix:\")\n",
    "print(N)\n",
    "print(\"Transpose:\")\n",
    "print(N.T)"
   ]
  },
  {
   "cell_type": "markdown",
   "metadata": {},
   "source": [
    "## determinant"
   ]
  },
  {
   "cell_type": "code",
   "execution_count": 79,
   "metadata": {},
   "outputs": [
    {
     "data": {
      "text/plain": [
       "41.00000000000001"
      ]
     },
     "execution_count": 79,
     "metadata": {},
     "output_type": "execute_result"
    }
   ],
   "source": [
    "A=np.array([[1,0,3],[4,5,0],[0,3,1]])\n",
    "np.linalg.det(A)"
   ]
  },
  {
   "cell_type": "markdown",
   "metadata": {},
   "source": [
    "## matrix multiplication"
   ]
  },
  {
   "cell_type": "code",
   "execution_count": 80,
   "metadata": {},
   "outputs": [
    {
     "name": "stdout",
     "output_type": "stream",
     "text": [
      "[[ 64  70]\n",
      " [154 169]]\n"
     ]
    }
   ],
   "source": [
    "A=np.array([[1,2,3],[4,5,6]])\n",
    "B=np.array([[8,9],[10,11],[12,13]])\n",
    "C=A.dot(B)\n",
    "print(C)"
   ]
  },
  {
   "cell_type": "code",
   "execution_count": 81,
   "metadata": {},
   "outputs": [
    {
     "name": "stdout",
     "output_type": "stream",
     "text": [
      "[[ 44  61  78]\n",
      " [ 54  75  96]\n",
      " [ 64  89 114]]\n"
     ]
    }
   ],
   "source": [
    "D=B.dot(A)\n",
    "print(D)"
   ]
  },
  {
   "cell_type": "markdown",
   "metadata": {},
   "source": [
    "## determinant of a product"
   ]
  },
  {
   "cell_type": "code",
   "execution_count": 97,
   "metadata": {},
   "outputs": [],
   "source": [
    "P=np.array([[1,2,3],[-4,5,-6],[7,8,9]])\n",
    "Q=np.array([[1,0,-1],[0,-2,-1],[2,1,1]])"
   ]
  },
  {
   "cell_type": "code",
   "execution_count": 104,
   "metadata": {},
   "outputs": [
    {
     "data": {
      "text/plain": [
       "600.0"
      ]
     },
     "execution_count": 104,
     "metadata": {},
     "output_type": "execute_result"
    }
   ],
   "source": [
    "DP=np.linalg.det(P)\n",
    "DQ=np.linalg.det(Q)\n",
    "np.rint(DP*DQ)"
   ]
  },
  {
   "cell_type": "code",
   "execution_count": 87,
   "metadata": {},
   "outputs": [
    {
     "data": {
      "text/plain": [
       "600.0"
      ]
     },
     "execution_count": 87,
     "metadata": {},
     "output_type": "execute_result"
    }
   ],
   "source": [
    "np.linalg.det(P.dot(Q))"
   ]
  },
  {
   "cell_type": "markdown",
   "metadata": {},
   "source": [
    "## Matrix inverse"
   ]
  },
  {
   "cell_type": "code",
   "execution_count": 109,
   "metadata": {
    "scrolled": true
   },
   "outputs": [
    {
     "name": "stdout",
     "output_type": "stream",
     "text": [
      "Matrix:\n",
      "[[ 1  2  3]\n",
      " [-4  5 -6]\n",
      " [ 7  8  9]]\n",
      "Inverse:\n",
      "[[-0.775      -0.05        0.225     ]\n",
      " [ 0.05        0.1         0.05      ]\n",
      " [ 0.55833333 -0.05       -0.10833333]]\n"
     ]
    }
   ],
   "source": [
    "IP = np.linalg.inv(P)\n",
    "print(\"Matrix:\")\n",
    "print(P)\n",
    "print(\"Inverse:\")\n",
    "print(IP)"
   ]
  },
  {
   "cell_type": "code",
   "execution_count": 116,
   "metadata": {},
   "outputs": [
    {
     "data": {
      "text/plain": [
       "array([[ 1.,  0., -0.],\n",
       "       [ 0.,  1.,  0.],\n",
       "       [ 0., -0.,  1.]])"
      ]
     },
     "execution_count": 116,
     "metadata": {},
     "output_type": "execute_result"
    }
   ],
   "source": [
    "np.round(P.dot(IP),14)"
   ]
  },
  {
   "cell_type": "code",
   "execution_count": 115,
   "metadata": {},
   "outputs": [
    {
     "data": {
      "text/plain": [
       "array([[ 1.,  0., -0.],\n",
       "       [-0.,  1.,  0.],\n",
       "       [-0., -0.,  1.]])"
      ]
     },
     "execution_count": 115,
     "metadata": {},
     "output_type": "execute_result"
    }
   ],
   "source": [
    "np.round(IP.dot(P),14)"
   ]
  },
  {
   "cell_type": "markdown",
   "metadata": {},
   "source": [
    "## Solving Linear Systems"
   ]
  },
  {
   "cell_type": "code",
   "execution_count": 131,
   "metadata": {},
   "outputs": [
    {
     "name": "stdout",
     "output_type": "stream",
     "text": [
      "[[ 1  0 -1]\n",
      " [ 0 -2 -1]\n",
      " [ 2  1  1]]\n"
     ]
    }
   ],
   "source": [
    "print(Q)"
   ]
  },
  {
   "cell_type": "code",
   "execution_count": 119,
   "metadata": {},
   "outputs": [],
   "source": [
    "b=np.array([1,2,3])"
   ]
  },
  {
   "cell_type": "code",
   "execution_count": 134,
   "metadata": {},
   "outputs": [
    {
     "name": "stdout",
     "output_type": "stream",
     "text": [
      "[ 1.8 -1.4  0.8]\n"
     ]
    }
   ],
   "source": [
    "print(np.linalg.solve(Q,b))"
   ]
  },
  {
   "cell_type": "code",
   "execution_count": 122,
   "metadata": {},
   "outputs": [
    {
     "data": {
      "text/plain": [
       "array([1., 2., 3.])"
      ]
     },
     "execution_count": 122,
     "metadata": {},
     "output_type": "execute_result"
    }
   ],
   "source": [
    "Q.dot(np.array([1.8,-1.4, 0.8]))"
   ]
  },
  {
   "cell_type": "code",
   "execution_count": 132,
   "metadata": {},
   "outputs": [
    {
     "name": "stdout",
     "output_type": "stream",
     "text": [
      "[[ 0.2  0.2  0.4]\n",
      " [ 0.4 -0.6 -0.2]\n",
      " [-0.8  0.2  0.4]]\n"
     ]
    }
   ],
   "source": [
    "IQ=np.linalg.inv(Q)\n",
    "print(IQ)"
   ]
  },
  {
   "cell_type": "code",
   "execution_count": 129,
   "metadata": {},
   "outputs": [
    {
     "data": {
      "text/plain": [
       "array([[ 1.,  0.,  0.],\n",
       "       [ 0.,  1., -0.],\n",
       "       [ 0.,  0.,  1.]])"
      ]
     },
     "execution_count": 129,
     "metadata": {},
     "output_type": "execute_result"
    }
   ],
   "source": [
    "np.round(IQ.dot(Q),15)"
   ]
  },
  {
   "cell_type": "code",
   "execution_count": 133,
   "metadata": {},
   "outputs": [
    {
     "name": "stdout",
     "output_type": "stream",
     "text": [
      "[ 1.8 -1.4  0.8]\n"
     ]
    }
   ],
   "source": [
    "print(IQ.dot(b))"
   ]
  },
  {
   "cell_type": "markdown",
   "metadata": {},
   "source": [
    "## characteristic equation"
   ]
  },
  {
   "cell_type": "code",
   "execution_count": 138,
   "metadata": {},
   "outputs": [
    {
     "data": {
      "text/plain": [
       "array([[1., 0., 0.],\n",
       "       [0., 1., 0.],\n",
       "       [0., 0., 1.]])"
      ]
     },
     "execution_count": 138,
     "metadata": {},
     "output_type": "execute_result"
    }
   ],
   "source": [
    "np.identity(3)"
   ]
  },
  {
   "cell_type": "code",
   "execution_count": 194,
   "metadata": {},
   "outputs": [],
   "source": [
    "A=np.array([[1,0,3],[4,5,0],[0,3,1]])"
   ]
  },
  {
   "cell_type": "code",
   "execution_count": 195,
   "metadata": {},
   "outputs": [
    {
     "data": {
      "text/plain": [
       "41.00000000000001"
      ]
     },
     "execution_count": 195,
     "metadata": {},
     "output_type": "execute_result"
    }
   ],
   "source": [
    "np.linalg.det(A)"
   ]
  },
  {
   "cell_type": "code",
   "execution_count": 196,
   "metadata": {},
   "outputs": [
    {
     "data": {
      "text/plain": [
       "7"
      ]
     },
     "execution_count": 196,
     "metadata": {},
     "output_type": "execute_result"
    }
   ],
   "source": [
    "np.trace(A)"
   ]
  },
  {
   "cell_type": "code",
   "execution_count": 197,
   "metadata": {},
   "outputs": [
    {
     "name": "stdout",
     "output_type": "stream",
     "text": [
      "[6.28760866+0.j         0.35619567+2.52861359j 0.35619567-2.52861359j]\n"
     ]
    }
   ],
   "source": [
    "print(np.linalg.eigvals(A))"
   ]
  },
  {
   "cell_type": "code",
   "execution_count": 198,
   "metadata": {},
   "outputs": [
    {
     "data": {
      "text/plain": [
       "array([6.28760866+0.j        , 0.35619567+2.52861359j,\n",
       "       0.35619567-2.52861359j])"
      ]
     },
     "execution_count": 198,
     "metadata": {},
     "output_type": "execute_result"
    }
   ],
   "source": [
    "np.roots([-1, 7, -11, 41])"
   ]
  },
  {
   "cell_type": "code",
   "execution_count": 199,
   "metadata": {},
   "outputs": [
    {
     "name": "stdout",
     "output_type": "stream",
     "text": [
      "The eigenvector correspsonding to  (6.288+0j) is\n",
      "[-0.27 +0.j -0.838+0.j -0.475+0.j]\n",
      "\n",
      "The eigenvector correspsonding to  (0.356+2.529j) is\n",
      "[ 0.655+0.j    -0.435-0.237j -0.141+0.552j]\n",
      "\n",
      "The eigenvector correspsonding to  (0.356-2.529j) is\n",
      "[ 0.655-0.j    -0.435+0.237j -0.141-0.552j]\n",
      "\n"
     ]
    }
   ],
   "source": [
    "vals,vecs=np.linalg.eig(A)\n",
    "for val,vec in zip(vals,vecs.T):\n",
    "    print(\"The eigenvector correspsonding to \",np.around(val,3),\"is\")\n",
    "    print(np.around(vec,3))\n",
    "    print()"
   ]
  },
  {
   "cell_type": "code",
   "execution_count": 200,
   "metadata": {},
   "outputs": [
    {
     "data": {
      "text/plain": [
       "array([[ 2, -2,  3],\n",
       "       [ 1,  1,  1],\n",
       "       [ 1,  3, -1]])"
      ]
     },
     "execution_count": 200,
     "metadata": {},
     "output_type": "execute_result"
    }
   ],
   "source": [
    "A=np.array([[2,-2,3],[1,1,1],[1,3,-1]])\n",
    "A"
   ]
  },
  {
   "cell_type": "code",
   "execution_count": 201,
   "metadata": {},
   "outputs": [],
   "source": [
    "vals,vecs=np.linalg.eig(A)"
   ]
  },
  {
   "cell_type": "code",
   "execution_count": 203,
   "metadata": {},
   "outputs": [
    {
     "name": "stdout",
     "output_type": "stream",
     "text": [
      "[ 3.  1. -2.]\n"
     ]
    }
   ],
   "source": [
    "print(vals)"
   ]
  },
  {
   "cell_type": "code",
   "execution_count": 204,
   "metadata": {},
   "outputs": [
    {
     "name": "stdout",
     "output_type": "stream",
     "text": [
      "[-0.61684937 -0.05607722  0.78508102]\n"
     ]
    }
   ],
   "source": [
    "print(vecs.T[2])"
   ]
  },
  {
   "cell_type": "code",
   "execution_count": 193,
   "metadata": {},
   "outputs": [
    {
     "data": {
      "text/plain": [
       "array([ 11.,   1., -14.])"
      ]
     },
     "execution_count": 193,
     "metadata": {},
     "output_type": "execute_result"
    }
   ],
   "source": [
    "yvalue=vecs.T[2][1]\n",
    "vecs.T[2]/yvalue"
   ]
  },
  {
   "cell_type": "code",
   "execution_count": 173,
   "metadata": {},
   "outputs": [
    {
     "data": {
      "text/plain": [
       "array([-1.        ,  1.        , -1.35980021])"
      ]
     },
     "execution_count": 173,
     "metadata": {},
     "output_type": "execute_result"
    }
   ],
   "source": [
    "vecs[2]/vecs[2][1]"
   ]
  },
  {
   "cell_type": "code",
   "execution_count": 176,
   "metadata": {},
   "outputs": [
    {
     "data": {
      "text/plain": [
       "array([ 1.        ,  1.        , -1.06841445])"
      ]
     },
     "execution_count": 176,
     "metadata": {},
     "output_type": "execute_result"
    }
   ],
   "source": [
    "vecs[0]/vecs[0][1]"
   ]
  },
  {
   "cell_type": "code",
   "execution_count": 177,
   "metadata": {},
   "outputs": [
    {
     "data": {
      "text/plain": [
       "array([-1.        ,  1.        ,  0.09712859])"
      ]
     },
     "execution_count": 177,
     "metadata": {},
     "output_type": "execute_result"
    }
   ],
   "source": [
    "vecs[1]/vecs[1][1]"
   ]
  },
  {
   "cell_type": "code",
   "execution_count": 178,
   "metadata": {},
   "outputs": [],
   "source": [
    "Q=np.array([[4,3],[1,1]]); B=np.array([2,-3])"
   ]
  },
  {
   "cell_type": "code",
   "execution_count": 179,
   "metadata": {},
   "outputs": [
    {
     "data": {
      "text/plain": [
       "array([ 11., -14.])"
      ]
     },
     "execution_count": 179,
     "metadata": {},
     "output_type": "execute_result"
    }
   ],
   "source": [
    "np.linalg.solve(Q,B)"
   ]
  },
  {
   "cell_type": "code",
   "execution_count": 180,
   "metadata": {},
   "outputs": [
    {
     "data": {
      "text/plain": [
       "array([[ 2, -2,  3],\n",
       "       [ 1,  1,  1],\n",
       "       [ 1,  3, -1]])"
      ]
     },
     "execution_count": 180,
     "metadata": {},
     "output_type": "execute_result"
    }
   ],
   "source": []
  },
  {
   "cell_type": "code",
   "execution_count": 181,
   "metadata": {},
   "outputs": [
    {
     "data": {
      "text/plain": [
       "1.2727272727272727"
      ]
     },
     "execution_count": 181,
     "metadata": {},
     "output_type": "execute_result"
    }
   ],
   "source": [
    "14/11"
   ]
  },
  {
   "cell_type": "code",
   "execution_count": 184,
   "metadata": {},
   "outputs": [
    {
     "data": {
      "text/plain": [
       "array([ 0.61684937,  0.05607722, -0.78508102])"
      ]
     },
     "execution_count": 184,
     "metadata": {},
     "output_type": "execute_result"
    }
   ],
   "source": [
    "W=np.array([11,1,-14])\n",
    "np.linalg.norm(W)\n",
    "W/np.linalg.norm(W)"
   ]
  },
  {
   "cell_type": "code",
   "execution_count": 185,
   "metadata": {},
   "outputs": [
    {
     "data": {
      "text/plain": [
       "array([-22,  -2,  28])"
      ]
     },
     "execution_count": 185,
     "metadata": {},
     "output_type": "execute_result"
    }
   ],
   "source": [
    "-2*W"
   ]
  },
  {
   "cell_type": "code",
   "execution_count": 186,
   "metadata": {},
   "outputs": [
    {
     "data": {
      "text/plain": [
       "array([-22,  -2,  28])"
      ]
     },
     "execution_count": 186,
     "metadata": {},
     "output_type": "execute_result"
    }
   ],
   "source": [
    "A.dot(W)"
   ]
  },
  {
   "cell_type": "code",
   "execution_count": 188,
   "metadata": {},
   "outputs": [
    {
     "data": {
      "text/plain": [
       "(array([ 3.,  1., -2.]), array([[ 0.57735027,  0.57735027, -0.61684937],\n",
       "        [ 0.57735027, -0.57735027, -0.05607722],\n",
       "        [ 0.57735027, -0.57735027,  0.78508102]]))"
      ]
     },
     "execution_count": 188,
     "metadata": {},
     "output_type": "execute_result"
    }
   ],
   "source": [
    "np.linalg.eig(A)"
   ]
  },
  {
   "cell_type": "markdown",
   "metadata": {},
   "source": [
    "## Square root of a matrix"
   ]
  },
  {
   "cell_type": "code",
   "execution_count": 207,
   "metadata": {},
   "outputs": [],
   "source": [
    "from scipy.linalg import sqrtm"
   ]
  },
  {
   "cell_type": "code",
   "execution_count": 221,
   "metadata": {},
   "outputs": [
    {
     "name": "stdout",
     "output_type": "stream",
     "text": [
      "[[13  9]\n",
      " [12 16]]\n",
      "[[3.28571429 1.28571429]\n",
      " [1.71428571 3.71428571]]\n"
     ]
    }
   ],
   "source": [
    "W=np.array([[1,3],[4,2]])\n",
    "A=W.dot(W)\n",
    "print(A)\n",
    "print(sqrtm(A))"
   ]
  },
  {
   "cell_type": "markdown",
   "metadata": {},
   "source": [
    "## Singular value decomposition"
   ]
  },
  {
   "cell_type": "code",
   "execution_count": 228,
   "metadata": {},
   "outputs": [
    {
     "name": "stdout",
     "output_type": "stream",
     "text": [
      "M=\n",
      "[[ 1  2  3  4]\n",
      " [ 5  6  7  8]\n",
      " [ 9 10 11 12]\n",
      " [13 14 15 16]]\n"
     ]
    }
   ],
   "source": [
    "M=np.array([[1,2,3,4],[5,6,7,8],[9,10,11,12], [13,14,15,16]])\n",
    "print(\"M=\")\n",
    "print(M)\n",
    "U,S,V=np.linalg.svd(M)"
   ]
  },
  {
   "cell_type": "code",
   "execution_count": 236,
   "metadata": {},
   "outputs": [
    {
     "name": "stdout",
     "output_type": "stream",
     "text": [
      "U=\n",
      "[[-0.13472212 -0.82574206  0.38124745 -0.39325613]\n",
      " [-0.3407577  -0.4288172  -0.21521411  0.80850658]\n",
      " [-0.54679327 -0.03189234 -0.71331411 -0.43724476]\n",
      " [-0.75282884  0.36503251  0.54728078  0.02199431]]\n",
      "S=\n",
      "[3.86226568e+01 2.07132307e+00 7.60977226e-16 3.86063773e-16]\n",
      "V Transpose=\n",
      "[[-0.4284124  -0.47437252 -0.52033264 -0.56629275]\n",
      " [ 0.71865348  0.27380781 -0.17103786 -0.61588352]\n",
      " [ 0.28255951 -0.72647617  0.6052738  -0.16135714]\n",
      " [-0.46921223  0.41500889  0.57761893 -0.52341558]]\n"
     ]
    }
   ],
   "source": [
    "print(\"U=\")\n",
    "print(U)\n",
    "print(\"S=\")\n",
    "print(S)\n",
    "print(\"V Transpose=\")\n",
    "print(V)"
   ]
  },
  {
   "cell_type": "code",
   "execution_count": 239,
   "metadata": {},
   "outputs": [
    {
     "data": {
      "text/plain": [
       "array([[ 1.,  2.,  3.,  4.],\n",
       "       [ 5.,  6.,  7.,  8.],\n",
       "       [ 9., 10., 11., 12.],\n",
       "       [13., 14., 15., 16.]])"
      ]
     },
     "execution_count": 239,
     "metadata": {},
     "output_type": "execute_result"
    }
   ],
   "source": [
    "U.dot(np.diag(S).dot(V))"
   ]
  },
  {
   "cell_type": "markdown",
   "metadata": {},
   "source": [
    "## Ellipse"
   ]
  },
  {
   "cell_type": "code",
   "execution_count": 312,
   "metadata": {},
   "outputs": [],
   "source": [
    "import matplotlib.pyplot as plt\n",
    "%matplotlib inline\n",
    "from math import cos,sin\n",
    "import matplotlib as mpl"
   ]
  },
  {
   "cell_type": "code",
   "execution_count": 275,
   "metadata": {},
   "outputs": [
    {
     "name": "stdout",
     "output_type": "stream",
     "text": [
      "[2. 4.]\n",
      "[[1. 0.]\n",
      " [0. 1.]]\n"
     ]
    }
   ],
   "source": [
    "A=np.array([[3,1],[1,3]])\n",
    "vals,vecs=np.linalg.eig(A)\n",
    "v1,v2=vals\n",
    "eigenvecs=vecs.T\n",
    "B=np.array([[2,0],[0,4]])\n",
    "bvals,bvecs=np.linalg.eig(B)\n",
    "print(bvals)\n",
    "print(bvecs)"
   ]
  },
  {
   "cell_type": "code",
   "execution_count": 276,
   "metadata": {},
   "outputs": [],
   "source": [
    "def f(theta,evecs,evals):\n",
    "    c=cos(theta); s=sin(theta)\n",
    "    a=1/evals[0]**.5; b=1/evals[1]**.5\n",
    "    x=a*cos(theta); y = b*sin(theta)\n",
    "    v=np.array([x,y])\n",
    "    p,q=evecs.dot(v)\n",
    "    return(p,q)"
   ]
  },
  {
   "cell_type": "code",
   "execution_count": 277,
   "metadata": {},
   "outputs": [
    {
     "data": {
      "text/plain": [
       "(0.35355339059327373, -0.35355339059327373)"
      ]
     },
     "execution_count": 277,
     "metadata": {},
     "output_type": "execute_result"
    }
   ],
   "source": [
    "f(0,eigenvecs,vals)"
   ]
  },
  {
   "cell_type": "code",
   "execution_count": 286,
   "metadata": {},
   "outputs": [],
   "source": [
    "t=np.linspace(0,2*pi,100)\n",
    "pq=[f(tval,eigenvecs,vals) for tval in t]\n",
    "x,y=zip(*pq)\n",
    "pq=[f(tval,bvecs,bvals) for tval in t]\n",
    "bx,by=zip(*pq)\n"
   ]
  },
  {
   "cell_type": "code",
   "execution_count": 283,
   "metadata": {},
   "outputs": [],
   "source": []
  },
  {
   "cell_type": "code",
   "execution_count": 334,
   "metadata": {},
   "outputs": [
    {
     "data": {
      "image/png": "[encoded data removed]",
      "text/plain": [
       "<Figure size 504x504 with 1 Axes>"
      ]
     },
     "metadata": {
      "needs_background": "light"
     },
     "output_type": "display_data"
    }
   ],
   "source": [
    "plt.plot(bx,by, ls=\"--\",c=\"k\",label=\"Original Ellipse\")\n",
    "plt.plot(x,y,c=\"k\",label=\"Rotated Ellipse\")\n",
    "plt.legend(fontsize=12,loc=\"lower right\")\n",
    "plt.xlim(-1,1)\n",
    "plt.ylim(-1,1)\n",
    "plt.arrow(0,0,eigenvecs[0][0],eigenvecs[0][1],head_width=.1,\n",
    "         color=\"k\" ,length_includes_head=True)\n",
    "plt.arrow(0,0,eigenvecs[1][0],eigenvecs[1][1],head_width=.1,\n",
    "         color=\"k\" ,length_includes_head=True)\n",
    "plt.xticks([-1,-.75,-.5,-.25, .25,.5,.75,1])\n",
    "plt.yticks([-1,-.75,-.5,-.25,.25,.5,.75,1])\n",
    "\n",
    "fig=plt.gcf()\n",
    "fig.set_size_inches(7,7)\n",
    "ax=plt.gca()\n",
    "#mpl.rcParams[\"figure.frameon\"]=True\n",
    "ax.tick_params(axis = 'both', which = 'major', labelsize = 12)\n",
    "ax.tick_params(axis = 'both', which = 'minor', labelsize = 12)\n",
    "\n",
    "ax.spines[\"right\"].set_visible(False)\n",
    "ax.spines[\"top\"].set_visible(False)\n",
    "\n",
    "ax.spines['bottom'].set_position('zero')\n",
    "ax.spines['left'].set_position('zero')\n",
    "fig.savefig(\"Rotated-Ellipse.pdf\")"
   ]
  },
  {
   "cell_type": "code",
   "execution_count": null,
   "metadata": {},
   "outputs": [],
   "source": []
  }
 ],
 "metadata": {
  "kernelspec": {
   "display_name": "Python 3",
   "language": "python",
   "name": "python3"
  },
  "language_info": {
   "codemirror_mode": {
    "name": "ipython",
    "version": 3
   },
   "file_extension": ".py",
   "mimetype": "text/x-python",
   "name": "python",
   "nbconvert_exporter": "python",
   "pygments_lexer": "ipython3",
   "version": "3.6.7"
  }
 },
 "nbformat": 4,
 "nbformat_minor": 2
}
