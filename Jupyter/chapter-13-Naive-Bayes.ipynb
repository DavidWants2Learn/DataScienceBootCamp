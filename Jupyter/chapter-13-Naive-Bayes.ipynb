{
 "cells": [
  {
   "cell_type": "markdown",
   "metadata": {},
   "source": [
    "# Getting Started in Machine Learning\n",
    "### Chapter 13: Naive Bayes\n",
    "This notebook contains examples from the book:\n",
    "\n",
    "Getting Started in Machine Learning: Easy Recipes for Python 3, Scikit-Learn, Jupyter (2019) by Bella Romeo, Sherwood Forest Books, Los Angeles, CA, USA, ISBN-13: 978-0-9966860-6-8\n",
    "\n",
    "(c) Copyright 2019."
   ]
  },
  {
   "cell_type": "markdown",
   "metadata": {},
   "source": [
    "<font style=\"font-size:xx-small; font-family:courier;\">\n",
    "\n",
    "    This notebook is free software: you can redistribute it and/or modify\n",
    "    it under the terms of the GNU General Public License as published by\n",
    "    the Free Software Foundation, either version 3 of the License, or\n",
    "    (at your option) any later version.\n",
    "\n",
    "    This program is distributed in the hope that it will be useful,\n",
    "    but WITHOUT ANY WARRANTY; without even the implied warranty of\n",
    "    MERCHANTABILITY or FITNESS FOR A PARTICULAR PURPOSE.  See the\n",
    "    GNU General Public License for more details.\n",
    "\n",
    "    You should have received a copy of the GNU General Public License\n",
    "    along with this program. If not, see <https://www.gnu.org/licenses/>."
   ]
  },
  {
   "cell_type": "code",
   "execution_count": 1,
   "metadata": {},
   "outputs": [],
   "source": [
    "import pandas as pd\n",
    "import matplotlib.pyplot as plt\n",
    "%matplotlib inline\n",
    "import numpy as np"
   ]
  },
  {
   "cell_type": "code",
   "execution_count": 2,
   "metadata": {},
   "outputs": [
    {
     "data": {
      "text/html": [
       "<div>\n",
       "<style scoped>\n",
       "    .dataframe tbody tr th:only-of-type {\n",
       "        vertical-align: middle;\n",
       "    }\n",
       "\n",
       "    .dataframe tbody tr th {\n",
       "        vertical-align: top;\n",
       "    }\n",
       "\n",
       "    .dataframe thead th {\n",
       "        text-align: right;\n",
       "    }\n",
       "</style>\n",
       "<table border=\"1\" class=\"dataframe\">\n",
       "  <thead>\n",
       "    <tr style=\"text-align: right;\">\n",
       "      <th></th>\n",
       "      <th>mpg</th>\n",
       "      <th>cyl</th>\n",
       "      <th>displ</th>\n",
       "      <th>hp</th>\n",
       "      <th>weight</th>\n",
       "      <th>accel</th>\n",
       "      <th>model</th>\n",
       "      <th>origin</th>\n",
       "      <th>carname</th>\n",
       "    </tr>\n",
       "  </thead>\n",
       "  <tbody>\n",
       "    <tr>\n",
       "      <th>0</th>\n",
       "      <td>18.0</td>\n",
       "      <td>8</td>\n",
       "      <td>307.0</td>\n",
       "      <td>130.0</td>\n",
       "      <td>3504.0</td>\n",
       "      <td>12.0</td>\n",
       "      <td>70</td>\n",
       "      <td>1</td>\n",
       "      <td>\"chevrolet chevelle malibu\"</td>\n",
       "    </tr>\n",
       "    <tr>\n",
       "      <th>1</th>\n",
       "      <td>15.0</td>\n",
       "      <td>8</td>\n",
       "      <td>350.0</td>\n",
       "      <td>165.0</td>\n",
       "      <td>3693.0</td>\n",
       "      <td>11.5</td>\n",
       "      <td>70</td>\n",
       "      <td>1</td>\n",
       "      <td>\"buick skylark 320\"</td>\n",
       "    </tr>\n",
       "    <tr>\n",
       "      <th>2</th>\n",
       "      <td>18.0</td>\n",
       "      <td>8</td>\n",
       "      <td>318.0</td>\n",
       "      <td>150.0</td>\n",
       "      <td>3436.0</td>\n",
       "      <td>11.0</td>\n",
       "      <td>70</td>\n",
       "      <td>1</td>\n",
       "      <td>\"plymouth satellite\"</td>\n",
       "    </tr>\n",
       "  </tbody>\n",
       "</table>\n",
       "</div>"
      ],
      "text/plain": [
       "    mpg  cyl  displ     hp  weight  accel  model  origin  \\\n",
       "0  18.0    8  307.0  130.0  3504.0   12.0     70       1   \n",
       "1  15.0    8  350.0  165.0  3693.0   11.5     70       1   \n",
       "2  18.0    8  318.0  150.0  3436.0   11.0     70       1   \n",
       "\n",
       "                       carname  \n",
       "0  \"chevrolet chevelle malibu\"  \n",
       "1          \"buick skylark 320\"  \n",
       "2         \"plymouth satellite\"  "
      ]
     },
     "execution_count": 2,
     "metadata": {},
     "output_type": "execute_result"
    }
   ],
   "source": [
    "data=pd.read_fwf(\"https://archive.ics.uci.edu/ml/machine-learning-databases/auto-mpg/auto-mpg.data\",\n",
    "           header=None,na_values=\"?\")\n",
    "data.columns=(\"mpg\",\"cyl\",\"displ\",\"hp\",\"weight\",\"accel\",\"model\",\"origin\",\"carname\")\n",
    "data = data.dropna(axis=0)\n",
    "data[:3]"
   ]
  },
  {
   "cell_type": "code",
   "execution_count": 3,
   "metadata": {},
   "outputs": [
    {
     "data": {
      "text/plain": [
       "array([[ 8. , 18. , 12. ],\n",
       "       [ 8. , 15. , 11.5],\n",
       "       [ 8. , 18. , 11. ]])"
      ]
     },
     "execution_count": 3,
     "metadata": {},
     "output_type": "execute_result"
    }
   ],
   "source": [
    "cardata=np.array(data[[\"cyl\",\"mpg\",\"accel\"]])\n",
    "cardata[:3]"
   ]
  },
  {
   "cell_type": "code",
   "execution_count": 4,
   "metadata": {},
   "outputs": [
    {
     "data": {
      "text/plain": [
       "(385, 392)"
      ]
     },
     "execution_count": 4,
     "metadata": {},
     "output_type": "execute_result"
    }
   ],
   "source": [
    "cars=np.array([line for line in cardata if line[0] in [4,6,8]])\n",
    "len(cars),len(cardata)"
   ]
  },
  {
   "cell_type": "code",
   "execution_count": 5,
   "metadata": {},
   "outputs": [
    {
     "name": "stdout",
     "output_type": "stream",
     "text": [
      "[4. 6. 8.]\n"
     ]
    }
   ],
   "source": [
    "cylinders=np.unique(cars[:,0])\n",
    "print(cylinders)\n",
    "Y=np.array([float(cylinders.tolist().index(j)) for j in cars[:,0]])"
   ]
  },
  {
   "cell_type": "code",
   "execution_count": 6,
   "metadata": {},
   "outputs": [],
   "source": [
    "#Y=cars[:,0]/2-2\n",
    "X=cars[:,1:]"
   ]
  },
  {
   "cell_type": "code",
   "execution_count": 7,
   "metadata": {},
   "outputs": [
    {
     "data": {
      "image/png": "[encoded data removed]",
      "text/plain": [
       "<Figure size 432x432 with 1 Axes>"
      ]
     },
     "metadata": {
      "needs_background": "light"
     },
     "output_type": "display_data"
    }
   ],
   "source": [
    "colors=[\"red\", \"green\",\"blue\"]\n",
    "markers=[\"$4$\",\"$6$\",\"$8$\"]\n",
    "nclasses=3\n",
    "for i in range(nclasses):\n",
    "    x,y=zip(*X[Y==i])\n",
    "    plt.scatter(x,y,marker=markers[i],color=colors[i],s=100)\n",
    "\n",
    "plt.xlabel(\"MPG\",fontsize=14)\n",
    "plt.ylabel(\"Acceleration\",fontsize=14)\n",
    "plt.ylim([7.5,25])\n",
    "plt.grid()\n",
    "fig=plt.gcf()\n",
    "fig.tight_layout()\n",
    "fig.set_size_inches(6,6)"
   ]
  },
  {
   "cell_type": "code",
   "execution_count": 8,
   "metadata": {},
   "outputs": [],
   "source": [
    "from sklearn.naive_bayes import GaussianNB\n",
    "from sklearn.model_selection import train_test_split\n",
    "from sklearn.metrics import accuracy_score,confusion_matrix"
   ]
  },
  {
   "cell_type": "markdown",
   "metadata": {},
   "source": [
    "## Single Train/Test Split - Naive Bayes"
   ]
  },
  {
   "cell_type": "code",
   "execution_count": 9,
   "metadata": {},
   "outputs": [],
   "source": [
    "gnb=GaussianNB()\n",
    "XTRAIN, XTEST, YTRAIN, YTEST=train_test_split(X,Y)\n",
    "gnb.fit(XTRAIN,YTRAIN)\n",
    "YP=gnb.predict(XTEST)"
   ]
  },
  {
   "cell_type": "code",
   "execution_count": 10,
   "metadata": {},
   "outputs": [
    {
     "name": "stdout",
     "output_type": "stream",
     "text": [
      "[[43  3  0]\n",
      " [ 8 15  3]\n",
      " [ 1  0 24]]\n",
      "error = 0.154639\n"
     ]
    }
   ],
   "source": [
    "print(confusion_matrix(YTEST,YP))\n",
    "err = 1-accuracy_score(YTEST,YP)\n",
    "print(\"error = %7.6f\" %err)"
   ]
  },
  {
   "cell_type": "markdown",
   "metadata": {},
   "source": [
    "## Repeat  Naive Bayes with 100 splits"
   ]
  },
  {
   "cell_type": "code",
   "execution_count": 11,
   "metadata": {},
   "outputs": [
    {
     "name": "stdout",
     "output_type": "stream",
     "text": [
      "100 Splits: Mean Error=0.127320 +/- 0.055951 (95%)\n",
      "[[50  2  0]\n",
      " [ 3 16  0]\n",
      " [ 1  0 25]]\n"
     ]
    }
   ],
   "source": [
    "errs=[]\n",
    "nsplits = 100\n",
    "for split in range(nsplits):\n",
    "    XTRAIN, XTEST, YTRAIN, YTEST=train_test_split(X,Y,test_size=.25)\n",
    "    gnb.fit(XTRAIN,YTRAIN)\n",
    "    YP=gnb.predict(XTEST)\n",
    "    errs.append(1-accuracy_score(YTEST,YP))\n",
    "print(\"%d Splits: Mean Error=%7.6f +/- %7.6f (95%%)\"\\\n",
    "      %(nsplits, np.mean(errs),1.96*np.std(errs)))\n",
    "print(confusion_matrix(YTEST,YP))"
   ]
  },
  {
   "cell_type": "code",
   "execution_count": 12,
   "metadata": {},
   "outputs": [
    {
     "data": {
      "text/plain": [
       "(0.07136815263472006, 0.18327102262301181)"
      ]
     },
     "execution_count": 12,
     "metadata": {},
     "output_type": "execute_result"
    }
   ],
   "source": [
    "np.mean(errs)-1.96*np.std(errs), np.mean(errs)+1.96*np.std(errs)"
   ]
  },
  {
   "cell_type": "code",
   "execution_count": 13,
   "metadata": {},
   "outputs": [
    {
     "data": {
      "text/plain": [
       "array([2.45939109, 3.46390269])"
      ]
     },
     "execution_count": 13,
     "metadata": {},
     "output_type": "execute_result"
    }
   ],
   "source": [
    "from scipy.stats import kurtosis\n",
    "kurtosis(X, fisher=False)"
   ]
  },
  {
   "cell_type": "code",
   "execution_count": 14,
   "metadata": {},
   "outputs": [],
   "source": [
    "def visualize_clasifier_contours(clf,X,Y,DX,DY,thelevels,colors,markers,xlab=\"X\",\n",
    "                                ylab=\"Y\", filename='classifier-figure.pdf'):\n",
    "    xinterval = X[:, 0].min() - 1, X[:, 0].max() + 1\n",
    "    yinterval = X[:, 1].min() - 1, X[:, 1].max() + 1\n",
    "    xx, yy = np.meshgrid(np.arange(*xinterval, DX),\n",
    "                         np.arange(*yinterval, DY))\n",
    "    \n",
    "    Z = clf.predict(np.c_[xx.ravel(), yy.ravel()])\n",
    "    Z = Z.reshape(xx.shape)\n",
    "    \n",
    "    c=plt.contour(xx, yy, Z, alpha=1,levels=thelevels,linewidths=2,colors=\"k\")\n",
    "    c=plt.contourf(xx, yy, Z, alpha=.1)\n",
    "\n",
    "  \n",
    "    nclasses=len(colors)\n",
    "    for i in range(nclasses):\n",
    "        x,y=zip(*X[Y==i])\n",
    "        plt.scatter(x,y,marker=markers[i],color=colors[i],s=100)\n",
    "\n",
    "\n",
    "    plt.xlabel(xlab,fontsize=14)\n",
    "    plt.ylabel(ylab,fontsize=14)\n",
    "    plt.grid()\n",
    "    fig=plt.gcf()\n",
    "    fig.tight_layout()\n",
    "    fig.set_size_inches(6,6)\n",
    "    fig.savefig(filename)"
   ]
  },
  {
   "cell_type": "code",
   "execution_count": 15,
   "metadata": {
    "scrolled": false
   },
   "outputs": [
    {
     "data": {
      "image/png": "[encoded data removed]",
      "text/plain": [
       "<Figure size 432x432 with 1 Axes>"
      ]
     },
     "metadata": {
      "needs_background": "light"
     },
     "output_type": "display_data"
    }
   ],
   "source": [
    "colors=[\"red\", \"green\",\"blue\"]\n",
    "markers=[\"$4$\",\"$6$\",\"$8$\"]\n",
    "visualize_clasifier_contours(gnb,X,Y,.1,.1, [0.5,1.5],colors,markers,\"MPG\",\"Acceleration\")"
   ]
  },
  {
   "cell_type": "code",
   "execution_count": 16,
   "metadata": {},
   "outputs": [
    {
     "data": {
      "text/plain": [
       "array([[1.        , 0.41933704],\n",
       "       [0.41933704, 1.        ]])"
      ]
     },
     "execution_count": 16,
     "metadata": {},
     "output_type": "execute_result"
    }
   ],
   "source": [
    "np.corrcoef(X,rowvar=False)"
   ]
  },
  {
   "cell_type": "markdown",
   "metadata": {},
   "source": [
    "## Add more features"
   ]
  },
  {
   "cell_type": "code",
   "execution_count": 17,
   "metadata": {},
   "outputs": [],
   "source": [
    "X=np.array(data[[\"mpg\",\"displ\",\"hp\",\"accel\"]])"
   ]
  },
  {
   "cell_type": "markdown",
   "metadata": {},
   "source": [
    "### Make Y a list of 0,1,2,3,4 represent 3,4,5,6, or 8 cylinders"
   ]
  },
  {
   "cell_type": "code",
   "execution_count": 18,
   "metadata": {},
   "outputs": [
    {
     "name": "stdout",
     "output_type": "stream",
     "text": [
      "[3, 4, 5, 6, 8]\n"
     ]
    }
   ],
   "source": [
    "Y=np.array(data[\"cyl\"])\n",
    "unis=np.unique(Y).tolist()\n",
    "print(unis)\n",
    "Y=np.array([unis.index(j) for j in Y])"
   ]
  },
  {
   "cell_type": "code",
   "execution_count": 19,
   "metadata": {
    "scrolled": false
   },
   "outputs": [
    {
     "name": "stdout",
     "output_type": "stream",
     "text": [
      "100 Splits: Mean Error=0.042245 +/- 0.033707 (95%)\n",
      "Last confusion matrix:\n",
      "[[ 0  0  0  0  0]\n",
      " [ 3 51  1  1  0]\n",
      " [ 0  0  0  0  0]\n",
      " [ 0  0  0 19  2]\n",
      " [ 0  0  0  0 21]]\n"
     ]
    }
   ],
   "source": [
    "errs=[]\n",
    "for j in range(100):\n",
    "    XTRAIN,XTEST,YTRAIN,YTEST=train_test_split(X,Y)\n",
    "    gnb=GaussianNB()\n",
    "    gnb.fit(XTRAIN,YTRAIN)\n",
    "    YP=gnb.predict(XTEST)\n",
    "    errs.append(1-accuracy_score(YP,YTEST))\n",
    "#np.mean(accs),np.std(accs)\n",
    "print(\"%d Splits: Mean Error=%7.6f +/- %7.6f (95%%)\"\\\n",
    "      %(nsplits, np.mean(errs),1.96*np.std(errs)))\n",
    "print(\"Last confusion matrix:\")\n",
    "print(confusion_matrix(YP, YTEST))"
   ]
  },
  {
   "cell_type": "markdown",
   "metadata": {},
   "source": [
    "# Does adding origin help?"
   ]
  },
  {
   "cell_type": "markdown",
   "metadata": {},
   "source": [
    "## Repeat, including Origin as a feature - encode using 1-Hot encoding\n",
    "\n",
    "1. 1 = American\n",
    "2. 2 = European\n",
    "3. 3 = Asian"
   ]
  },
  {
   "cell_type": "code",
   "execution_count": 27,
   "metadata": {},
   "outputs": [],
   "source": [
    "from sklearn.preprocessing import LabelBinarizer"
   ]
  },
  {
   "cell_type": "code",
   "execution_count": 34,
   "metadata": {},
   "outputs": [],
   "source": [
    "LB=LabelBinarizer()\n",
    "origin=data[[\"origin\"]]\n",
    "origin=LB.fit(origin).fit_transform(origin)"
   ]
  },
  {
   "cell_type": "code",
   "execution_count": 35,
   "metadata": {},
   "outputs": [
    {
     "name": "stdout",
     "output_type": "stream",
     "text": [
      "(392, 7)\n"
     ]
    },
    {
     "data": {
      "text/plain": [
       "array([[ 18., 307., 130., ...,   1.,   0.,   0.],\n",
       "       [ 15., 350., 165., ...,   1.,   0.,   0.],\n",
       "       [ 18., 318., 150., ...,   1.,   0.,   0.],\n",
       "       ...,\n",
       "       [ 32., 135.,  84., ...,   1.,   0.,   0.],\n",
       "       [ 28., 120.,  79., ...,   1.,   0.,   0.],\n",
       "       [ 31., 119.,  82., ...,   1.,   0.,   0.]])"
      ]
     },
     "execution_count": 35,
     "metadata": {},
     "output_type": "execute_result"
    }
   ],
   "source": [
    "X=np.array(data[[\"mpg\",\"displ\",\"hp\",\"accel\"]])\n",
    "X=np.hstack((X,origin))\n",
    "print(X.shape)\n",
    "X"
   ]
  },
  {
   "cell_type": "markdown",
   "metadata": {},
   "source": [
    "### Make Y a list of 0,1,2,3,4 represent 3,4,5,6, or 8 cylinders"
   ]
  },
  {
   "cell_type": "code",
   "execution_count": 36,
   "metadata": {},
   "outputs": [
    {
     "name": "stdout",
     "output_type": "stream",
     "text": [
      "[3, 4, 5, 6, 8]\n"
     ]
    }
   ],
   "source": [
    "Y=np.array(data[\"cyl\"])\n",
    "unis=np.unique(Y).tolist()\n",
    "print(unis)\n",
    "Y=np.array([unis.index(j) for j in Y])"
   ]
  },
  {
   "cell_type": "code",
   "execution_count": 37,
   "metadata": {
    "scrolled": true
   },
   "outputs": [
    {
     "name": "stdout",
     "output_type": "stream",
     "text": [
      "100 Splits: Mean Error=0.340510 +/- 0.147855 (95%)\n",
      "Last confusion matrix:\n",
      "[[ 1  0  0  0  0]\n",
      " [ 1 22  1  2  0]\n",
      " [ 0 10  0  1  0]\n",
      " [ 0  3  0  4  1]\n",
      " [ 0  0  0 17 35]]\n"
     ]
    }
   ],
   "source": [
    "errs=[]\n",
    "for j in range(100):\n",
    "    gnb=GaussianNB()\n",
    "    XTRAIN, XTEST, YTRAIN, YTEST=train_test_split(X,Y)\n",
    "    gnb.fit(XTRAIN,YTRAIN)\n",
    "    YP=gnb.predict(XTEST)\n",
    "    errs.append(1-accuracy_score(YTEST,YP))\n",
    "print(\"%d Splits: Mean Error=%7.6f +/- %7.6f (95%%)\"\\\n",
    "      %(nsplits, np.mean(errs),1.96*np.std(errs)))\n",
    "print(\"Last confusion matrix:\")\n",
    "print(confusion_matrix(YP,YTEST))"
   ]
  },
  {
   "cell_type": "markdown",
   "metadata": {},
   "source": [
    "## This seemed to make it worse! \n",
    "\n",
    "## Let's do an Independent Component Analysis"
   ]
  },
  {
   "cell_type": "code",
   "execution_count": 24,
   "metadata": {},
   "outputs": [],
   "source": [
    "from sklearn.decomposition import FastICA"
   ]
  },
  {
   "cell_type": "markdown",
   "metadata": {},
   "source": [
    "Single run example"
   ]
  },
  {
   "cell_type": "code",
   "execution_count": 25,
   "metadata": {},
   "outputs": [
    {
     "name": "stdout",
     "output_type": "stream",
     "text": [
      "0.09183673469387754\n",
      "[[49  1  4  0]\n",
      " [ 0  0  0  0]\n",
      " [ 2  1 21  1]\n",
      " [ 0  0  0 19]]\n"
     ]
    }
   ],
   "source": [
    "ICA=FastICA(n_components=2)\n",
    "ICA.fit(X)\n",
    "F=ICA.transform(X)\n",
    "gnb=GaussianNB()\n",
    "XTRAIN, XTEST, YTRAIN, YTEST=train_test_split(F,Y)\n",
    "gnb.fit(XTRAIN,YTRAIN)\n",
    "YP=gnb.predict(XTEST)\n",
    "print(1-accuracy_score(YP,YTEST))\n",
    "print(confusion_matrix(YP,YTEST))\n"
   ]
  },
  {
   "cell_type": "markdown",
   "metadata": {},
   "source": [
    "cycle through multiple components and multiple runs"
   ]
  },
  {
   "cell_type": "code",
   "execution_count": 26,
   "metadata": {},
   "outputs": [
    {
     "name": "stdout",
     "output_type": "stream",
     "text": [
      "100 Splits, 2 Components: Mean Error=0.087551 +/- 0.045182 (95%)\n",
      "100 Splits, 3 Components: Mean Error=0.115918 +/- 0.058619 (95%)\n",
      "100 Splits, 4 Components: Mean Error=0.109592 +/- 0.055686 (95%)\n",
      "100 Splits, 5 Components: Mean Error=0.113571 +/- 0.060243 (95%)\n",
      "100 Splits, 6 Components: Mean Error=0.131327 +/- 0.061881 (95%)\n",
      "100 Splits, 7 Components: Mean Error=0.146122 +/- 0.096078 (95%)\n"
     ]
    }
   ],
   "source": [
    "nsplits=100\n",
    "for ncomp in range(2,8):\n",
    "    ICA=FastICA(n_components=ncomp)\n",
    "    ICA.fit(X)\n",
    "    F=ICA.transform(X)\n",
    "    errs=[]\n",
    "    for j in range(nsplits):\n",
    "        gnb=GaussianNB()\n",
    "        XTRAIN, XTEST, YTRAIN, YTEST=train_test_split(F,Y)\n",
    "        gnb.fit(XTRAIN,YTRAIN)\n",
    "        YP=gnb.predict(XTEST)\n",
    "        errs.append(1-accuracy_score(YTEST,YP))\n",
    "    print(\"%d Splits, %d Components: Mean Error=%7.6f +/- %7.6f (95%%)\"\\\n",
    "      %(nsplits,ncomp, np.mean(errs),1.96*np.std(errs)))\n"
   ]
  },
  {
   "cell_type": "markdown",
   "metadata": {},
   "source": [
    "## A gaussian distribution has a Pearson kurtosis of 3 (fisher=False)"
   ]
  },
  {
   "cell_type": "code",
   "execution_count": 27,
   "metadata": {},
   "outputs": [
    {
     "data": {
      "text/plain": [
       "array([2.47529742, 2.21630802, 3.67282189, 3.42332033, 1.26666667,\n",
       "       3.97458243, 3.21442148])"
      ]
     },
     "execution_count": 27,
     "metadata": {},
     "output_type": "execute_result"
    }
   ],
   "source": [
    "from scipy.stats import kurtosis\n",
    "kurtosis(X, fisher=False)"
   ]
  },
  {
   "cell_type": "markdown",
   "metadata": {},
   "source": [
    "## Covariance"
   ]
  },
  {
   "cell_type": "code",
   "execution_count": 28,
   "metadata": {},
   "outputs": [
    {
     "data": {
      "text/plain": [
       "array([[ 1.   , -0.805, -0.778,  0.423, -0.565,  0.244,  0.451],\n",
       "       [-0.805,  1.   ,  0.897, -0.544,  0.656, -0.372, -0.441],\n",
       "       [-0.778,  0.897,  1.   , -0.689,  0.49 , -0.285, -0.322],\n",
       "       [ 0.423, -0.544, -0.689,  1.   , -0.258,  0.208,  0.115],\n",
       "       [-0.565,  0.656,  0.49 , -0.258,  1.   , -0.591, -0.649],\n",
       "       [ 0.244, -0.372, -0.285,  0.208, -0.591,  1.   , -0.23 ],\n",
       "       [ 0.451, -0.441, -0.322,  0.115, -0.649, -0.23 ,  1.   ]])"
      ]
     },
     "execution_count": 28,
     "metadata": {},
     "output_type": "execute_result"
    }
   ],
   "source": [
    "cmat=np.round(np.corrcoef(X,rowvar=False),3)\n",
    "cmat"
   ]
  },
  {
   "cell_type": "code",
   "execution_count": null,
   "metadata": {},
   "outputs": [],
   "source": []
  },
  {
   "cell_type": "code",
   "execution_count": 29,
   "metadata": {
    "scrolled": false
   },
   "outputs": [
    {
     "data": {
      "image/png": "[encoded data removed]",
      "text/plain": [
       "<Figure size 432x432 with 2 Axes>"
      ]
     },
     "metadata": {
      "needs_background": "light"
     },
     "output_type": "display_data"
    }
   ],
   "source": [
    "from mpl_toolkits.axes_grid1 import make_axes_locatable\n",
    "\n",
    "plt.figure()\n",
    "ax=plt.gca()\n",
    "cm=ax.matshow(abs(cmat),cmap=\"YlOrRd\")\n",
    "divider = make_axes_locatable(ax)\n",
    "cax = divider.append_axes(\"right\", size=\"5%\", pad=0.05)\n",
    "ax.set_xticks(range(7))\n",
    "ax.set_yticks(range(7))\n",
    "ax.set_xticklabels([\"mpg\",\"displ\",\"hp\",\"accel\",\"Amer\",\"Euro\",\"Asia\"])\n",
    "ax.set_yticklabels([\"mpg\",\"displ\",\"hp\",\"accel\",\"Amer\",\"Euro\",\"Asia\"]);\n",
    "\n",
    "plt.colorbar(cm, cax=cax)\n",
    "#plt.colorbar(cm)\n",
    "plt.gcf().set_size_inches(6,6)\n",
    "plt.gcf().tight_layout()\n",
    "plt.gcf().savefig(\"correlation-matrix-mpg-data.pdf\")"
   ]
  },
  {
   "cell_type": "code",
   "execution_count": 30,
   "metadata": {},
   "outputs": [
    {
     "name": "stdout",
     "output_type": "stream",
     "text": [
      "[9.77103869e-01 2.09376473e-02 1.64085614e-03 2.88975479e-04\n",
      " 1.44868553e-05 1.41656401e-05 6.19652520e-37]\n",
      " 0.9771039\n",
      " 0.0209376\n",
      " 0.0016409\n",
      " 0.0002890\n",
      " 0.0000145\n",
      " 0.0000142\n",
      " 0.0000000\n",
      "0.0003176279742696323\n"
     ]
    }
   ],
   "source": [
    "from sklearn.decomposition import PCA\n",
    "pca=PCA(n_components=7)\n",
    "pca.fit(X)\n",
    "print(pca.explained_variance_ratio_)\n",
    "for ratio in pca.explained_variance_ratio_:\n",
    "    print(\"%10.7f\" %ratio)\n",
    "    #P=pca.transform(X)\n",
    "print(sum(pca.explained_variance_ratio_[3:]))"
   ]
  },
  {
   "cell_type": "code",
   "execution_count": 31,
   "metadata": {},
   "outputs": [
    {
     "name": "stdout",
     "output_type": "stream",
     "text": [
      "100 Splits, 2 comp: Mean Error=0.036531 +/- 0.032641 (95%)\n",
      "100 Splits, 3 comp: Mean Error=0.045510 +/- 0.041801 (95%)\n",
      "100 Splits, 4 comp: Mean Error=0.043469 +/- 0.039051 (95%)\n",
      "100 Splits, 5 comp: Mean Error=0.051735 +/- 0.043290 (95%)\n",
      "100 Splits, 6 comp: Mean Error=0.069184 +/- 0.045658 (95%)\n",
      "100 Splits, 7 comp: Mean Error=0.065918 +/- 0.047952 (95%)\n",
      "[9.77103869e-01 2.09376473e-02 1.64085614e-03 2.88975479e-04\n",
      " 1.44868553e-05 1.41656401e-05 6.19652520e-37]\n"
     ]
    }
   ],
   "source": [
    "maxcomp=8\n",
    "\n",
    "for ncomp in range(2,maxcomp):\n",
    "    pca=PCA(n_components=ncomp)\n",
    "    pca.fit(X)\n",
    "    P=pca.transform(X)\n",
    "    n=100; accs=[]\n",
    "    errs=[]\n",
    "    for j in range(n):\n",
    "        gnb=GaussianNB()\n",
    "        PTRAIN, PTEST, YTRAIN, YTEST=train_test_split(P,Y)\n",
    "        gnb.fit(PTRAIN,YTRAIN)\n",
    "        YP=gnb.predict(PTEST)\n",
    "        errs.append(1-accuracy_score(YP,YTEST))\n",
    "    print(\"%d Splits, %d comp: Mean Error=%7.6f +/- %7.6f (95%%)\"\\\n",
    "      %(n, ncomp, np.mean(errs),1.96*np.std(errs)))\n",
    "print(pca.explained_variance_ratio_)\n"
   ]
  },
  {
   "cell_type": "code",
   "execution_count": null,
   "metadata": {},
   "outputs": [],
   "source": []
  },
  {
   "cell_type": "code",
   "execution_count": null,
   "metadata": {},
   "outputs": [],
   "source": []
  },
  {
   "cell_type": "code",
   "execution_count": null,
   "metadata": {},
   "outputs": [],
   "source": []
  },
  {
   "cell_type": "markdown",
   "metadata": {},
   "source": [
    "# SOLVE A DIFFERENT PROBLEM\n",
    "\n",
    "## Try to predict origin as a function of mpg, cyl, displ, hp, weight, accel\n",
    "\n",
    "\n",
    "## Will need to encode cyl as a categorical variable"
   ]
  },
  {
   "cell_type": "code",
   "execution_count": 32,
   "metadata": {},
   "outputs": [
    {
     "data": {
      "text/plain": [
       "Index(['mpg', 'cyl', 'displ', 'hp', 'weight', 'accel', 'model', 'origin',\n",
       "       'carname'],\n",
       "      dtype='object')"
      ]
     },
     "execution_count": 32,
     "metadata": {},
     "output_type": "execute_result"
    }
   ],
   "source": [
    "data.columns"
   ]
  },
  {
   "cell_type": "code",
   "execution_count": 33,
   "metadata": {},
   "outputs": [
    {
     "data": {
      "text/plain": [
       "array([3, 4, 5, 6, 8])"
      ]
     },
     "execution_count": 33,
     "metadata": {},
     "output_type": "execute_result"
    }
   ],
   "source": [
    "np.unique(np.array(data[\"cyl\"]))"
   ]
  },
  {
   "cell_type": "markdown",
   "metadata": {},
   "source": [
    "### One-Hot encoding of cylinders and convert to column vectors"
   ]
  },
  {
   "cell_type": "code",
   "execution_count": 34,
   "metadata": {},
   "outputs": [],
   "source": [
    "cyl=np.array(data[\"cyl\"])\n",
    "cyl3=np.array([1 if j==3 else 0 for j in cyl]).reshape(-1,1)\n",
    "cyl4=np.array([1 if j==4 else 0 for j in cyl]).reshape(-1,1)\n",
    "cyl5=np.array([1 if j==5 else 0 for j in cyl]).reshape(-1,1)\n",
    "cyl6=np.array([1 if j==6 else 0 for j in cyl]).reshape(-1,1)\n",
    "cyl8=np.array([1 if j==8 else 0 for j in cyl]).reshape(-1,1)"
   ]
  },
  {
   "cell_type": "markdown",
   "metadata": {},
   "source": [
    "### Extract the numerical features"
   ]
  },
  {
   "cell_type": "code",
   "execution_count": 35,
   "metadata": {},
   "outputs": [
    {
     "data": {
      "text/plain": [
       "array([[  18. ,  307. ,  130. , 3504. ,   12. ],\n",
       "       [  15. ,  350. ,  165. , 3693. ,   11.5],\n",
       "       [  18. ,  318. ,  150. , 3436. ,   11. ],\n",
       "       [  16. ,  304. ,  150. , 3433. ,   12. ],\n",
       "       [  17. ,  302. ,  140. , 3449. ,   10.5],\n",
       "       [  15. ,  429. ,  198. , 4341. ,   10. ],\n",
       "       [  14. ,  454. ,  220. , 4354. ,    9. ],\n",
       "       [  14. ,  440. ,  215. , 4312. ,    8.5],\n",
       "       [  14. ,  455. ,  225. , 4425. ,   10. ],\n",
       "       [  15. ,  390. ,  190. , 3850. ,    8.5]])"
      ]
     },
     "execution_count": 35,
     "metadata": {},
     "output_type": "execute_result"
    }
   ],
   "source": [
    "X=np.array(data[['mpg', 'displ', 'hp', 'weight', 'accel']])\n",
    "X[:10]"
   ]
  },
  {
   "cell_type": "code",
   "execution_count": 36,
   "metadata": {},
   "outputs": [
    {
     "data": {
      "text/plain": [
       "(392, 5)"
      ]
     },
     "execution_count": 36,
     "metadata": {},
     "output_type": "execute_result"
    }
   ],
   "source": [
    "X.shape"
   ]
  },
  {
   "cell_type": "code",
   "execution_count": 37,
   "metadata": {},
   "outputs": [
    {
     "data": {
      "text/plain": [
       "(392, 1)"
      ]
     },
     "execution_count": 37,
     "metadata": {},
     "output_type": "execute_result"
    }
   ],
   "source": [
    "cyl3.shape"
   ]
  },
  {
   "cell_type": "markdown",
   "metadata": {},
   "source": [
    "### Append each cylinder as an additional column to X"
   ]
  },
  {
   "cell_type": "code",
   "execution_count": 38,
   "metadata": {},
   "outputs": [
    {
     "data": {
      "text/plain": [
       "array([[ 18., 307., 130., ...,   0.,   0.,   1.],\n",
       "       [ 15., 350., 165., ...,   0.,   0.,   1.],\n",
       "       [ 18., 318., 150., ...,   0.,   0.,   1.],\n",
       "       ...,\n",
       "       [ 32., 135.,  84., ...,   0.,   0.,   0.],\n",
       "       [ 28., 120.,  79., ...,   0.,   0.,   0.],\n",
       "       [ 31., 119.,  82., ...,   0.,   0.,   0.]])"
      ]
     },
     "execution_count": 38,
     "metadata": {},
     "output_type": "execute_result"
    }
   ],
   "source": [
    "X=np.hstack((X,cyl3,cyl4,cyl5,cyl6,cyl8))\n",
    "X"
   ]
  },
  {
   "cell_type": "markdown",
   "metadata": {},
   "source": [
    "### run naaive Bayes on extended feature matrix that includes 1-hot encoding of number of cylinders"
   ]
  },
  {
   "cell_type": "code",
   "execution_count": 39,
   "metadata": {},
   "outputs": [
    {
     "name": "stdout",
     "output_type": "stream",
     "text": [
      "100 Splits: Mean Error=0.006531 +/- 0.019083 (95%)\n"
     ]
    }
   ],
   "source": [
    "gnb=GaussianNB()\n",
    "errs=[]\n",
    "n=100\n",
    "for j in range(n):\n",
    "    XTRAIN, XTEST, YTRAIN, YTEST=train_test_split(X,Y)\n",
    "    gnb.fit(XTRAIN,YTRAIN)\n",
    "    YP=gnb.predict(XTEST)\n",
    "    errs.append(1-accuracy_score(YTEST,YP))\n",
    "print(\"%d Splits: Mean Error=%7.6f +/- %7.6f (95%%)\"\\\n",
    "      %(n, np.mean(errs),1.96*np.std(errs)))"
   ]
  },
  {
   "cell_type": "markdown",
   "metadata": {},
   "source": [
    "#### Look at typical confusion matrix\n",
    "\n",
    "(last one in the previous iteration)"
   ]
  },
  {
   "cell_type": "code",
   "execution_count": 40,
   "metadata": {},
   "outputs": [
    {
     "name": "stdout",
     "output_type": "stream",
     "text": [
      "[[ 0  1  0  0]\n",
      " [ 0 54  0  0]\n",
      " [ 0  0 18  0]\n",
      " [ 0  0  0 25]]\n"
     ]
    }
   ],
   "source": [
    "print(confusion_matrix(YTEST,YP))"
   ]
  },
  {
   "cell_type": "code",
   "execution_count": null,
   "metadata": {},
   "outputs": [],
   "source": []
  }
 ],
 "metadata": {
  "kernelspec": {
   "display_name": "Python 3",
   "language": "python",
   "name": "python3"
  },
  "language_info": {
   "codemirror_mode": {
    "name": "ipython",
    "version": 3
   },
   "file_extension": ".py",
   "mimetype": "text/x-python",
   "name": "python",
   "nbconvert_exporter": "python",
   "pygments_lexer": "ipython3",
   "version": "3.6.7"
  }
 },
 "nbformat": 4,
 "nbformat_minor": 2
}
