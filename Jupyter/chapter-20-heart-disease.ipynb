{
 "cells": [
  {
   "cell_type": "markdown",
   "metadata": {},
   "source": [
    "# Getting Started in Machine Learning\n",
    "\n",
    "### Chapter 20: Comparing Classification Methods - Heart Disease\n",
    "\n",
    "This notebook contains examples from the book:\n",
    "\n",
    "Getting Started in Machine Learning: Easy Recipes for Python 3, Scikit-Learn, Jupyter (2019) by Bella Romeo, Sherwood Forest Books, Los Angeles, CA, USA, ISBN-13: 978-0-9966860-6-8\n",
    "\n",
    "(c) Copyright 2019."
   ]
  },
  {
   "cell_type": "markdown",
   "metadata": {},
   "source": [
    "<font style=\"font-size:xx-small; font-family:courier;\">\n",
    "\n",
    "    This notebook is free software: you can redistribute it and/or modify\n",
    "    it under the terms of the GNU General Public License as published by\n",
    "    the Free Software Foundation, either version 3 of the License, or\n",
    "    (at your option) any later version.\n",
    "\n",
    "    This program is distributed in the hope that it will be useful,\n",
    "    but WITHOUT ANY WARRANTY; without even the implied warranty of\n",
    "    MERCHANTABILITY or FITNESS FOR A PARTICULAR PURPOSE.  See the\n",
    "    GNU General Public License for more details.\n",
    "\n",
    "    You should have received a copy of the GNU General Public License\n",
    "    along with this program. If not, see <https://www.gnu.org/licenses/>."
   ]
  },
  {
   "cell_type": "code",
   "execution_count": 11,
   "metadata": {},
   "outputs": [],
   "source": [
    "import pandas as pd\n",
    "import numpy as np\n",
    "import matplotlib.pyplot as plt\n",
    "% matplotlib inline"
   ]
  },
  {
   "cell_type": "markdown",
   "metadata": {},
   "source": [
    " Description of Heart Disease Data File     \n",
    "      \n",
    "      \n",
    "      -- 1. #3  (age)       \n",
    "      -- 2. #4  (sex)       1=male, 0 female\n",
    "      -- 3. #9  (cp)    type of chest pain\n",
    "        -- Value 1: typical angina\n",
    "        -- Value 2: atypical angina\n",
    "        -- Value 3: non-anginal pain\n",
    "        -- Value 4: asymptomatic\n",
    "      -- 4. #10 (trestbps)  resting blood pressure\n",
    "      -- 5. #12 (chol)      cholesteral\n",
    "      -- 6. #16 (fbs)       fasting blood sugar\n",
    "      -- 7. #19 (restecg)   restingecg\n",
    "              0 = normal\n",
    "     -- Value 1: having ST-T wave abnormality (T wave inversions and/or ST \n",
    "                    elevation or depression of > 0.05 mV)\n",
    "        -- Value 2: showing probable or definite left ventricular hypertrophy\n",
    "                    by Estes' criteria\n",
    "      -- 8. #32 (thalach)   max elevated heart rate\n",
    "      -- 9. #38 (exang)   exercised induced angina\n",
    "      (1 = yes; 0 = no)\n",
    "      -- 10. #40 (oldpeak)   ST Depression\n",
    "      -- 11. #41 (slope)    the slope of the peak exercise ST segment\n",
    "        -- Value 1: upsloping\n",
    "        -- Value 2: flat\n",
    "        -- Value 3: downsloping  \n",
    "      -- 12. #44 (ca)       number of major vessels (0-3) colored by flourosopy \n",
    "      -- 13. #51 (thal)       3 = normal; 6 = fixed defect; 7 = reversable defect\n",
    "      -- 14. #58 (num) num: diagnosis of heart disease (angiographic disease status)\n",
    "        -- Value 0: < 50% diameter narrowing\n",
    "        -- Value 1: > 50% diameter narrowing"
   ]
  },
  {
   "cell_type": "code",
   "execution_count": 12,
   "metadata": {},
   "outputs": [
    {
     "name": "stdout",
     "output_type": "stream",
     "text": [
      "    age  sex   cp  trestbps   chol  fbs  restecg  thalach  exang  oldpeak  slope   ca  thal  num\n",
      "0  63.0  1.0  1.0     145.0  233.0  1.0      2.0    150.0    0.0      2.3    3.0  0.0   6.0    0\n",
      "1  67.0  1.0  4.0     160.0  286.0  0.0      2.0    108.0    1.0      1.5    2.0  3.0   3.0    2\n",
      "2  67.0  1.0  4.0     120.0  229.0  0.0      2.0    129.0    1.0      2.6    2.0  2.0   7.0    1\n",
      "3  37.0  1.0  3.0     130.0  250.0  0.0      0.0    187.0    0.0      3.5    3.0  0.0   3.0    0\n",
      "4  41.0  0.0  2.0     130.0  204.0  0.0      2.0    172.0    0.0      1.4    1.0  0.0   3.0    0\n"
     ]
    }
   ],
   "source": [
    "DF=pd.read_csv(\n",
    "\"https://archive.ics.uci.edu/ml/machine-learning-databases/heart-disease/processed.cleveland.data\",\n",
    "    header=None,na_values=\"?\")\n",
    "DF=DF.dropna(axis=0)\n",
    "DF.columns=[\"age\",\"sex\",\"cp\",\"trestbps\",\"chol\",\"fbs\",\"restecg\",\"thalach\",\"exang\",\"oldpeak\",\n",
    "           \"slope\",\"ca\",\"thal\",\"num\"]\n",
    "#\n",
    "# Define age, cp, restecg, exang, slope as categorical data\n",
    "#\n",
    "categorical=[\"sex\",\"cp\",\"restecg\",\"exang\",\"slope\"]\n",
    "categorical=[\"sex\",\"cp\",\"fbs\", \"restecg\",\"exang\",\"slope\", \"thal\"]\n",
    "pd.set_option(\"display.width\",100)\n",
    "print(DF[:5])"
   ]
  },
  {
   "cell_type": "markdown",
   "metadata": {},
   "source": [
    "#DF.columns=\"age\",\"sex\",\"cp\",\"trestbps\",\"chol\",\"fbs\",\"restecg\",\"thalach\",\"exang\",\"oldpeak\",\n",
    "         \"slope\",\"ca\",\"thal\",\"num\""
   ]
  },
  {
   "cell_type": "markdown",
   "metadata": {},
   "source": [
    "### Designate Heart Disease Candiates those with non-zero value of num"
   ]
  },
  {
   "cell_type": "code",
   "execution_count": 13,
   "metadata": {},
   "outputs": [
    {
     "data": {
      "text/plain": [
       "(137, 297)"
      ]
     },
     "execution_count": 13,
     "metadata": {},
     "output_type": "execute_result"
    }
   ],
   "source": [
    "num=np.array(DF[\"num\"])\n",
    "Y=np.array([1 if x>0.5 else 0 for x in num])\n",
    "sum(Y), len(Y) # total number of those with heart disease, total number"
   ]
  },
  {
   "cell_type": "markdown",
   "metadata": {},
   "source": [
    "## Create Feature Matrix\n",
    "\n",
    "### encode categorigal variables using 1-hot encoding"
   ]
  },
  {
   "cell_type": "code",
   "execution_count": 14,
   "metadata": {
    "scrolled": true
   },
   "outputs": [
    {
     "name": "stdout",
     "output_type": "stream",
     "text": [
      "(297, 25)\n"
     ]
    },
    {
     "data": {
      "text/plain": [
       "array([[ 63., 145., 233., ...,   0.,   1.,   0.],\n",
       "       [ 67., 160., 286., ...,   1.,   0.,   0.],\n",
       "       [ 67., 120., 229., ...,   0.,   0.,   1.],\n",
       "       ...,\n",
       "       [ 68., 144., 193., ...,   0.,   0.,   1.],\n",
       "       [ 57., 130., 131., ...,   0.,   0.,   1.],\n",
       "       [ 57., 130., 236., ...,   1.,   0.,   0.]])"
      ]
     },
     "execution_count": 14,
     "metadata": {},
     "output_type": "execute_result"
    }
   ],
   "source": [
    "X=np.array(pd.get_dummies(DF.drop(\"num\",1), columns=categorical))\n",
    "print(X.shape)\n",
    "X"
   ]
  },
  {
   "cell_type": "markdown",
   "metadata": {},
   "source": [
    "# Compare Models"
   ]
  },
  {
   "cell_type": "code",
   "execution_count": 15,
   "metadata": {},
   "outputs": [],
   "source": [
    "from sklearn.linear_model import LogisticRegression as LR\n",
    "from sklearn.naive_bayes import GaussianNB\n",
    "from sklearn.neighbors import KNeighborsClassifier as KNN\n",
    "from sklearn.discriminant_analysis import LinearDiscriminantAnalysis as LDA\n",
    "from sklearn.discriminant_analysis import QuadraticDiscriminantAnalysis as QDA\n",
    "from sklearn.svm import SVC\n",
    "from sklearn.model_selection import train_test_split\n",
    "from sklearn.metrics import accuracy_score\n",
    "from sklearn.metrics import roc_curve"
   ]
  },
  {
   "cell_type": "markdown",
   "metadata": {},
   "source": [
    "## return list of prediction errors for a classifier\n",
    "\n",
    "nsplits = number of train/test splits"
   ]
  },
  {
   "cell_type": "code",
   "execution_count": 16,
   "metadata": {},
   "outputs": [],
   "source": [
    "def evaluate(X, Y, MODEL, nsplits=100, PRINT=True):\n",
    "    errs=[]\n",
    "    for j in range(nsplits):\n",
    "        XTRAIN,XTEST,YTRAIN,YTEST=train_test_split(X,Y)\n",
    "        model=MODEL\n",
    "        model.fit(XTRAIN,YTRAIN)\n",
    "        YP=model.predict(XTEST)\n",
    "        errs.append(1-accuracy_score(YTEST,YP))\n",
    "    if PRINT:\n",
    "        print(\"Mean error=%7.5f std=%7.5f\" %(np.mean(errs), np.std(errs)))\n",
    "    return errs"
   ]
  },
  {
   "cell_type": "markdown",
   "metadata": {},
   "source": [
    "### Linear Regression"
   ]
  },
  {
   "cell_type": "code",
   "execution_count": 17,
   "metadata": {},
   "outputs": [
    {
     "name": "stdout",
     "output_type": "stream",
     "text": [
      "Mean error=0.16008 std=0.03831\n"
     ]
    }
   ],
   "source": [
    "LRerrs=evaluate(X,Y,LR(),1000)"
   ]
  },
  {
   "cell_type": "markdown",
   "metadata": {},
   "source": [
    "### Naive Bayes"
   ]
  },
  {
   "cell_type": "code",
   "execution_count": 18,
   "metadata": {},
   "outputs": [
    {
     "name": "stdout",
     "output_type": "stream",
     "text": [
      "Mean error=0.18571 std=0.04131\n"
     ]
    }
   ],
   "source": [
    "NBerrs=evaluate(X,Y,GaussianNB(),1000)"
   ]
  },
  {
   "cell_type": "markdown",
   "metadata": {},
   "source": [
    "### KNN"
   ]
  },
  {
   "cell_type": "code",
   "execution_count": 19,
   "metadata": {},
   "outputs": [
    {
     "name": "stdout",
     "output_type": "stream",
     "text": [
      "Mean error=0.35299 std=0.04916\n"
     ]
    }
   ],
   "source": [
    "KNNerrs=evaluate(X,Y, KNN(), 1000)"
   ]
  },
  {
   "cell_type": "markdown",
   "metadata": {},
   "source": [
    "### LDA"
   ]
  },
  {
   "cell_type": "code",
   "execution_count": 20,
   "metadata": {},
   "outputs": [
    {
     "name": "stderr",
     "output_type": "stream",
     "text": [
      "/home/mathman/.local/lib/python3.6/site-packages/sklearn/discriminant_analysis.py:388: UserWarning: Variables are collinear.\n",
      "  warnings.warn(\"Variables are collinear.\")\n"
     ]
    },
    {
     "name": "stdout",
     "output_type": "stream",
     "text": [
      "Mean error=0.16281 std=0.03821\n"
     ]
    }
   ],
   "source": [
    "LDAerrs=evaluate(X,Y,LDA(),1000)"
   ]
  },
  {
   "cell_type": "markdown",
   "metadata": {},
   "source": [
    "### QDA"
   ]
  },
  {
   "cell_type": "code",
   "execution_count": 21,
   "metadata": {},
   "outputs": [
    {
     "name": "stderr",
     "output_type": "stream",
     "text": [
      "/home/mathman/.local/lib/python3.6/site-packages/sklearn/discriminant_analysis.py:682: UserWarning: Variables are collinear\n",
      "  warnings.warn(\"Variables are collinear\")\n"
     ]
    },
    {
     "name": "stdout",
     "output_type": "stream",
     "text": [
      "Mean error=0.40207 std=0.08210\n"
     ]
    }
   ],
   "source": [
    "QDAerrs=evaluate(X,Y,QDA(),1000)"
   ]
  },
  {
   "cell_type": "markdown",
   "metadata": {},
   "source": [
    "### SVM"
   ]
  },
  {
   "cell_type": "code",
   "execution_count": 22,
   "metadata": {},
   "outputs": [
    {
     "name": "stdout",
     "output_type": "stream",
     "text": [
      "Mean error=0.44457 std=0.05444\n"
     ]
    }
   ],
   "source": [
    "SVMerrs=evaluate(X,Y,SVC(kernel=\"rbf\"),1000)"
   ]
  },
  {
   "cell_type": "markdown",
   "metadata": {},
   "source": [
    "### 7-7-7 ANN"
   ]
  },
  {
   "cell_type": "code",
   "execution_count": 23,
   "metadata": {},
   "outputs": [],
   "source": [
    "from sklearn.neural_network import MLPClassifier as ANN"
   ]
  },
  {
   "cell_type": "code",
   "execution_count": 24,
   "metadata": {},
   "outputs": [
    {
     "name": "stdout",
     "output_type": "stream",
     "text": [
      "Mean error=0.19299 std=0.06175\n"
     ]
    }
   ],
   "source": [
    "ANNerrs=evaluate(X,Y,ANN(hidden_layer_sizes=(7,7,7),solver='lbfgs',random_state=1,\n",
    "                alpha=1e-5),1000,PRINT=True);"
   ]
  },
  {
   "cell_type": "markdown",
   "metadata": {},
   "source": [
    "### Random Forest"
   ]
  },
  {
   "cell_type": "code",
   "execution_count": 25,
   "metadata": {},
   "outputs": [
    {
     "name": "stderr",
     "output_type": "stream",
     "text": [
      "/home/mathman/.local/lib/python3.6/site-packages/sklearn/ensemble/weight_boosting.py:29: DeprecationWarning: numpy.core.umath_tests is an internal NumPy module and should not be imported. It will be removed in a future NumPy release.\n",
      "  from numpy.core.umath_tests import inner1d\n"
     ]
    }
   ],
   "source": [
    "from sklearn.ensemble import RandomForestClassifier as RF"
   ]
  },
  {
   "cell_type": "code",
   "execution_count": 26,
   "metadata": {},
   "outputs": [
    {
     "name": "stdout",
     "output_type": "stream",
     "text": [
      "Mean error=0.20273 std=0.04235\n"
     ]
    }
   ],
   "source": [
    "RFerrs=evaluate(X,Y,RF(),1000)"
   ]
  },
  {
   "cell_type": "markdown",
   "metadata": {},
   "source": [
    "### Full Decision Tree"
   ]
  },
  {
   "cell_type": "code",
   "execution_count": 27,
   "metadata": {},
   "outputs": [
    {
     "name": "stdout",
     "output_type": "stream",
     "text": [
      "Mean error=0.26828 std=0.04697\n"
     ]
    }
   ],
   "source": [
    "from sklearn.tree import DecisionTreeClassifier as DT\n",
    "DTerrs = evaluate(X,Y,DT(),1000)"
   ]
  },
  {
   "cell_type": "markdown",
   "metadata": {},
   "source": [
    "## Boxplot comparing different classifiers"
   ]
  },
  {
   "cell_type": "code",
   "execution_count": 28,
   "metadata": {
    "scrolled": false
   },
   "outputs": [
    {
     "data": {
      "image/png": "[encoded data removed]",
      "text/plain": [
       "<Figure size 648x360 with 1 Axes>"
      ]
     },
     "metadata": {
      "needs_background": "light"
     },
     "output_type": "display_data"
    }
   ],
   "source": [
    "plt.boxplot([LRerrs,NBerrs,KNNerrs, LDAerrs,QDAerrs, SVMerrs, ANNerrs, DTerrs,\n",
    "            RFerrs])\n",
    "plt.xticks(range(1,10),[\"Logistic\\nRegression\", \"GNB\", \"KNN\", \"LDA\", \"QDA\", \"SVM\", \n",
    "                       \"ANN\", \"DT\", \"Random\\nForest\"]);\n",
    "plt.ylabel(\"Classification Error\", fontsize=12)\n",
    "#plt.title(\"Heart Disease Clasification\")\n",
    "plt.gcf().set_size_inches(9,5)\n",
    "plt.gcf().tight_layout()\n",
    "plt.grid(axis=\"y\")\n",
    "plt.gcf().savefig(\"heart-disease-boxplots.pdf\")"
   ]
  },
  {
   "cell_type": "code",
   "execution_count": 29,
   "metadata": {},
   "outputs": [
    {
     "data": {
      "image/png": "[encoded data removed]",
      "text/plain": [
       "<Figure size 720x576 with 9 Axes>"
      ]
     },
     "metadata": {
      "needs_background": "light"
     },
     "output_type": "display_data"
    }
   ],
   "source": [
    "fig,ax=plt.subplots(nrows=3,ncols=3,sharex=True)\n",
    "h=ax[0][0].hist(LRerrs,color=\"dodgerblue\",edgecolor=\"k\",label=\"Logistic\\nRegression\")\n",
    "ax[0][1].hist(NBerrs,color=\"pink\",edgecolor=\"k\",label=\"Naive\\nBayes\")\n",
    "ax[0][2].hist(KNNerrs,color=\"lightblue\",edgecolor=\"k\",label=\"KNN\")\n",
    "ax[1][0].hist(LDAerrs,color=\"honeydew\",edgecolor=\"k\",label=\"LDA\")\n",
    "ax[1][1].hist(QDAerrs,color=\"mistyrose\",edgecolor=\"k\",label=\"QDA\")\n",
    "ax[1][2].hist(SVMerrs,color=\"darksalmon\",edgecolor=\"k\",label=\"SVM\")\n",
    "ax[2][0].hist(ANNerrs,color=\"SpringGreen\",edgecolor=\"k\",label=\"ANN (7,7,7)\")\n",
    "ax[2][1].hist(DTerrs,color=\"Peru\",edgecolor=\"k\",label=\"Decision\\nTree\")\n",
    "ax[2][2].hist(RFerrs,color=\"fuchsia\",edgecolor=\"k\",label=\"Random\\nForests\")\n",
    "\n",
    "for j in range(3): \n",
    "    for k in range(3): ax[j][k].legend(frameon=False)\n",
    "fig.set_size_inches(10,8)\n",
    "fig.tight_layout()\n",
    "#fig.suptitle(\"Error Frequency Histograms (Heart Disease Data)\",fontsize=16);\n",
    "fig.savefig(\"heart-disease-histograms.pdf\")"
   ]
  },
  {
   "cell_type": "markdown",
   "metadata": {},
   "source": [
    "## Generate ROC Curves for Heart Disease Classification Data"
   ]
  },
  {
   "cell_type": "code",
   "execution_count": 30,
   "metadata": {},
   "outputs": [],
   "source": [
    "def ROC(X, Y, MODEL):\n",
    "    XTRAIN,XTEST,YTRAIN,YTEST=train_test_split(X,Y)\n",
    "    model=MODEL\n",
    "    model.fit(XTRAIN,YTRAIN)\n",
    "    YPR=model.predict_proba(XTEST)[:,1]\n",
    "    F,T,THRESH=roc_curve(YTEST,YPR)\n",
    "    return(F,T)"
   ]
  },
  {
   "cell_type": "markdown",
   "metadata": {},
   "source": [
    "### ROC Data for Linear Regression"
   ]
  },
  {
   "cell_type": "code",
   "execution_count": 31,
   "metadata": {},
   "outputs": [],
   "source": [
    "LRF,LRT=ROC(X,Y,LR())"
   ]
  },
  {
   "cell_type": "markdown",
   "metadata": {},
   "source": [
    "### ROC data for Naive Bayes"
   ]
  },
  {
   "cell_type": "code",
   "execution_count": 32,
   "metadata": {},
   "outputs": [],
   "source": [
    "NBF,NBT=ROC(X,Y,GaussianNB())"
   ]
  },
  {
   "cell_type": "markdown",
   "metadata": {},
   "source": [
    "### ROC Data for KNN"
   ]
  },
  {
   "cell_type": "code",
   "execution_count": 33,
   "metadata": {},
   "outputs": [],
   "source": [
    "KNNF,KNNT=ROC(X,Y,KNN())"
   ]
  },
  {
   "cell_type": "markdown",
   "metadata": {},
   "source": [
    "### ROC Data for LDA"
   ]
  },
  {
   "cell_type": "code",
   "execution_count": 34,
   "metadata": {},
   "outputs": [
    {
     "name": "stderr",
     "output_type": "stream",
     "text": [
      "/home/mathman/.local/lib/python3.6/site-packages/sklearn/discriminant_analysis.py:388: UserWarning: Variables are collinear.\n",
      "  warnings.warn(\"Variables are collinear.\")\n"
     ]
    }
   ],
   "source": [
    "LDAF,LDAT=ROC(X,Y,LDA())"
   ]
  },
  {
   "cell_type": "markdown",
   "metadata": {},
   "source": [
    "### ROC Data for QDA"
   ]
  },
  {
   "cell_type": "code",
   "execution_count": 35,
   "metadata": {},
   "outputs": [
    {
     "name": "stderr",
     "output_type": "stream",
     "text": [
      "/home/mathman/.local/lib/python3.6/site-packages/sklearn/discriminant_analysis.py:682: UserWarning: Variables are collinear\n",
      "  warnings.warn(\"Variables are collinear\")\n"
     ]
    }
   ],
   "source": [
    "QDAF,QDAT=ROC(X,Y,QDA())"
   ]
  },
  {
   "cell_type": "markdown",
   "metadata": {},
   "source": [
    "### ROC Data for SVM"
   ]
  },
  {
   "cell_type": "code",
   "execution_count": 36,
   "metadata": {},
   "outputs": [],
   "source": [
    "SVMF,SVMT=ROC(X,Y,SVC(probability=True))"
   ]
  },
  {
   "cell_type": "markdown",
   "metadata": {},
   "source": [
    "### ROC Data for ANN"
   ]
  },
  {
   "cell_type": "code",
   "execution_count": 37,
   "metadata": {},
   "outputs": [],
   "source": [
    "AF, AT = ROC(X,Y, ANN(hidden_layer_sizes=(7,7,7),solver='lbfgs',random_state=1,\n",
    "                alpha=1e-5))"
   ]
  },
  {
   "cell_type": "markdown",
   "metadata": {},
   "source": [
    "### ROC Data for RF"
   ]
  },
  {
   "cell_type": "code",
   "execution_count": 38,
   "metadata": {},
   "outputs": [],
   "source": [
    "RFF, RFT = ROC(X,Y, RF())"
   ]
  },
  {
   "cell_type": "markdown",
   "metadata": {},
   "source": [
    "### ROC Data for Decision Tree"
   ]
  },
  {
   "cell_type": "code",
   "execution_count": 39,
   "metadata": {},
   "outputs": [],
   "source": [
    "DTF, DTT = ROC(X,Y, DT())"
   ]
  },
  {
   "cell_type": "code",
   "execution_count": 40,
   "metadata": {},
   "outputs": [
    {
     "data": {
      "image/png": "[encoded data removed]",
      "text/plain": [
       "<Figure size 432x432 with 1 Axes>"
      ]
     },
     "metadata": {
      "needs_background": "light"
     },
     "output_type": "display_data"
    }
   ],
   "source": [
    "plt.plot(LRF,LRT,label=\"Logistic Regression\")\n",
    "plt.plot(NBF,NBT,label=\"Naive Bayes\")\n",
    "plt.plot(KNNF,KNNT,label=\"KNN\")\n",
    "plt.plot(LDAF,LDAT,label=\"LDA\")\n",
    "plt.plot(QDAF,QDAT,label=\"QDA\")\n",
    "plt.plot(SVMF,SVMT,label=\"SVM\")\n",
    "plt.plot(AF, AT, label=\"ANN (7,7,7)\", ls=\":\")\n",
    "plt.plot(RFF, RFT, label=\"Random Forests\", ls=\"--\")\n",
    "plt.plot(DTF, DTT, label=\"Decision Tree\", ls=\"-.\")\n",
    "plt.xlabel(\"False Positive Rate\", fontsize=12)\n",
    "plt.ylabel(\"True Positive Rate\",fontsize=12)\n",
    "#plt.title(\"Comparison of Methods\\nFor Heart Disease Data\",fontsize=15)\n",
    "plt.plot([0,1],[0,1],c=\"k\",ls=\"--\")\n",
    "plt.legend(fontsize=12,frameon=False)\n",
    "plt.grid()\n",
    "plt.gcf().tight_layout()\n",
    "plt.gcf().set_size_inches(6,6)\n",
    "plt.gcf().savefig(\"Heart-Disease-roc.pdf\")"
   ]
  },
  {
   "cell_type": "code",
   "execution_count": null,
   "metadata": {},
   "outputs": [],
   "source": []
  }
 ],
 "metadata": {
  "kernelspec": {
   "display_name": "Python 3",
   "language": "python",
   "name": "python3"
  },
  "language_info": {
   "codemirror_mode": {
    "name": "ipython",
    "version": 3
   },
   "file_extension": ".py",
   "mimetype": "text/x-python",
   "name": "python",
   "nbconvert_exporter": "python",
   "pygments_lexer": "ipython3",
   "version": "3.6.7"
  }
 },
 "nbformat": 4,
 "nbformat_minor": 2
}
