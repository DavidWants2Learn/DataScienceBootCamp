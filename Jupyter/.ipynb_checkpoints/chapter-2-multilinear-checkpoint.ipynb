{
 "cells": [
  {
   "cell_type": "markdown",
   "metadata": {},
   "source": [
    "# Getting Started in Machine Learning \n",
    "\n",
    "## Chapter 2: Multilinear Regression\n",
    "\n",
    "This notebook contains examples from the book: \n",
    "\n",
    "_Getting Started in Machine Learning: Easy Recipes for Python 3, Scikit-Learn, Jupyter_ (2019) by Bella Romeo, Sherwood Forest Books, Los Angeles, CA, USA, ISBN-13: 978-0-9966860-6-8\n",
    "\n",
    "(c) Copyright 2019. \n",
    "\n"
   ]
  },
  {
   "cell_type": "markdown",
   "metadata": {},
   "source": [
    "    This notebook is free software: you can redistribute it and/or modify\n",
    "    it under the terms of the GNU General Public License as published by\n",
    "    the Free Software Foundation, either version 3 of the License, or\n",
    "    (at your option) any later version.\n",
    "\n",
    "    This program is distributed in the hope that it will be useful,\n",
    "    but WITHOUT ANY WARRANTY; without even the implied warranty of\n",
    "    MERCHANTABILITY or FITNESS FOR A PARTICULAR PURPOSE.  See the\n",
    "    GNU General Public License for more details.\n",
    "\n",
    "    You should have received a copy of the GNU General Public License\n",
    "    along with this program. If not, see <https://www.gnu.org/licenses/>."
   ]
  },
  {
   "cell_type": "markdown",
   "metadata": {},
   "source": [
    "# multiple linear regression with sklearn"
   ]
  },
  {
   "cell_type": "code",
   "execution_count": 1,
   "metadata": {},
   "outputs": [],
   "source": [
    "import numpy as np\n",
    "import pandas as pd"
   ]
  },
  {
   "cell_type": "markdown",
   "metadata": {},
   "source": [
    "## Read the Computer Hardware Data Set"
   ]
  },
  {
   "cell_type": "code",
   "execution_count": 3,
   "metadata": {},
   "outputs": [
    {
     "data": {
      "text/html": [
       "<div>\n",
       "<style scoped>\n",
       "    .dataframe tbody tr th:only-of-type {\n",
       "        vertical-align: middle;\n",
       "    }\n",
       "\n",
       "    .dataframe tbody tr th {\n",
       "        vertical-align: top;\n",
       "    }\n",
       "\n",
       "    .dataframe thead th {\n",
       "        text-align: right;\n",
       "    }\n",
       "</style>\n",
       "<table border=\"1\" class=\"dataframe\">\n",
       "  <thead>\n",
       "    <tr style=\"text-align: right;\">\n",
       "      <th></th>\n",
       "      <th>vendor</th>\n",
       "      <th>Model</th>\n",
       "      <th>MYCT</th>\n",
       "      <th>MMIN</th>\n",
       "      <th>MMAX</th>\n",
       "      <th>CACH</th>\n",
       "      <th>CHMIN</th>\n",
       "      <th>CHMAX</th>\n",
       "      <th>PRP</th>\n",
       "      <th>ERP</th>\n",
       "    </tr>\n",
       "  </thead>\n",
       "  <tbody>\n",
       "    <tr>\n",
       "      <th>0</th>\n",
       "      <td>adviser</td>\n",
       "      <td>32/60</td>\n",
       "      <td>125</td>\n",
       "      <td>256</td>\n",
       "      <td>6000</td>\n",
       "      <td>256</td>\n",
       "      <td>16</td>\n",
       "      <td>128</td>\n",
       "      <td>198</td>\n",
       "      <td>199</td>\n",
       "    </tr>\n",
       "    <tr>\n",
       "      <th>1</th>\n",
       "      <td>amdahl</td>\n",
       "      <td>470v/7</td>\n",
       "      <td>29</td>\n",
       "      <td>8000</td>\n",
       "      <td>32000</td>\n",
       "      <td>32</td>\n",
       "      <td>8</td>\n",
       "      <td>32</td>\n",
       "      <td>269</td>\n",
       "      <td>253</td>\n",
       "    </tr>\n",
       "    <tr>\n",
       "      <th>2</th>\n",
       "      <td>amdahl</td>\n",
       "      <td>470v/7a</td>\n",
       "      <td>29</td>\n",
       "      <td>8000</td>\n",
       "      <td>32000</td>\n",
       "      <td>32</td>\n",
       "      <td>8</td>\n",
       "      <td>32</td>\n",
       "      <td>220</td>\n",
       "      <td>253</td>\n",
       "    </tr>\n",
       "    <tr>\n",
       "      <th>3</th>\n",
       "      <td>amdahl</td>\n",
       "      <td>470v/7b</td>\n",
       "      <td>29</td>\n",
       "      <td>8000</td>\n",
       "      <td>32000</td>\n",
       "      <td>32</td>\n",
       "      <td>8</td>\n",
       "      <td>32</td>\n",
       "      <td>172</td>\n",
       "      <td>253</td>\n",
       "    </tr>\n",
       "    <tr>\n",
       "      <th>4</th>\n",
       "      <td>amdahl</td>\n",
       "      <td>470v/7c</td>\n",
       "      <td>29</td>\n",
       "      <td>8000</td>\n",
       "      <td>16000</td>\n",
       "      <td>32</td>\n",
       "      <td>8</td>\n",
       "      <td>16</td>\n",
       "      <td>132</td>\n",
       "      <td>132</td>\n",
       "    </tr>\n",
       "  </tbody>\n",
       "</table>\n",
       "</div>"
      ],
      "text/plain": [
       "    vendor    Model  MYCT  MMIN   MMAX  CACH  CHMIN  CHMAX  PRP  ERP\n",
       "0  adviser    32/60   125   256   6000   256     16    128  198  199\n",
       "1   amdahl   470v/7    29  8000  32000    32      8     32  269  253\n",
       "2   amdahl  470v/7a    29  8000  32000    32      8     32  220  253\n",
       "3   amdahl  470v/7b    29  8000  32000    32      8     32  172  253\n",
       "4   amdahl  470v/7c    29  8000  16000    32      8     16  132  132"
      ]
     },
     "execution_count": 3,
     "metadata": {},
     "output_type": "execute_result"
    }
   ],
   "source": [
    "data = pd.read_csv(\"https://archive.ics.uci.edu/ml/machine-learning-databases/cpu-performance/machine.data\",\n",
    "                  header=None)\n",
    "data.columns=[\"vendor\",\"Model\",\"MYCT\",\"MMIN\", \"MMAX\",\"CACH\",\"CHMIN\",\n",
    "              \"CHMAX\",\"PRP\",\"ERP\"]\n",
    "data[:5]"
   ]
  },
  {
   "cell_type": "markdown",
   "metadata": {},
   "source": [
    "## Extract X and Y data and convert to arays"
   ]
  },
  {
   "cell_type": "code",
   "execution_count": 4,
   "metadata": {},
   "outputs": [
    {
     "name": "stdout",
     "output_type": "stream",
     "text": [
      "209\n"
     ]
    }
   ],
   "source": [
    "X=np.array(data[[\"MYCT\",\"MMIN\",\"MMAX\",\"CACH\",\"CHMIN\",\"CHMAX\"]])\n",
    "Y=np.array(data[\"PRP\"])\n",
    "ndata=len(X)\n",
    "print(ndata)"
   ]
  },
  {
   "cell_type": "code",
   "execution_count": 5,
   "metadata": {},
   "outputs": [
    {
     "data": {
      "text/plain": [
       "array([[  125,   256,  6000,   256,    16,   128],\n",
       "       [   29,  8000, 32000,    32,     8,    32],\n",
       "       [   29,  8000, 32000,    32,     8,    32]])"
      ]
     },
     "execution_count": 5,
     "metadata": {},
     "output_type": "execute_result"
    }
   ],
   "source": [
    "X[:3]"
   ]
  },
  {
   "cell_type": "markdown",
   "metadata": {},
   "source": [
    "## divide into test and training sets"
   ]
  },
  {
   "cell_type": "code",
   "execution_count": 6,
   "metadata": {},
   "outputs": [],
   "source": [
    "import random\n",
    "indices=list(range(ndata))\n",
    "random.shuffle(indices)\n",
    "ntrain=round(.75*ndata)\n",
    "training_indices=indices[:ntrain]\n",
    "test_indices=indices[ntrain:]"
   ]
  },
  {
   "cell_type": "code",
   "execution_count": 7,
   "metadata": {},
   "outputs": [],
   "source": [
    "XTRAIN=X[training_indices]\n",
    "YTRAIN=Y[training_indices].reshape(-1,1)\n",
    "XTEST=X[test_indices]\n",
    "YTEST=Y[test_indices].reshape(-1,1)"
   ]
  },
  {
   "cell_type": "markdown",
   "metadata": {},
   "source": [
    "## Display some of the data"
   ]
  },
  {
   "cell_type": "code",
   "execution_count": 8,
   "metadata": {},
   "outputs": [
    {
     "name": "stdout",
     "output_type": "stream",
     "text": [
      "[[ 320  256 6000    0    1    6]\n",
      " [ 140 2000 4000    0    4    8]\n",
      " [ 810  512  512    8    1    1]]\n",
      "[[33]\n",
      " [40]\n",
      " [18]]\n"
     ]
    }
   ],
   "source": [
    "print(XTRAIN[:3])\n",
    "print(YTRAIN[:3])"
   ]
  },
  {
   "cell_type": "markdown",
   "metadata": {},
   "source": [
    "## Multilinear regression with scikit learn"
   ]
  },
  {
   "cell_type": "code",
   "execution_count": 9,
   "metadata": {},
   "outputs": [],
   "source": [
    "from sklearn.linear_model import LinearRegression\n",
    "from sklearn.metrics import mean_squared_error, r2_score"
   ]
  },
  {
   "cell_type": "code",
   "execution_count": 10,
   "metadata": {},
   "outputs": [],
   "source": [
    "r=LinearRegression().fit(XTRAIN,YTRAIN)"
   ]
  },
  {
   "cell_type": "code",
   "execution_count": 11,
   "metadata": {},
   "outputs": [
    {
     "data": {
      "text/plain": [
       "LinearRegression(copy_X=True, fit_intercept=True, n_jobs=1, normalize=False)"
      ]
     },
     "execution_count": 11,
     "metadata": {},
     "output_type": "execute_result"
    }
   ],
   "source": [
    "r"
   ]
  },
  {
   "cell_type": "code",
   "execution_count": 12,
   "metadata": {},
   "outputs": [
    {
     "name": "stdout",
     "output_type": "stream",
     "text": [
      "[-63.35970158]\n"
     ]
    }
   ],
   "source": [
    "print(r.intercept_)"
   ]
  },
  {
   "cell_type": "code",
   "execution_count": 13,
   "metadata": {},
   "outputs": [
    {
     "name": "stdout",
     "output_type": "stream",
     "text": [
      "[[ 0.05512868  0.01538459  0.00656091  0.44690686 -0.66659249  1.54997284]]\n"
     ]
    }
   ],
   "source": [
    "print(r.coef_)"
   ]
  },
  {
   "cell_type": "markdown",
   "metadata": {},
   "source": [
    "## Make a prediction with sklearn"
   ]
  },
  {
   "cell_type": "code",
   "execution_count": 14,
   "metadata": {},
   "outputs": [],
   "source": [
    "P=r.predict(XTEST)"
   ]
  },
  {
   "cell_type": "code",
   "execution_count": 15,
   "metadata": {},
   "outputs": [
    {
     "name": "stdout",
     "output_type": "stream",
     "text": [
      "0.6761110787144958 3570.4906192972503\n"
     ]
    }
   ],
   "source": [
    "R2=r2_score(YTEST,P)\n",
    "MSE = mean_squared_error(YTEST,P)\n",
    "print(R2,MSE)"
   ]
  },
  {
   "cell_type": "markdown",
   "metadata": {},
   "source": [
    "## Define functions to calculate the Normal matrix"
   ]
  },
  {
   "cell_type": "code",
   "execution_count": 16,
   "metadata": {},
   "outputs": [],
   "source": [
    "def Normal_Matrix(xdata, ydata):\n",
    "    if xdata.ndim != 2:\n",
    "        print(\"Not a 2x2 array\")\n",
    "        return(float(\"NAN\"))\n",
    "    nrows,ncols=xdata.shape\n",
    "    column_ones=np.ones((nrows,1))\n",
    "    A=np.hstack((column_ones, xdata))\n",
    "\n",
    "    AT=A.T\n",
    "    N=AT.dot(A)\n",
    "    ATy = AT.dot(ydata)\n",
    "    \n",
    "    return(N,ATy)\n",
    "N, ATY=Normal_Matrix(XTRAIN,YTRAIN)"
   ]
  },
  {
   "cell_type": "code",
   "execution_count": 17,
   "metadata": {},
   "outputs": [],
   "source": [
    "import numpy.linalg"
   ]
  },
  {
   "cell_type": "code",
   "execution_count": 18,
   "metadata": {},
   "outputs": [
    {
     "data": {
      "text/plain": [
       "array([[-6.33597016e+01],\n",
       "       [ 5.51286788e-02],\n",
       "       [ 1.53845925e-02],\n",
       "       [ 6.56091453e-03],\n",
       "       [ 4.46906859e-01],\n",
       "       [-6.66592491e-01],\n",
       "       [ 1.54997284e+00]])"
      ]
     },
     "execution_count": 18,
     "metadata": {},
     "output_type": "execute_result"
    }
   ],
   "source": [
    "sol=numpy.linalg.solve(N,ATY)\n",
    "sol"
   ]
  },
  {
   "cell_type": "code",
   "execution_count": 19,
   "metadata": {},
   "outputs": [
    {
     "data": {
      "text/plain": [
       "array([[-6.336e+01],\n",
       "       [ 5.500e-02],\n",
       "       [ 1.500e-02],\n",
       "       [ 7.000e-03],\n",
       "       [ 4.470e-01],\n",
       "       [-6.670e-01],\n",
       "       [ 1.550e+00]])"
      ]
     },
     "execution_count": 19,
     "metadata": {},
     "output_type": "execute_result"
    }
   ],
   "source": [
    "s=np.around(np.linalg.solve(N,ATY),3)\n",
    "s"
   ]
  },
  {
   "cell_type": "code",
   "execution_count": 20,
   "metadata": {},
   "outputs": [],
   "source": [
    "def predicted_values(coefficients, xvalues):\n",
    "    n=len(coefficients)\n",
    "    nvectors, nfeatures=xvalues.shape\n",
    "    if n!= nfeatures+1:\n",
    "        print(\"The number of coefficients is\",n,\"the vectors have length\",nfeatures)\n",
    "        return(float(\"NAN\"))\n",
    "    output=[]\n",
    "    for vector in xvalues:\n",
    "        U=np.append([1],vector)\n",
    "        y=float(U.dot(coefficients))\n",
    "        output.append(y)\n",
    "    output=np.array(output).reshape(-1,1)\n",
    "    return (output)\n",
    "PRE=predicted_values(sol,XTEST)"
   ]
  },
  {
   "cell_type": "code",
   "execution_count": 21,
   "metadata": {},
   "outputs": [],
   "source": [
    "def MSS(YO, YP):\n",
    "    n=len(YP)\n",
    "    return(float(sum((YO-YP)**2)/n))\n",
    "def TSS(YOBS):\n",
    "    ybar = np.mean(YOBS)\n",
    "    return(float(sum((ybar-YOBS)**2)))"
   ]
  },
  {
   "cell_type": "code",
   "execution_count": 22,
   "metadata": {},
   "outputs": [
    {
     "name": "stdout",
     "output_type": "stream",
     "text": [
      "An estimate of the MSE using the Normal Equations is  3570.4906192972785\n"
     ]
    }
   ],
   "source": [
    "print(\"An estimate of the MSE using the Normal Equations is \",MSS(YTEST, PRE))"
   ]
  },
  {
   "cell_type": "code",
   "execution_count": 23,
   "metadata": {},
   "outputs": [
    {
     "name": "stdout",
     "output_type": "stream",
     "text": [
      "An estimate of R^2 is 0.6761110787144933\n"
     ]
    }
   ],
   "source": [
    "def MYR2(YOBS,YPRE):\n",
    "    n=len(YOBS)\n",
    "    rss=n*MSS(YOBS,YPRE)\n",
    "    tss=TSS(YOBS)\n",
    "    return(1-rss/tss)\n",
    "print(\"An estimate of R^2 is\", MYR2(YTEST,PRE))"
   ]
  },
  {
   "cell_type": "markdown",
   "metadata": {},
   "source": [
    "## Use model_selection train_test_split"
   ]
  },
  {
   "cell_type": "code",
   "execution_count": 90,
   "metadata": {},
   "outputs": [],
   "source": [
    "from sklearn.model_selection import train_test_split\n",
    "from sklearn.linear_model import LinearRegression\n",
    "from sklearn.metrics import mean_squared_error, r2_score"
   ]
  },
  {
   "cell_type": "code",
   "execution_count": 91,
   "metadata": {},
   "outputs": [],
   "source": [
    "X=np.array(data[[\"MYCT\",\"MMIN\",\"MMAX\",\"CACH\",\"CHMIN\",\"CHMAX\"]])\n",
    "Y=np.array(data[\"PRP\"]).reshape(-1,1)"
   ]
  },
  {
   "cell_type": "code",
   "execution_count": 92,
   "metadata": {},
   "outputs": [],
   "source": [
    "XTRAIN, XTEST, YTRAIN, YTEST = train_test_split(X,Y)"
   ]
  },
  {
   "cell_type": "code",
   "execution_count": 93,
   "metadata": {},
   "outputs": [
    {
     "name": "stdout",
     "output_type": "stream",
     "text": [
      "The intercept is  [-62.03636686]\n"
     ]
    }
   ],
   "source": [
    "LR=LinearRegression()\n",
    "reg=LR.fit(XTRAIN,YTRAIN)\n",
    "print(\"The intercept is \", reg.intercept_)"
   ]
  },
  {
   "cell_type": "code",
   "execution_count": 94,
   "metadata": {},
   "outputs": [
    {
     "name": "stdout",
     "output_type": "stream",
     "text": [
      "The coefficients are\n",
      " [[ 0.06104161  0.01466434  0.00527632  1.02699926 -1.77763521  1.94911414]]\n"
     ]
    }
   ],
   "source": [
    "print(\"The coefficients are\\n\", reg.coef_)"
   ]
  },
  {
   "cell_type": "code",
   "execution_count": 45,
   "metadata": {},
   "outputs": [
    {
     "name": "stdout",
     "output_type": "stream",
     "text": [
      "R^2= 0.829  MSE= 6267.859\n"
     ]
    }
   ],
   "source": [
    "YP=reg.predict(XTEST)\n",
    "R2=r2_score(YTEST,YP)\n",
    "MSE = mean_squared_error(YTEST,YP)\n",
    "print(\"R^2=\",round(R2,3),\" MSE=\",round(MSE,3))"
   ]
  },
  {
   "cell_type": "markdown",
   "metadata": {},
   "source": [
    "## How important is the randomization??"
   ]
  },
  {
   "cell_type": "code",
   "execution_count": 65,
   "metadata": {},
   "outputs": [
    {
     "name": "stdout",
     "output_type": "stream",
     "text": [
      "0.7595722806940398 0.16102561783547503\n",
      "5313.946885768998 3419.738741403978\n"
     ]
    }
   ],
   "source": [
    "r2s=[]\n",
    "MSES=[]\n",
    "n=2000\n",
    "for j in range(n):\n",
    "    XTRAIN, XTEST, YTRAIN, YTEST = train_test_split(X,Y)\n",
    "    LR=LinearRegression()\n",
    "    reg=LR.fit(XTRAIN,YTRAIN)\n",
    "    YP=reg.predict(XTEST)\n",
    "    R2=r2_score(YTEST,YP)\n",
    "    MSE = mean_squared_error(YTEST,YP)\n",
    "    r2s.append(R2)\n",
    "    MSES.append(MSE)\n",
    "print(np.mean(r2s), np.std(r2s))\n",
    "print(np.mean(MSES), np.std(MSES))"
   ]
  },
  {
   "cell_type": "code",
   "execution_count": 66,
   "metadata": {},
   "outputs": [],
   "source": [
    "import matplotlib.pyplot as plt\n",
    "%matplotlib inline"
   ]
  },
  {
   "cell_type": "code",
   "execution_count": 97,
   "metadata": {},
   "outputs": [
    {
     "data": {
      "image/png": "[encoded data removed]",
      "text/plain": [
       "<Figure size 432x288 with 1 Axes>"
      ]
     },
     "metadata": {
      "needs_background": "light"
     },
     "output_type": "display_data"
    }
   ],
   "source": [
    "plt.hist(MSES,color=\"pink\",edgecolor=\"black\",bins=np.linspace(1000,20000,20));\n",
    "#plt.yscale(\"log\")\n",
    "#plt.yticks([1,3,10,30,100,300,1000],[1,3,10,30,100,300,1000]);\n",
    "plt.xticks(range(5000,25000, 5000));\n",
    "plt.grid()\n",
    "plt.xlabel(\"MSE (Mean Square Error)\")\n",
    "plt.ylabel(\"Frequency\")\n",
    "fig=plt.gcf()\n",
    "fig.savefig(\"MSE-Histogram-Multilinear-Regression.pdf\")"
   ]
  },
  {
   "cell_type": "code",
   "execution_count": 98,
   "metadata": {},
   "outputs": [
    {
     "data": {
      "image/png": "[encoded data removed]",
      "text/plain": [
       "<Figure size 432x288 with 1 Axes>"
      ]
     },
     "metadata": {
      "needs_background": "light"
     },
     "output_type": "display_data"
    }
   ],
   "source": [
    "plt.hist(r2s,color=\"lightgreen\",edgecolor=\"black\", bins=np.linspace(0,1,11));\n",
    "#plt.yscale(\"log\")\n",
    "plt.grid()\n",
    "plt.xlabel(\"$R^2$ value\")\n",
    "plt.ylabel(\"Frequency\")\n",
    "fig=plt.gcf()\n",
    "fig.savefig(\"R2-Histogram-Multilinear-Regression.pdf\")"
   ]
  },
  {
   "cell_type": "code",
   "execution_count": null,
   "metadata": {},
   "outputs": [],
   "source": []
  },
  {
   "cell_type": "code",
   "execution_count": null,
   "metadata": {},
   "outputs": [],
   "source": []
  }
 ],
 "metadata": {
  "kernelspec": {
   "display_name": "Python 3",
   "language": "python",
   "name": "python3"
  },
  "language_info": {
   "codemirror_mode": {
    "name": "ipython",
    "version": 3
   },
   "file_extension": ".py",
   "mimetype": "text/x-python",
   "name": "python",
   "nbconvert_exporter": "python",
   "pygments_lexer": "ipython3",
   "version": "3.7.3"
  }
 },
 "nbformat": 4,
 "nbformat_minor": 2
}
